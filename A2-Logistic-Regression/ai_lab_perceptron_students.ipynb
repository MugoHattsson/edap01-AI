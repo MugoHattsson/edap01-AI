{
 "cells": [
  {
   "cell_type": "markdown",
   "id": "sacred-connecticut",
   "metadata": {},
   "source": [
    "# Classification with the perceptron and logistic regression\n",
    "\n",
    "__Individual assignment__\n",
    "\n",
    "Author of the assignment: Pierre Nugues\n",
    "\n",
    "__Student name__:"
   ]
  },
  {
   "cell_type": "markdown",
   "id": "single-jackson",
   "metadata": {},
   "source": [
    "## Objectives\n",
    "\n",
    "The objectives of this second assignment are to:\n",
    "\n",
    "1.  Write a linear regression program using gradient descent;\n",
    "2.  Write linear classifiers using the perceptron algorithm and logistic regression;\n",
    "3.  Experiment variations of the algorithms;\n",
    "4.  Evaluate your classifiers;\n",
    "5.  Experiment with popular tools;\n",
    "6.  Read a scientific article on optimization techniques and comment it;\n",
    "7.  Present your code, results, and comments in a short dissertation."
   ]
  },
  {
   "cell_type": "markdown",
   "id": "photographic-coral",
   "metadata": {},
   "source": [
    "## Overview\n",
    "\n",
    "The gradient descent is a basic technique to estimate linear discriminant functions. You will first use the gradient descent method to implement linear regression. You will then program the perceptron algorithm. Finally, you will improve the threshold function with the logistic curve (logistic regression). You will try various configurations and study their influence on the learning speed and accuracy."
   ]
  },
  {
   "cell_type": "markdown",
   "id": "express-external",
   "metadata": {},
   "source": [
    "##  Programming language\n",
    "As programming language, you will use Python and write your code in this notebook.\n",
    "\n",
    "You need to have a comprehensive Python distribution such as Anaconda (https://www.anaconda.com/products/individual). This distribution is available on the student computers at the computer science department.\n",
    "Finally, you start a notebook by typing:\n",
    "\n",
    "`jupyter lab`\n",
    "\n",
    "in a terminal window and you select the notebook by clicking on it in the left pane.\n",
    "You run the pieces of code by typing shift+enter."
   ]
  },
  {
   "cell_type": "markdown",
   "id": "adjacent-crawford",
   "metadata": {},
   "source": [
    "## Imports\n",
    "Imports you may use"
   ]
  },
  {
   "cell_type": "code",
   "execution_count": 285,
   "id": "demanding-violence",
   "metadata": {},
   "outputs": [],
   "source": [
    "import numpy as np\n",
    "import math\n",
    "import vector\n",
    "import matplotlib.pyplot as plt\n",
    "from matplotlib import cm\n",
    "from mpl_toolkits.mplot3d import Axes3D"
   ]
  },
  {
   "cell_type": "markdown",
   "id": "interior-genealogy",
   "metadata": {},
   "source": [
    "## Linear Regression\n",
    "\n",
    "You will implement the gradient descent method as explained in pages 719--720 in Russell-Norvig and in the slides to compute regression lines. You will implement the stochastic and batch versions of the algorithm.\n",
    "\n",
    "You must try to do it yourself first. If you encounter difficulties, you also have the solution to this exercise in the section _Solution to linear regression_ below."
   ]
  },
  {
   "cell_type": "markdown",
   "id": "entire-basic",
   "metadata": {},
   "source": [
    "### Your implementation of linear regression\n",
    "You will implement a regression program to predict the counts of _A_'s in a text from the total count of letters. You will apply it on two data sets corresponding to letter counts in the 15 chapters of the French and English versions of _Salammbô_, where the first column is the total count of characters and the second one, the count of A's. \n",
    "\n",
    "Start with either French or English and when your program ready, test it on the other language."
   ]
  },
  {
   "cell_type": "code",
   "execution_count": 286,
   "id": "forbidden-front",
   "metadata": {},
   "outputs": [],
   "source": [
    "stat_fr = np.array([[36961, 2503],\n",
    "                      [43621, 2992],\n",
    "                      [15694, 1042],\n",
    "                      [36231, 2487],\n",
    "                      [29945, 2014],\n",
    "                      [40588, 2805],\n",
    "                      [75255, 5062],\n",
    "                      [37709, 2643],\n",
    "                      [30899, 2126],\n",
    "                      [25486, 1784],\n",
    "                      [37497, 2641],\n",
    "                      [40398, 2766],\n",
    "                      [74105, 5047],\n",
    "                      [76725, 5312],\n",
    "                      [18317, 1215]])\n",
    "\n",
    "stat_en = np.array([[35680, 2217],\n",
    "                      [42514, 2761],\n",
    "                      [15162, 990],\n",
    "                      [35298, 2274],\n",
    "                      [29800, 1865],\n",
    "                      [40255, 2606],\n",
    "                      [74532, 4805],\n",
    "                      [37464, 2396],\n",
    "                      [31030, 1993],\n",
    "                      [24843, 1627],\n",
    "                      [36172, 2375],\n",
    "                      [39552, 2560],\n",
    "                      [72545, 4597],\n",
    "                      [75352, 4871],\n",
    "                      [18031, 1119]])"
   ]
  },
  {
   "cell_type": "markdown",
   "id": "adaptive-backing",
   "metadata": {},
   "source": [
    "From the datasets above, tell what is $\\mathbf{X}$ and $\\mathbf{y}$. Extract:\n",
    "1. The $\\mathbf{X}$ matrix, where you will have a column to model the intercept;\n",
    "2. The $\\mathbf{y}$ vector\n",
    "\n",
    "from these arrays."
   ]
  },
  {
   "cell_type": "code",
   "execution_count": 287,
   "id": "attached-aluminum",
   "metadata": {},
   "outputs": [
    {
     "name": "stdout",
     "output_type": "stream",
     "text": [
      "[[    1 36961]\n",
      " [    1 43621]\n",
      " [    1 15694]\n",
      " [    1 36231]\n",
      " [    1 29945]\n",
      " [    1 40588]\n",
      " [    1 75255]\n",
      " [    1 37709]\n",
      " [    1 30899]\n",
      " [    1 25486]\n",
      " [    1 37497]\n",
      " [    1 40398]\n",
      " [    1 74105]\n",
      " [    1 76725]\n",
      " [    1 18317]]\n",
      "[[2503]\n",
      " [2992]\n",
      " [1042]\n",
      " [2487]\n",
      " [2014]\n",
      " [2805]\n",
      " [5062]\n",
      " [2643]\n",
      " [2126]\n",
      " [1784]\n",
      " [2641]\n",
      " [2766]\n",
      " [5047]\n",
      " [5312]\n",
      " [1215]]\n"
     ]
    }
   ],
   "source": [
    "X = np.array([[1, x] for x in stat_fr[:,0]])\n",
    "y = np.array([stat_fr[:,1]]).T\n",
    "\n",
    "maxima_X = [1, X.max()]\n",
    "maxima_Y = y.max()\n",
    "\n",
    "print(X)\n",
    "print(y)"
   ]
  },
  {
   "cell_type": "markdown",
   "id": "cross-neighborhood",
   "metadata": {},
   "source": [
    "Scale the arrays so that they fit in the range [0, 1] on the $x$ and $y$ axes. "
   ]
  },
  {
   "cell_type": "code",
   "execution_count": 288,
   "id": "sudden-decision",
   "metadata": {},
   "outputs": [
    {
     "name": "stdout",
     "output_type": "stream",
     "text": [
      "[[1.         0.48173346]\n",
      " [1.         0.56853698]\n",
      " [1.         0.20454871]\n",
      " [1.         0.47221896]\n",
      " [1.         0.39029   ]\n",
      " [1.         0.52900619]\n",
      " [1.         0.98084066]\n",
      " [1.         0.49148257]\n",
      " [1.         0.40272401]\n",
      " [1.         0.33217335]\n",
      " [1.         0.48871945]\n",
      " [1.         0.52652981]\n",
      " [1.         0.96585207]\n",
      " [1.         1.        ]\n",
      " [1.         0.23873574]]\n",
      "[[0.47119729]\n",
      " [0.56325301]\n",
      " [0.19615964]\n",
      " [0.46818524]\n",
      " [0.37914157]\n",
      " [0.5280497 ]\n",
      " [0.95293675]\n",
      " [0.49755271]\n",
      " [0.4002259 ]\n",
      " [0.33584337]\n",
      " [0.4971762 ]\n",
      " [0.52070783]\n",
      " [0.95011295]\n",
      " [1.        ]\n",
      " [0.22872741]]\n"
     ]
    }
   ],
   "source": [
    "x = X[:,1]\n",
    "X = np.matrix([[1, x] for x in x/x.max()])\n",
    "y = y/y.max()\n",
    "\n",
    "print(X)\n",
    "print(y)"
   ]
  },
  {
   "cell_type": "markdown",
   "metadata": {},
   "source": []
  },
  {
   "cell_type": "markdown",
   "id": "motivated-upset",
   "metadata": {},
   "source": [
    "#### Gradient descent"
   ]
  },
  {
   "cell_type": "markdown",
   "id": "careful-supplier",
   "metadata": {},
   "source": [
    "Implement the descent functions. You will pass `X`, `y`, the learning rate in the $\\alpha$ variable, the initial weight vector in `w`, the tolerance in the $\\epsilon$ variable, the maximal number of epochs in `epochs`. You will return `w`."
   ]
  },
  {
   "cell_type": "markdown",
   "id": "internal-luther",
   "metadata": {},
   "source": [
    "Batch descent"
   ]
  },
  {
   "cell_type": "code",
   "execution_count": 289,
   "id": "planned-italy",
   "metadata": {},
   "outputs": [],
   "source": [
    "# Write your code here\n",
    "def fit_batch(X, y, alpha, w,\n",
    "                  epochs=500,\n",
    "                  epsilon=1.0e-5):\n",
    "                    alpha /= len(X)\n",
    "                    gradient = X.T * (y - (X * w))\n",
    "\n",
    "                    while np.linalg.norm(gradient) > epsilon and epochs > 0:\n",
    "                      gradient = X.T * (y - (X * w))\n",
    "                      w = w + alpha * gradient\n",
    "                      epochs -= 1\n",
    "\n",
    "                    return w"
   ]
  },
  {
   "cell_type": "markdown",
   "id": "french-sight",
   "metadata": {},
   "source": [
    "Stochastic descent"
   ]
  },
  {
   "cell_type": "code",
   "execution_count": 290,
   "id": "emerging-vegetation",
   "metadata": {},
   "outputs": [],
   "source": [
    "# Write your code here\n",
    "def fit_stoch(X, y, alpha, w,\n",
    "                  epochs=500,\n",
    "                  epsilon=1.0e-5):\n",
    "                    gradient = (y[0, 0] - ((X[0]) * w)[0,0]) * X[0,:].T\n",
    "\n",
    "                    while np.linalg.norm(gradient) > epsilon and epochs > 0:\n",
    "                      for i in range(len(X)):\n",
    "                        gradient = (y[i, 0] - ((X[i]) * w)[0,0]) * X[i,:].T\n",
    "                        w = w + alpha * gradient\n",
    "                      epochs -= 1\n",
    "\n",
    "                    return w"
   ]
  },
  {
   "cell_type": "markdown",
   "id": "junior-kazakhstan",
   "metadata": {},
   "source": [
    "#### Applying batch descent"
   ]
  },
  {
   "cell_type": "markdown",
   "id": "treated-assets",
   "metadata": {},
   "source": [
    "Apply the batch descent and print the final weight values "
   ]
  },
  {
   "cell_type": "code",
   "execution_count": 291,
   "id": "maritime-andorra",
   "metadata": {},
   "outputs": [
    {
     "name": "stdout",
     "output_type": "stream",
     "text": [
      "[[0.00164923]\n",
      " [0.98651665]]\n",
      "[8.760722557199653, 0.06830076845766861]\n"
     ]
    }
   ],
   "source": [
    "w_batch = fit_batch(X, y, 1, np.array([[1.0, 1.0]]).T)\n",
    "print(w_batch)\n",
    "w_batch_norm = [0,0]\n",
    "for i in range(len(w_batch)):\n",
    "    w_batch_norm[i] = np.squeeze(np.asarray(w_batch[i])) * maxima_Y / maxima_X[i]\n",
    "\n",
    "print(w_batch_norm)"
   ]
  },
  {
   "cell_type": "markdown",
   "id": "virgin-blast",
   "metadata": {},
   "source": [
    "Visualize the points of your dataset as well as the regression lines you obtain using matplotlib or another similar program."
   ]
  },
  {
   "cell_type": "code",
   "execution_count": 292,
   "id": "durable-stationery",
   "metadata": {},
   "outputs": [
    {
     "data": {
      "text/plain": [
       "[<matplotlib.lines.Line2D at 0x7f71b685f370>]"
      ]
     },
     "execution_count": 292,
     "metadata": {},
     "output_type": "execute_result"
    },
    {
     "data": {
      "image/png": "[encoded data removed]",
      "text/plain": [
       "<Figure size 432x288 with 1 Axes>"
      ]
     },
     "metadata": {
      "needs_background": "light"
     },
     "output_type": "display_data"
    }
   ],
   "source": [
    "def f(x, w):\n",
    "    return w[1]*x + w[0]\n",
    "\n",
    "chars = stat_fr[:,0]\n",
    "x = np.linspace(0, chars.max(), 10)\n",
    "\n",
    "plt.plot(chars, stat_fr[:,1], 'r^')\n",
    "plt.plot(x, f(x, w_batch_norm))"
   ]
  },
  {
   "cell_type": "markdown",
   "id": "consistent-tampa",
   "metadata": {},
   "source": [
    "#### Stochastic descent"
   ]
  },
  {
   "cell_type": "code",
   "execution_count": 293,
   "id": "distinct-cruise",
   "metadata": {},
   "outputs": [
    {
     "name": "stdout",
     "output_type": "stream",
     "text": [
      "[[0.00270032]\n",
      " [0.98666217]]\n",
      "[14.344100924740781, 0.06831084296813131]\n"
     ]
    }
   ],
   "source": [
    "w_stoch = fit_stoch(X, y, 0.1, np.array([[1.0, 1.0]]).T)\n",
    "print(w_stoch)\n",
    "w_stoch_norm = [0,0]\n",
    "for i in range(len(w_stoch)):\n",
    "    w_stoch_norm[i] = np.squeeze(np.asarray(w_stoch[i])) * maxima_Y / maxima_X[i]\n",
    "\n",
    "print(w_stoch_norm)"
   ]
  },
  {
   "cell_type": "markdown",
   "id": "fuzzy-circular",
   "metadata": {},
   "source": [
    "Visualize the points of your dataset as well as the regression lines you obtain using matplotlib or another similar program."
   ]
  },
  {
   "cell_type": "code",
   "execution_count": 294,
   "id": "illegal-steps",
   "metadata": {},
   "outputs": [
    {
     "data": {
      "text/plain": [
       "[<matplotlib.lines.Line2D at 0x7f71b68204f0>]"
      ]
     },
     "execution_count": 294,
     "metadata": {},
     "output_type": "execute_result"
    },
    {
     "data": {
      "image/png": "[encoded data removed]",
      "text/plain": [
       "<Figure size 432x288 with 1 Axes>"
      ]
     },
     "metadata": {
      "needs_background": "light"
     },
     "output_type": "display_data"
    }
   ],
   "source": [
    "def f(x, w):\n",
    "    return w[1]*x + w[0]\n",
    "\n",
    "chars = stat_fr[:,0]\n",
    "x = np.linspace(0, chars.max(), 10)\n",
    "\n",
    "plt.plot(chars, stat_fr[:,1], 'r^')\n",
    "plt.plot(x, f(x, w_stoch_norm))"
   ]
  },
  {
   "cell_type": "markdown",
   "id": "biological-assignment",
   "metadata": {},
   "source": [
    "### A solution to linear regression\n",
    "\n",
    "To help you start this assignment, your instructor wrote two Python notebooks that solve this exercise on linear regression. You can find them here: https://github.com/pnugues/ilppp/tree/master/programs/ch04/python\n",
    "The first notebook, `gradient_descent.ipynb`, only uses Python and vector operations such as the dot product that are in the `vector.py` file.\n",
    "The second notebook, `gradient_descent_numpy.ipynb`, uses Numpy. It is more compact, but you need to know a bit of numpy.\n",
    "\n",
    "To run these programs, download them on your computer as well as the other program in the import list: vector.py\n",
    "\n",
    "The programs are also available as Python programs from\n",
    "https://github.com/pnugues/ilppp/tree/master/programs/ch04/python"
   ]
  },
  {
   "cell_type": "markdown",
   "id": "suspended-province",
   "metadata": {},
   "source": [
    "## Classification\n",
    "You will use the same data set as for linear regression, but this time to classify a chapter as French or English. Given a pair of numbers corresponding the letter count and count of _A_, you will predict the language:\n",
    "1. $\\mathbf{x} = (35680, 2217)$ $\\to$ $y$ = English\n",
    "2. $\\mathbf{x} = (37497, 2641)$ $\\to$ $y$ = French"
   ]
  },
  {
   "cell_type": "markdown",
   "id": "joint-psychology",
   "metadata": {},
   "source": [
    "### The dataset\n",
    "You will use the arrays below:\n",
    "1. `X` contains the counts of letters and of _A_ s as well as a column of ones for the intercept;\n",
    "2. `y` contains the classes, where 0 is for English and 1 for French."
   ]
  },
  {
   "cell_type": "code",
   "execution_count": 295,
   "id": "sustainable-payment",
   "metadata": {},
   "outputs": [],
   "source": [
    "X = [[1.0, 35680.0, 2217.0],\n",
    "     [1.0, 42514.0, 2761.0],\n",
    "     [1.0, 15162.0, 990.0],\n",
    "     [1.0, 35298.0, 2274.0],\n",
    "     [1.0, 29800.0, 1865.0],\n",
    "     [1.0, 40255.0, 2606.0],\n",
    "     [1.0, 74532.0, 4805.0],\n",
    "     [1.0, 37464.0, 2396.0],\n",
    "     [1.0, 31030.0, 1993.0],\n",
    "     [1.0, 24843.0, 1627.0],\n",
    "     [1.0, 36172.0, 2375.0],\n",
    "     [1.0, 39552.0, 2560.0],\n",
    "     [1.0, 72545.0, 4597.0],\n",
    "     [1.0, 75352.0, 4871.0],\n",
    "     [1.0, 18031.0, 1119.0],\n",
    "     [1.0, 36961.0, 2503.0],\n",
    "     [1.0, 43621.0, 2992.0],\n",
    "     [1.0, 15694.0, 1042.0],\n",
    "     [1.0, 36231.0, 2487.0],\n",
    "     [1.0, 29945.0, 2014.0],\n",
    "     [1.0, 40588.0, 2805.0],\n",
    "     [1.0, 75255.0, 5062.0],\n",
    "     [1.0, 37709.0, 2643.0],\n",
    "     [1.0, 30899.0, 2126.0],\n",
    "     [1.0, 25486.0, 1784.0],\n",
    "     [1.0, 37497.0, 2641.0],\n",
    "     [1.0, 40398.0, 2766.0],\n",
    "     [1.0, 74105.0, 5047.0],\n",
    "     [1.0, 76725.0, 5312.0],\n",
    "     [1.0, 18317.0, 1215.0]]\n",
    "y = [0.0, 0.0, 0.0, 0.0, 0.0, 0.0, 0.0, 0.0, 0.0, 0.0, 0.0, 0.0, 0.0, 0.0, 0.0,\n",
    "     1.0, 1.0, 1.0, 1.0, 1.0, 1.0, 1.0, 1.0, 1.0, 1.0, 1.0, 1.0, 1.0, 1.0, 1.0]"
   ]
  },
  {
   "cell_type": "markdown",
   "id": "emerging-looking",
   "metadata": {},
   "source": [
    "We visualize it"
   ]
  },
  {
   "cell_type": "code",
   "execution_count": 296,
   "id": "verified-bridal",
   "metadata": {},
   "outputs": [],
   "source": [
    "x_fr = [x[1] for i, x in enumerate(X) if y[i] == 1]\n",
    "y_fr = [x[2] for i, x in enumerate(X) if y[i] == 1]\n",
    "x_en = [x[1] for i, x in enumerate(X) if y[i] == 0]\n",
    "y_en = [x[2] for i, x in enumerate(X) if y[i] == 0]"
   ]
  },
  {
   "cell_type": "code",
   "execution_count": 297,
   "id": "constitutional-carry",
   "metadata": {},
   "outputs": [
    {
     "data": {
      "text/plain": [
       "<matplotlib.collections.PathCollection at 0x7f71b67f30d0>"
      ]
     },
     "execution_count": 297,
     "metadata": {},
     "output_type": "execute_result"
    },
    {
     "data": {
      "image/png": "[encoded data removed]",
      "text/plain": [
       "<Figure size 432x288 with 1 Axes>"
      ]
     },
     "metadata": {
      "needs_background": "light"
     },
     "output_type": "display_data"
    }
   ],
   "source": [
    "plt.scatter(x_fr, y_fr, color='red')\n",
    "plt.scatter(x_en, y_en, color='blue')"
   ]
  },
  {
   "cell_type": "markdown",
   "id": "mineral-pointer",
   "metadata": {},
   "source": [
    "### Normalize the dataset"
   ]
  },
  {
   "cell_type": "markdown",
   "id": "imported-reporter",
   "metadata": {},
   "source": [
    "Gradient descent algorithms can be very sensitive to the range. Therefore, we normalize the dataset."
   ]
  },
  {
   "cell_type": "code",
   "execution_count": 298,
   "id": "adequate-words",
   "metadata": {},
   "outputs": [],
   "source": [
    "def normalize(observations):\n",
    "    maxima = [max([obs[i] for obs in observations]) for i in range(len(observations[0]))]\n",
    "    return ([[obs[i] / maxima[i]\n",
    "              for i in range(len(observations[0]))] for obs in observations],\n",
    "            maxima)"
   ]
  },
  {
   "cell_type": "code",
   "execution_count": 299,
   "id": "conservative-effectiveness",
   "metadata": {},
   "outputs": [
    {
     "data": {
      "text/plain": [
       "[[1.0, 0.4650374714890844, 0.4173569277108434],\n",
       " [1.0, 0.5541088302378625, 0.5197665662650602],\n",
       " [1.0, 0.19761485826001954, 0.18637048192771086],\n",
       " [1.0, 0.460058651026393, 0.42808734939759036],\n",
       " [1.0, 0.3884001303356142, 0.3510918674698795],\n",
       " [1.0, 0.5246660149885957, 0.49058734939759036],\n",
       " [1.0, 0.9714173998044966, 0.9045557228915663],\n",
       " [1.0, 0.4882893450635386, 0.4510542168674699],\n",
       " [1.0, 0.4044314108830238, 0.37518825301204817],\n",
       " [1.0, 0.32379276637341153, 0.30628765060240964],\n",
       " [1.0, 0.47144998370804825, 0.4471009036144578],\n",
       " [1.0, 0.5155034213098729, 0.4819277108433735],\n",
       " [1.0, 0.9455197132616487, 0.8653990963855421],\n",
       " [1.0, 0.9821049201694363, 0.916980421686747],\n",
       " [1.0, 0.2350081459758879, 0.21065512048192772],\n",
       " [1.0, 0.48173346366894754, 0.4711972891566265],\n",
       " [1.0, 0.5685369827305311, 0.5632530120481928],\n",
       " [1.0, 0.2045487129358097, 0.19615963855421686],\n",
       " [1.0, 0.47221896383186707, 0.46818524096385544],\n",
       " [1.0, 0.39028999674160963, 0.37914156626506024],\n",
       " [1.0, 0.5290061909416748, 0.5280496987951807],\n",
       " [1.0, 0.9808406647116324, 0.9529367469879518],\n",
       " [1.0, 0.49148256761159986, 0.4975527108433735],\n",
       " [1.0, 0.40272401433691757, 0.4002259036144578],\n",
       " [1.0, 0.3321733463668948, 0.3358433734939759],\n",
       " [1.0, 0.4887194525904203, 0.4971762048192771],\n",
       " [1.0, 0.5265298142717497, 0.5207078313253012],\n",
       " [1.0, 0.9658520690778756, 0.9501129518072289],\n",
       " [1.0, 1.0, 1.0],\n",
       " [1.0, 0.23873574454219615, 0.22872740963855423]]"
      ]
     },
     "execution_count": 299,
     "metadata": {},
     "output_type": "execute_result"
    }
   ],
   "source": [
    "X_norm, maxima = normalize(X)\n",
    "X_norm"
   ]
  },
  {
   "cell_type": "markdown",
   "id": "attached-reverse",
   "metadata": {},
   "source": [
    "## The Perceptron\n",
    "\n",
    "1. Write the perceptron program as explained in pages 723--725 in Russell-Norvig and in the slides and run it on your data set. As suggested program structure, use two functions: \n",
    " * `fit(X, y)` that will return `w` (the model). You can choose a stochastic or batch variant;\n",
    " * `predict(X, w)` that will return `y_hat`. You can encapsulate these functions in a class and, of course, add more parameters.\n",
    "2. As a stop criterion, you will use the number of misclassified examples.\n",
    "3. You will report the parameters you have used and the weight vector\n",
    "\n",
    "You can use numpy or not. The next cells are just suggested steps. You can implement it your way."
   ]
  },
  {
   "cell_type": "markdown",
   "id": "applicable-missouri",
   "metadata": {},
   "source": [
    "### The `predict(X, w)` function\n",
    "Write a `predict(X, w)` function that given a matrix of observations $\\mathbf{X}$ and a weight vector $\\mathbf{w}$ will return a $\\mathbf{\\hat{y}}$ vector classes (0 or 1)"
   ]
  },
  {
   "cell_type": "code",
   "execution_count": 300,
   "id": "demanding-stage",
   "metadata": {},
   "outputs": [],
   "source": [
    "def predict(X, w):\n",
    "    if len(X) > 3:\n",
    "        return [ 1 if x > 0.5 else 0 for x in vector.mul_mat_vec(X, w)]\n",
    "    else:\n",
    "        return 1 if vector.dot(X, w) > 0.5 else 0"
   ]
  },
  {
   "cell_type": "markdown",
   "id": "choice-morgan",
   "metadata": {},
   "source": [
    "### The `fit(X, y)` function"
   ]
  },
  {
   "cell_type": "markdown",
   "id": "documented-cartridge",
   "metadata": {},
   "source": [
    "Write a `fit(X, y)` function that given a matrix of observations $\\mathbf{X}$ and a vector of responses $\\mathbf{y}$ will return a weight $\\mathbf{w}$ vector. You may use the other arguments of the function, notably the number of misclassified examples to define the stop condition."
   ]
  },
  {
   "cell_type": "code",
   "execution_count": 301,
   "id": "therapeutic-balloon",
   "metadata": {},
   "outputs": [],
   "source": [
    "import random\n",
    "import vector\n",
    "def fit_stoch(X, y,\n",
    "              epochs=1000,\n",
    "              max_misclassified=0,\n",
    "              verbose=True):\n",
    "                w = [1, 1, 1]\n",
    "                idx = list(range(len(X)))\n",
    "                random.seed(0)\n",
    "\n",
    "                for epoch in range(epochs):\n",
    "                  loss_sum = 0\n",
    "                  random.shuffle(idx)\n",
    "                  alpha = 1000/(1000+epoch)\n",
    "\n",
    "                  for i in idx:\n",
    "                      y_hat = predict(X[i], w)\n",
    "                      loss = y[i] - y_hat\n",
    "                      loss_sum += abs(loss)\n",
    "                      gradient = vector.mul(loss, X[i])\n",
    "                      w = vector.add(w, vector.mul(alpha, gradient))\n",
    "\n",
    "                  if loss_sum <= max_misclassified:\n",
    "                    break\n",
    "                if verbose:\n",
    "                  print(f\"epochs: {epoch+1}, weights: {w}\")\n",
    "                return w"
   ]
  },
  {
   "cell_type": "markdown",
   "id": "accessory-graduate",
   "metadata": {},
   "source": [
    "### Fitting the dataset"
   ]
  },
  {
   "cell_type": "code",
   "execution_count": 302,
   "id": "reported-uniform",
   "metadata": {},
   "outputs": [
    {
     "name": "stdout",
     "output_type": "stream",
     "text": [
      "epochs: 2947, weights: [0.6070055769342773, -36.61293124103709, 38.2423791717434]\n",
      "[0.6070055769342773, -36.61293124103709, 38.2423791717434]\n"
     ]
    }
   ],
   "source": [
    "w = fit_stoch(X_norm, y, epochs=10000)\n",
    "print(w)"
   ]
  },
  {
   "cell_type": "code",
   "execution_count": 303,
   "id": "formal-bahamas",
   "metadata": {},
   "outputs": [
    {
     "name": "stdout",
     "output_type": "stream",
     "text": [
      "Restored weights [3224.413624674881, -2.534869869695523, 38.2423791717434]\n",
      "Weights with y set to 1 [84.31519415134457, -0.06628431401486894, 1.0]\n"
     ]
    }
   ],
   "source": [
    "w = [w[i] * maxima[-1] / maxima[i] for i in range(len(w))]\n",
    "print(\"Restored weights\", w)\n",
    "w = [w[j] / w[-1] for j in range(len(w))]\n",
    "print(\"Weights with y set to 1\", w)"
   ]
  },
  {
   "cell_type": "markdown",
   "id": "demographic-control",
   "metadata": {},
   "source": [
    "### Visualizing the results"
   ]
  },
  {
   "cell_type": "code",
   "execution_count": 304,
   "id": "forward-enclosure",
   "metadata": {},
   "outputs": [
    {
     "data": {
      "text/plain": [
       "[<matplotlib.lines.Line2D at 0x7f71b67699a0>]"
      ]
     },
     "execution_count": 304,
     "metadata": {},
     "output_type": "execute_result"
    },
    {
     "data": {
      "image/png": "[encoded data removed]",
      "text/plain": [
       "<Figure size 432x288 with 1 Axes>"
      ]
     },
     "metadata": {
      "needs_background": "light"
     },
     "output_type": "display_data"
    }
   ],
   "source": [
    "plt.scatter(x_fr, y_fr, color='red')\n",
    "plt.scatter(x_en, y_en, color='blue')\n",
    "plt.plot([min(x_fr + x_en), max(x_fr + x_en)],\n",
    "             [-w[1] * min(x_fr + x_en) - w[0], -w[1] * max(x_fr + x_en) - w[0]])"
   ]
  },
  {
   "cell_type": "code",
   "execution_count": null,
   "metadata": {},
   "outputs": [],
   "source": []
  },
  {
   "cell_type": "markdown",
   "id": "eleven-honolulu",
   "metadata": {},
   "source": [
    "### Evaluation\n",
    "Evaluate your perceptron using the leave-one-out cross validation method. You will have to train and run 30 models. In each train/run session, you will train on 29 samples and evaluate on the remaining sample. You have then either a correct or a wrong classification. You will sum these classifications, i.e. the number of correct classifications, to get your final evaluation, for instance 29/30."
   ]
  },
  {
   "cell_type": "code",
   "execution_count": 305,
   "id": "patent-leeds",
   "metadata": {},
   "outputs": [],
   "source": [
    "# Write your code here\n",
    "def leave_one_out_cross_val(X, y, fitting_function):\n",
    "    size = len(X)\n",
    "    incorrects = 0\n",
    "    \n",
    "    for i in range(size):\n",
    "        print(f\"Fold {i+1} of {size}: \",end=\"\") \n",
    "        X_fold = X[:i]+X[i+1:]\n",
    "        y_fold = y[:i]+y[i+1:]\n",
    "        w = fitting_function(X_fold, y_fold, epochs=10000)\n",
    "\n",
    "        loss = y[i] - predict(X[i], w)\n",
    "        print(f\"{'Correct' if loss == 0 else 'Wrong'}\")\n",
    "        incorrects += abs(loss)\n",
    "\n",
    "    return (size-incorrects)/size"
   ]
  },
  {
   "cell_type": "code",
   "execution_count": 306,
   "id": "continuing-archive",
   "metadata": {},
   "outputs": [
    {
     "name": "stdout",
     "output_type": "stream",
     "text": [
      "Fold 1 of 30: epochs: 3267, weights: [0.6060664813158964, -36.59720768499, 38.22930263255961]\n",
      "Correct\n",
      "Fold 2 of 30: epochs: 3657, weights: [0.6043655779366343, -36.337283251549415, 37.969459329701664]\n",
      "Correct\n",
      "Fold 3 of 30: epochs: 839, weights: [0.7932831309957908, -32.79582779263898, 33.6958913384624]\n",
      "Wrong\n",
      "Fold 4 of 30: epochs: 3728, weights: [0.6045517941664909, -36.921991587092585, 38.586912242976794]\n",
      "Correct\n",
      "Fold 5 of 30: epochs: 5020, weights: [0.5968954821208052, -37.28248042706193, 39.00821519761007]\n",
      "Correct\n",
      "Fold 6 of 30: epochs: 4415, weights: [0.5978610560261672, -36.83172604285493, 38.52874682698481]\n",
      "Correct\n",
      "Fold 7 of 30: epochs: 2591, weights: [0.6120957132256144, -35.773975902934275, 37.32815635728922]\n",
      "Correct\n",
      "Fold 8 of 30: epochs: 5020, weights: [0.5956686236788833, -37.35275940961017, 39.08578592183691]\n",
      "Correct\n",
      "Fold 9 of 30: epochs: 5696, weights: [0.5948680646265002, -37.501971584697245, 39.25291733600989]\n",
      "Correct\n",
      "Fold 10 of 30: epochs: 5553, weights: [0.4870857798802778, -36.895482789810394, 38.57221353884668]\n",
      "Correct\n",
      "Fold 11 of 30: epochs: 6923, weights: [0.4578409825056937, -36.58216095430996, 38.37011483565914]\n",
      "Correct\n",
      "Fold 12 of 30: epochs: 4490, weights: [0.5988633528177179, -36.86342314901609, 38.55512558635006]\n",
      "Correct\n",
      "Fold 13 of 30: epochs: 2588, weights: [0.6139142888279612, -35.63018978982174, 37.16861658548763]\n",
      "Correct\n",
      "Fold 14 of 30: epochs: 2588, weights: [0.6103333650939711, -35.203223647354065, 36.732261167978294]\n",
      "Correct\n",
      "Fold 15 of 30: epochs: 5610, weights: [0.5950150411453501, -37.316362976055906, 39.05592256774705]\n",
      "Correct\n",
      "Fold 16 of 30: epochs: 2919, weights: [0.6089089722432695, -35.82547075300835, 37.4009802681909]\n",
      "Correct\n",
      "Fold 17 of 30: epochs: 3802, weights: [0.6012857229732791, -36.31388769980211, 37.95517587821134]\n",
      "Correct\n",
      "Fold 18 of 30: epochs: 1461, weights: [0.6186785553599154, -34.142416568374514, 35.55180064877117]\n",
      "Correct\n",
      "Fold 19 of 30: epochs: 3555, weights: [0.6060569534307589, -36.7178373620121, 38.363396166116054]\n",
      "Correct\n",
      "Fold 20 of 30: epochs: 2309, weights: [0.6124115908304573, -34.83240338432456, 36.328005450640134]\n",
      "Correct\n",
      "Fold 21 of 30: epochs: 4326, weights: [0.6002554274758647, -37.04812254385265, 38.74503039181094]\n",
      "Correct\n",
      "Fold 22 of 30: epochs: 6254, weights: [0.4757478723866343, -36.84728927575769, 38.57437940912905]\n",
      "Correct\n",
      "Fold 23 of 30: epochs: 5030, weights: [0.5967449254547872, -37.07825751694374, 38.7929750984721]\n",
      "Correct\n",
      "Fold 24 of 30: epochs: 3818, weights: [0.6025981884330205, -36.38446073975896, 38.026248077340625]\n",
      "Correct\n",
      "Fold 25 of 30: epochs: 3653, weights: [0.6046778214005858, -36.413998710470885, 38.04893326565717]\n",
      "Correct\n",
      "Fold 26 of 30: epochs: 5124, weights: [0.5971884284610416, -37.187011822974405, 38.90827523277869]\n",
      "Correct\n",
      "Fold 27 of 30: epochs: 4692, weights: [0.5981285492742072, -36.819009891076504, 38.51263937434959]\n",
      "Correct\n",
      "Fold 28 of 30: epochs: 6090, weights: [0.592414399959123, -36.99204576326909, 38.72615950868503]\n",
      "Correct\n",
      "Fold 29 of 30: epochs: 5713, weights: [0.5942777793991464, -36.834310911381934, 38.550500298992006]\n",
      "Correct\n",
      "Fold 30 of 30: epochs: 1742, weights: [0.6121172082080617, -34.481088704297235, 35.95467478004557]\n",
      "Correct\n",
      "Cross-validation accuracy (stochastic): 0.9666666666666667\n"
     ]
    }
   ],
   "source": [
    "stoch_accuracy = leave_one_out_cross_val(X_norm, y, fit_stoch)\n",
    "print('Cross-validation accuracy (stochastic):', stoch_accuracy)"
   ]
  },
  {
   "cell_type": "markdown",
   "id": "toxic-score",
   "metadata": {},
   "source": [
    "## Logistic Regression\n",
    "From your perceptron program, implement logistic regression. You can either follow the description from the textbook, S. Russell and R. Norvig, _Artificial Intelligence_, 2010, pages 725--727, or the slides. You can either implement the stochastic or the batch version of the algorithm, or both versions. As stop criterion, you will use either the norm of the gradient or the norm of the difference between two consecutive weight vectors. You will also set a maximal number of epochs. Run the resulting program on your data set."
   ]
  },
  {
   "cell_type": "markdown",
   "id": "variable-albania",
   "metadata": {},
   "source": [
    "Write the logistic function, where the $x$ input is a real number."
   ]
  },
  {
   "cell_type": "code",
   "execution_count": 307,
   "id": "secret-orbit",
   "metadata": {},
   "outputs": [],
   "source": [
    "from math import exp\n",
    "def logistic(x):\n",
    "    return 1/(1+exp(-x))    "
   ]
  },
  {
   "cell_type": "markdown",
   "id": "atmospheric-payroll",
   "metadata": {},
   "source": [
    "### The `predict(X, w)` function"
   ]
  },
  {
   "cell_type": "markdown",
   "id": "motivated-mustang",
   "metadata": {},
   "source": [
    "Write a `predict_proba()` function that given a matrix of observations $\\mathbf{X}$ and a weight vector $\\mathbf{w}$ will return a vector of probabilities to belong to class 1: The vector will consist of $P(1|\\mathbf{x}_i)$ for all the $i$ rows of $\\mathbf{X}$."
   ]
  },
  {
   "cell_type": "code",
   "execution_count": 308,
   "id": "genuine-sharing",
   "metadata": {},
   "outputs": [],
   "source": [
    "def predict_proba(X, w):\n",
    "    return [logistic(vector.dot(x, w)) for x in X]"
   ]
  },
  {
   "cell_type": "markdown",
   "id": "front-salad",
   "metadata": {},
   "source": [
    "Write a `predict(X, w)` function that given a matrix of observations $\\mathbf{X}$ and a weight vector $\\mathbf{w}$ will return the class. You will use `predict_proba()` and set the threshold to belong to class 1 to 0.5."
   ]
  },
  {
   "cell_type": "code",
   "execution_count": 309,
   "id": "historic-intention",
   "metadata": {},
   "outputs": [],
   "source": [
    "def predict(X, w):\n",
    "    return [1 if p > 0.5 else 0 for p in predict_proba(X, w)]"
   ]
  },
  {
   "cell_type": "markdown",
   "id": "assisted-variation",
   "metadata": {},
   "source": [
    "### The `fit(X, y)` function"
   ]
  },
  {
   "cell_type": "markdown",
   "id": "blind-relation",
   "metadata": {},
   "source": [
    "You will now write the `fit(X, y)` function as with the perceptron. You may call it `fit_stoch(X, y)` or `fit_batch(X, y)`. Use the parameters given in the cell below."
   ]
  },
  {
   "cell_type": "code",
   "execution_count": 317,
   "id": "parallel-reynolds",
   "metadata": {},
   "outputs": [],
   "source": [
    "import random\n",
    "def fit_stoch(X, y, alpha=100,\n",
    "                epochs=1000,\n",
    "                epsilon=1.0e-4,\n",
    "                verbose=False):\n",
    "\n",
    "                w = [1, 1, 1]\n",
    "                idx = list(range(len(X)))\n",
    "                random.seed(0)\n",
    "\n",
    "                for epoch in range(epochs):\n",
    "                  loss_sum = 0\n",
    "                  random.shuffle(idx)\n",
    "                  gradient_total = [0,0,0]\n",
    "                  for i in idx:\n",
    "                      y_hat = predict([X[i]], w)\n",
    "                      loss = y[i] - y_hat[0]\n",
    "                      loss_sum += abs(loss)\n",
    "                      gradient = vector.mul(loss, X[i])\n",
    "                      w = vector.add(w, vector.mul(alpha, gradient))\n",
    "                      gradient_total += gradient\n",
    "                  \n",
    "                  print(f\"Gradient: {vector.norm(gradient_total)}, Likelihood: {0}\")\n",
    "\n",
    "                  if vector.norm(gradient_total) < epsilon:\n",
    "                    break\n",
    "                if verbose:\n",
    "                  print(f\"epochs: {epoch+1}, weights: {w}\")\n",
    "                return w"
   ]
  },
  {
   "cell_type": "code",
   "execution_count": 318,
   "id": "naughty-sphere",
   "metadata": {},
   "outputs": [
    {
     "name": "stdout",
     "output_type": "stream",
     "text": [
      "Gradient: 5.475551767445291, Likelihood: 0\n",
      "[0, 0, 0, -1.0, -0.460058651026393, -0.42808734939759036, 0.0, 0.0, 0.0, 1.0, 0.47221896383186707, 0.46818524096385544, 0.0, 0.0, 0.0, -1.0, -0.5246660149885957, -0.49058734939759036, 0.0, 0.0, 0.0, 0.0, 0.0, 0.0, 1.0, 0.5265298142717497, 0.5207078313253012, 0.0, 0.0, 0.0, -1.0, -0.2350081459758879, -0.21065512048192772, 1.0, 0.5290061909416748, 0.5280496987951807, 0.0, 0.0, 0.0, 0.0, 0.0, 0.0, -1.0, -0.19761485826001954, -0.18637048192771086, 1.0, 0.39028999674160963, 0.37914156626506024, -1.0, -0.3884001303356142, -0.3510918674698795, 1.0, 0.40272401433691757, 0.4002259036144578, -1.0, -0.9714173998044966, -0.9045557228915663, 0.0, 0.0, 0.0, 1.0, 0.49148256761159986, 0.4975527108433735, -1.0, -0.32379276637341153, -0.30628765060240964, 1.0, 1.0, 1.0, 0.0, 0.0, 0.0, 0.0, 0.0, 0.0, -1.0, -0.4044314108830238, -0.37518825301204817, 0.0, 0.0, 0.0, 0.0, 0.0, 0.0, 1.0, 0.3321733463668948, 0.3358433734939759, -1.0, -0.9455197132616487, -0.8653990963855421, 1.0, 0.9658520690778756, 0.9501129518072289]\n",
      "Gradient: 5.228182034280857, Likelihood: 0\n",
      "[0, 0, 0, 0.0, 0.0, 0.0, -1.0, -0.5246660149885957, -0.49058734939759036, 1.0, 0.2045487129358097, 0.19615963855421686, -1.0, -0.2350081459758879, -0.21065512048192772, 1.0, 0.48173346366894754, 0.4711972891566265, -1.0, -0.9821049201694363, -0.916980421686747, 0.0, 0.0, 0.0, 0.0, 0.0, 0.0, 1.0, 0.5265298142717497, 0.5207078313253012, -1.0, -0.5541088302378625, -0.5197665662650602, 1.0, 0.3321733463668948, 0.3358433734939759, 0.0, 0.0, 0.0, -1.0, -0.4044314108830238, -0.37518825301204817, 0.0, 0.0, 0.0, 1.0, 0.9658520690778756, 0.9501129518072289, 0.0, 0.0, 0.0, -1.0, -0.460058651026393, -0.42808734939759036, 1.0, 0.5685369827305311, 0.5632530120481928, -1.0, -0.47144998370804825, -0.4471009036144578, 1.0, 0.23873574454219615, 0.22872740963855423, 0.0, 0.0, 0.0, 0.0, 0.0, 0.0, -1.0, -0.3884001303356142, -0.3510918674698795, 0.0, 0.0, 0.0, 0.0, 0.0, 0.0, 0.0, 0.0, 0.0, 1.0, 0.49148256761159986, 0.4975527108433735, 0.0, 0.0, 0.0, -1.0, -0.19761485826001954, -0.18637048192771086, 1.0, 0.4887194525904203, 0.4971762048192771]\n",
      "Gradient: 4.954432153147117, Likelihood: 0\n",
      "[0, 0, 0, -1.0, -0.5246660149885957, -0.49058734939759036, 0.0, 0.0, 0.0, 0.0, 0.0, 0.0, 0.0, 0.0, 0.0, 0.0, 0.0, 0.0, 1.0, 0.39028999674160963, 0.37914156626506024, 0.0, 0.0, 0.0, 0.0, 0.0, 0.0, 0.0, 0.0, 0.0, -1.0, -0.4044314108830238, -0.37518825301204817, 1.0, 0.40272401433691757, 0.4002259036144578, 0.0, 0.0, 0.0, -1.0, -0.4882893450635386, -0.4510542168674699, 0.0, 0.0, 0.0, 1.0, 0.5265298142717497, 0.5207078313253012, -1.0, -0.47144998370804825, -0.4471009036144578, 1.0, 0.49148256761159986, 0.4975527108433735, -1.0, -0.5541088302378625, -0.5197665662650602, 0.0, 0.0, 0.0, 1.0, 0.47221896383186707, 0.46818524096385544, -1.0, -0.460058651026393, -0.42808734939759036, 1.0, 0.3321733463668948, 0.3358433734939759, -1.0, -0.9714173998044966, -0.9045557228915663, 1.0, 0.2045487129358097, 0.19615963855421686, 0.0, 0.0, 0.0, 0.0, 0.0, 0.0, -1.0, -0.19761485826001954, -0.18637048192771086, 1.0, 0.48173346366894754, 0.4711972891566265, -1.0, -0.32379276637341153, -0.30628765060240964, 0.0, 0.0, 0.0]\n",
      "Gradient: 4.890564812899064, Likelihood: 0\n",
      "[0, 0, 0, 0.0, 0.0, 0.0, 0.0, 0.0, 0.0, 0.0, 0.0, 0.0, 0.0, 0.0, 0.0, 1.0, 0.5685369827305311, 0.5632530120481928, 0.0, 0.0, 0.0, 0.0, 0.0, 0.0, 0.0, 0.0, 0.0, -1.0, -0.4882893450635386, -0.4510542168674699, 1.0, 0.48173346366894754, 0.4711972891566265, 0.0, 0.0, 0.0, -1.0, -0.9714173998044966, -0.9045557228915663, 1.0, 0.23873574454219615, 0.22872740963855423, 0.0, 0.0, 0.0, 0.0, 0.0, 0.0, 1.0, 0.9658520690778756, 0.9501129518072289, -1.0, -0.5541088302378625, -0.5197665662650602, 0.0, 0.0, 0.0, 0.0, 0.0, 0.0, -1.0, -0.9455197132616487, -0.8653990963855421, 0.0, 0.0, 0.0, 1.0, 0.5290061909416748, 0.5280496987951807, 1.0, 0.3321733463668948, 0.3358433734939759, 0.0, 0.0, 0.0, -1.0, -0.5155034213098729, -0.4819277108433735, 0.0, 0.0, 0.0, 0.0, 0.0, 0.0, 1.0, 0.9808406647116324, 0.9529367469879518, 0.0, 0.0, 0.0, -1.0, -0.4044314108830238, -0.37518825301204817]\n",
      "Gradient: 5.603166472634043, Likelihood: 0\n",
      "[0, 0, 0, -1.0, -0.5541088302378625, -0.5197665662650602, 1.0, 0.23873574454219615, 0.22872740963855423, -1.0, -0.4882893450635386, -0.4510542168674699, 0.0, 0.0, 0.0, 1.0, 0.9808406647116324, 0.9529367469879518, -1.0, -0.4044314108830238, -0.37518825301204817, 1.0, 1.0, 1.0, 0.0, 0.0, 0.0, 0.0, 0.0, 0.0, 0.0, 0.0, 0.0, -1.0, -0.19761485826001954, -0.18637048192771086, 0.0, 0.0, 0.0, 0.0, 0.0, 0.0, 0.0, 0.0, 0.0, -1.0, -0.5246660149885957, -0.49058734939759036, 1.0, 0.49148256761159986, 0.4975527108433735, 1.0, 0.4887194525904203, 0.4971762048192771, -1.0, -0.32379276637341153, -0.30628765060240964, 1.0, 0.2045487129358097, 0.19615963855421686, 0.0, 0.0, 0.0, -1.0, -0.3884001303356142, -0.3510918674698795, -1.0, -0.9455197132616487, -0.8653990963855421, 1.0, 0.40272401433691757, 0.4002259036144578, 0.0, 0.0, 0.0, 0.0, 0.0, 0.0, 1.0, 0.3321733463668948, 0.3358433734939759, -1.0, -0.47144998370804825, -0.4471009036144578, 1.0, 0.5290061909416748, 0.5280496987951807, 0.0, 0.0, 0.0, -1.0, -0.9821049201694363, -0.916980421686747]\n",
      "Gradient: 5.19202259003509, Likelihood: 0\n",
      "[0, 0, 0, 1.0, 0.9808406647116324, 0.9529367469879518, -1.0, -0.9714173998044966, -0.9045557228915663, 1.0, 0.48173346366894754, 0.4711972891566265, 0.0, 0.0, 0.0, 0.0, 0.0, 0.0, -1.0, -0.19761485826001954, -0.18637048192771086, 0.0, 0.0, 0.0, 1.0, 0.49148256761159986, 0.4975527108433735, 0.0, 0.0, 0.0, -1.0, -0.4650374714890844, -0.4173569277108434, 1.0, 0.5265298142717497, 0.5207078313253012, -1.0, -0.2350081459758879, -0.21065512048192772, -1.0, -0.9821049201694363, -0.916980421686747, 0.0, 0.0, 0.0, 0.0, 0.0, 0.0, 1.0, 0.40272401433691757, 0.4002259036144578, 1.0, 0.5685369827305311, 0.5632530120481928, 0.0, 0.0, 0.0, 0.0, 0.0, 0.0, 0.0, 0.0, 0.0, -1.0, -0.460058651026393, -0.42808734939759036, 0.0, 0.0, 0.0, 0.0, 0.0, 0.0, 0.0, 0.0, 0.0, 1.0, 0.39028999674160963, 0.37914156626506024, -1.0, -0.32379276637341153, -0.30628765060240964, 0.0, 0.0, 0.0, 1.0, 0.2045487129358097, 0.19615963855421686, -1.0, -0.47144998370804825, -0.4471009036144578, 1.0, 0.23873574454219615, 0.22872740963855423]\n",
      "Gradient: 4.950522975544112, Likelihood: 0\n",
      "[0, 0, 0, 0.0, 0.0, 0.0, -1.0, -0.3884001303356142, -0.3510918674698795, 1.0, 0.40272401433691757, 0.4002259036144578, 0.0, 0.0, 0.0, -1.0, -0.9821049201694363, -0.916980421686747, 1.0, 0.5685369827305311, 0.5632530120481928, 1.0, 0.39028999674160963, 0.37914156626506024, -1.0, -0.9455197132616487, -0.8653990963855421, 0.0, 0.0, 0.0, 0.0, 0.0, 0.0, 1.0, 0.5290061909416748, 0.5280496987951807, -1.0, -0.4044314108830238, -0.37518825301204817, 0.0, 0.0, 0.0, 0.0, 0.0, 0.0, 1.0, 0.2045487129358097, 0.19615963855421686, -1.0, -0.19761485826001954, -0.18637048192771086, 0.0, 0.0, 0.0, 0.0, 0.0, 0.0, 0.0, 0.0, 0.0, 0.0, 0.0, 0.0, 1.0, 0.49148256761159986, 0.4975527108433735, 0.0, 0.0, 0.0, 0.0, 0.0, 0.0, 0.0, 0.0, 0.0, 0.0, 0.0, 0.0, -1.0, -0.5155034213098729, -0.4819277108433735, 1.0, 0.9658520690778756, 0.9501129518072289, 0.0, 0.0, 0.0, -1.0, -0.5541088302378625, -0.5197665662650602, 1.0, 0.23873574454219615, 0.22872740963855423]\n",
      "Gradient: 5.022180268610538, Likelihood: 0\n",
      "[0, 0, 0, -1.0, -0.4044314108830238, -0.37518825301204817, 0.0, 0.0, 0.0, 1.0, 0.40272401433691757, 0.4002259036144578, 0.0, 0.0, 0.0, 0.0, 0.0, 0.0, -1.0, -0.9455197132616487, -0.8653990963855421, 0.0, 0.0, 0.0, 0.0, 0.0, 0.0, 0.0, 0.0, 0.0, 0.0, 0.0, 0.0, 0.0, 0.0, 0.0, 1.0, 0.9658520690778756, 0.9501129518072289, -1.0, -0.9714173998044966, -0.9045557228915663, 1.0, 0.39028999674160963, 0.37914156626506024, 0.0, 0.0, 0.0, -1.0, -0.19761485826001954, -0.18637048192771086, 1.0, 0.47221896383186707, 0.46818524096385544, 0.0, 0.0, 0.0, 0.0, 0.0, 0.0, -1.0, -0.47144998370804825, -0.4471009036144578, 1.0, 0.5265298142717497, 0.5207078313253012, -1.0, -0.5246660149885957, -0.49058734939759036, 0.0, 0.0, 0.0, 1.0, 0.5290061909416748, 0.5280496987951807, 0.0, 0.0, 0.0, 0.0, 0.0, 0.0, 0.0, 0.0, 0.0, -1.0, -0.5155034213098729, -0.4819277108433735, 0.0, 0.0, 0.0, 1.0, 1.0, 1.0]\n",
      "Gradient: 6.201870768362436, Likelihood: 0\n",
      "[0, 0, 0, -1.0, -0.32379276637341153, -0.30628765060240964, 0.0, 0.0, 0.0, 0.0, 0.0, 0.0, 0.0, 0.0, 0.0, -1.0, -0.3884001303356142, -0.3510918674698795, 1.0, 0.39028999674160963, 0.37914156626506024, 0.0, 0.0, 0.0, -1.0, -0.9455197132616487, -0.8653990963855421, 1.0, 0.49148256761159986, 0.4975527108433735, 1.0, 0.47221896383186707, 0.46818524096385544, -1.0, -0.4044314108830238, -0.37518825301204817, 0.0, 0.0, 0.0, 1.0, 1.0, 1.0, -1.0, -0.5541088302378625, -0.5197665662650602, 0.0, 0.0, 0.0, -1.0, -0.9714173998044966, -0.9045557228915663, 1.0, 0.5265298142717497, 0.5207078313253012, 1.0, 0.9808406647116324, 0.9529367469879518, -1.0, -0.5246660149885957, -0.49058734939759036, -1.0, -0.2350081459758879, -0.21065512048192772, 0.0, 0.0, 0.0, 1.0, 0.9658520690778756, 0.9501129518072289, -1.0, -0.19761485826001954, -0.18637048192771086, 0.0, 0.0, 0.0, 1.0, 0.3321733463668948, 0.3358433734939759, -1.0, -0.4882893450635386, -0.4510542168674699, 1.0, 0.23873574454219615, 0.22872740963855423, -1.0, -0.460058651026393, -0.42808734939759036, 1.0, 0.5290061909416748, 0.5280496987951807, -1.0, -0.9821049201694363, -0.916980421686747]\n",
      "Gradient: 5.468702149462521, Likelihood: 0\n",
      "[0, 0, 0, 0.0, 0.0, 0.0, 1.0, 0.4887194525904203, 0.4971762048192771, -1.0, -0.3884001303356142, -0.3510918674698795, 1.0, 0.5290061909416748, 0.5280496987951807, -1.0, -0.5155034213098729, -0.4819277108433735, 1.0, 0.5685369827305311, 0.5632530120481928, -1.0, -0.4882893450635386, -0.4510542168674699, 1.0, 0.5265298142717497, 0.5207078313253012, 0.0, 0.0, 0.0, -1.0, -0.4044314108830238, -0.37518825301204817, 0.0, 0.0, 0.0, 1.0, 0.47221896383186707, 0.46818524096385544, -1.0, -0.9714173998044966, -0.9045557228915663, 0.0, 0.0, 0.0, 1.0, 0.9808406647116324, 0.9529367469879518, -1.0, -0.2350081459758879, -0.21065512048192772, 0.0, 0.0, 0.0, 1.0, 0.49148256761159986, 0.4975527108433735, 0.0, 0.0, 0.0, 0.0, 0.0, 0.0, 0.0, 0.0, 0.0, -1.0, -0.9821049201694363, -0.916980421686747, 1.0, 0.23873574454219615, 0.22872740963855423, 0.0, 0.0, 0.0, -1.0, -0.5541088302378625, -0.5197665662650602, 0.0, 0.0, 0.0, 0.0, 0.0, 0.0, 0.0, 0.0, 0.0, 1.0, 1.0, 1.0, 0.0, 0.0, 0.0]\n",
      "Gradient: 4.470418142427149, Likelihood: 0\n",
      "[0, 0, 0, 0.0, 0.0, 0.0, 0.0, 0.0, 0.0, 0.0, 0.0, 0.0, 0.0, 0.0, 0.0, 0.0, 0.0, 0.0, -1.0, -0.2350081459758879, -0.21065512048192772, 1.0, 0.47221896383186707, 0.46818524096385544, 0.0, 0.0, 0.0, -1.0, -0.3884001303356142, -0.3510918674698795, 0.0, 0.0, 0.0, 0.0, 0.0, 0.0, 1.0, 0.49148256761159986, 0.4975527108433735, 0.0, 0.0, 0.0, -1.0, -0.4044314108830238, -0.37518825301204817, 0.0, 0.0, 0.0, 1.0, 0.39028999674160963, 0.37914156626506024, 0.0, 0.0, 0.0, -1.0, -0.47144998370804825, -0.4471009036144578, 1.0, 0.2045487129358097, 0.19615963855421686, -1.0, -0.5541088302378625, -0.5197665662650602, 0.0, 0.0, 0.0, 1.0, 0.40272401433691757, 0.4002259036144578, -1.0, -0.32379276637341153, -0.30628765060240964, -1.0, -0.9455197132616487, -0.8653990963855421, 0.0, 0.0, 0.0, 0.0, 0.0, 0.0, 0.0, 0.0, 0.0, 0.0, 0.0, 0.0, 1.0, 0.9658520690778756, 0.9501129518072289, 0.0, 0.0, 0.0]\n",
      "Gradient: 5.234790949973799, Likelihood: 0\n",
      "[0, 0, 0, 0.0, 0.0, 0.0, 1.0, 0.39028999674160963, 0.37914156626506024, 0.0, 0.0, 0.0, -1.0, -0.4044314108830238, -0.37518825301204817, 1.0, 0.40272401433691757, 0.4002259036144578, 0.0, 0.0, 0.0, 0.0, 0.0, 0.0, 0.0, 0.0, 0.0, -1.0, -0.5246660149885957, -0.49058734939759036, 0.0, 0.0, 0.0, 0.0, 0.0, 0.0, 1.0, 0.2045487129358097, 0.19615963855421686, -1.0, -0.460058651026393, -0.42808734939759036, 0.0, 0.0, 0.0, 0.0, 0.0, 0.0, 1.0, 0.3321733463668948, 0.3358433734939759, 0.0, 0.0, 0.0, -1.0, -0.4650374714890844, -0.4173569277108434, 1.0, 0.9658520690778756, 0.9501129518072289, -1.0, -0.5155034213098729, -0.4819277108433735, 1.0, 0.49148256761159986, 0.4975527108433735, -1.0, -0.32379276637341153, -0.30628765060240964, -1.0, -0.9821049201694363, -0.916980421686747, 1.0, 0.5290061909416748, 0.5280496987951807, 0.0, 0.0, 0.0, 1.0, 0.48173346366894754, 0.4711972891566265, -1.0, -0.3884001303356142, -0.3510918674698795, 0.0, 0.0, 0.0, 0.0, 0.0, 0.0, -1.0, -0.9714173998044966, -0.9045557228915663]\n",
      "Gradient: 4.952226162941151, Likelihood: 0\n",
      "[0, 0, 0, 1.0, 0.4887194525904203, 0.4971762048192771, 0.0, 0.0, 0.0, 0.0, 0.0, 0.0, 0.0, 0.0, 0.0, 1.0, 0.3321733463668948, 0.3358433734939759, -1.0, -0.9455197132616487, -0.8653990963855421, 1.0, 0.5265298142717497, 0.5207078313253012, -1.0, -0.3884001303356142, -0.3510918674698795, 0.0, 0.0, 0.0, 0.0, 0.0, 0.0, 0.0, 0.0, 0.0, 1.0, 0.39028999674160963, 0.37914156626506024, 0.0, 0.0, 0.0, 0.0, 0.0, 0.0, 0.0, 0.0, 0.0, 0.0, 0.0, 0.0, -1.0, -0.47144998370804825, -0.4471009036144578, 0.0, 0.0, 0.0, 0.0, 0.0, 0.0, 1.0, 0.40272401433691757, 0.4002259036144578, 0.0, 0.0, 0.0, -1.0, -0.2350081459758879, -0.21065512048192772, 1.0, 0.9658520690778756, 0.9501129518072289, -1.0, -0.460058651026393, -0.42808734939759036, 1.0, 0.47221896383186707, 0.46818524096385544, 0.0, 0.0, 0.0, -1.0, -0.4650374714890844, -0.4173569277108434, 1.0, 0.2045487129358097, 0.19615963855421686, -1.0, -0.5541088302378625, -0.5197665662650602, 1.0, 0.49148256761159986, 0.4975527108433735]\n",
      "Gradient: 4.878083933118953, Likelihood: 0\n",
      "[0, 0, 0, 0.0, 0.0, 0.0, 0.0, 0.0, 0.0, 0.0, 0.0, 0.0, -1.0, -0.4650374714890844, -0.4173569277108434, 1.0, 0.4887194525904203, 0.4971762048192771, -1.0, -0.5155034213098729, -0.4819277108433735, 1.0, 0.48173346366894754, 0.4711972891566265, 0.0, 0.0, 0.0, 0.0, 0.0, 0.0, 0.0, 0.0, 0.0, -1.0, -0.9714173998044966, -0.9045557228915663, 1.0, 0.40272401433691757, 0.4002259036144578, 0.0, 0.0, 0.0, 0.0, 0.0, 0.0, -1.0, -0.5541088302378625, -0.5197665662650602, 0.0, 0.0, 0.0, 1.0, 1.0, 1.0, -1.0, -0.2350081459758879, -0.21065512048192772, 0.0, 0.0, 0.0, 0.0, 0.0, 0.0, 0.0, 0.0, 0.0, 1.0, 0.2045487129358097, 0.19615963855421686, -1.0, -0.4044314108830238, -0.37518825301204817, 0.0, 0.0, 0.0, 0.0, 0.0, 0.0, 1.0, 0.5685369827305311, 0.5632530120481928, -1.0, -0.4882893450635386, -0.4510542168674699, 0.0, 0.0, 0.0, 1.0, 0.3321733463668948, 0.3358433734939759, -1.0, -0.5246660149885957, -0.49058734939759036]\n",
      "Gradient: 5.1766835707528145, Likelihood: 0\n",
      "[0, 0, 0, 1.0, 1.0, 1.0, -1.0, -0.4882893450635386, -0.4510542168674699, 0.0, 0.0, 0.0, 0.0, 0.0, 0.0, 0.0, 0.0, 0.0, 1.0, 0.49148256761159986, 0.4975527108433735, -1.0, -0.5246660149885957, -0.49058734939759036, 1.0, 0.5685369827305311, 0.5632530120481928, -1.0, -0.5541088302378625, -0.5197665662650602, 1.0, 0.3321733463668948, 0.3358433734939759, -1.0, -0.47144998370804825, -0.4471009036144578, 0.0, 0.0, 0.0, 1.0, 0.23873574454219615, 0.22872740963855423, -1.0, -0.4650374714890844, -0.4173569277108434, 1.0, 0.40272401433691757, 0.4002259036144578, 0.0, 0.0, 0.0, -1.0, -0.2350081459758879, -0.21065512048192772, 0.0, 0.0, 0.0, 1.0, 0.5290061909416748, 0.5280496987951807, 0.0, 0.0, 0.0, -1.0, -0.9821049201694363, -0.916980421686747, 0.0, 0.0, 0.0, 0.0, 0.0, 0.0, 1.0, 0.4887194525904203, 0.4971762048192771, 0.0, 0.0, 0.0, -1.0, -0.3884001303356142, -0.3510918674698795, 0.0, 0.0, 0.0, 1.0, 0.47221896383186707, 0.46818524096385544, 0.0, 0.0, 0.0, 0.0, 0.0, 0.0]\n",
      "Gradient: 4.726034547347701, Likelihood: 0\n",
      "[0, 0, 0, 0.0, 0.0, 0.0, 0.0, 0.0, 0.0, -1.0, -0.3884001303356142, -0.3510918674698795, 0.0, 0.0, 0.0, 1.0, 0.47221896383186707, 0.46818524096385544, -1.0, -0.460058651026393, -0.42808734939759036, 1.0, 0.3321733463668948, 0.3358433734939759, 0.0, 0.0, 0.0, -1.0, -0.47144998370804825, -0.4471009036144578, 0.0, 0.0, 0.0, 0.0, 0.0, 0.0, 1.0, 0.9808406647116324, 0.9529367469879518, 0.0, 0.0, 0.0, 0.0, 0.0, 0.0, -1.0, -0.4882893450635386, -0.4510542168674699, 0.0, 0.0, 0.0, 1.0, 0.40272401433691757, 0.4002259036144578, -1.0, -0.2350081459758879, -0.21065512048192772, 0.0, 0.0, 0.0, 0.0, 0.0, 0.0, 0.0, 0.0, 0.0, 1.0, 0.5265298142717497, 0.5207078313253012, -1.0, -0.5246660149885957, -0.49058734939759036, 0.0, 0.0, 0.0, 1.0, 0.49148256761159986, 0.4975527108433735, 0.0, 0.0, 0.0, 0.0, 0.0, 0.0, -1.0, -0.5541088302378625, -0.5197665662650602, 1.0, 0.5685369827305311, 0.5632530120481928, -1.0, -0.19761485826001954, -0.18637048192771086]\n",
      "Gradient: 4.6357548373362, Likelihood: 0\n",
      "[0, 0, 0, 0.0, 0.0, 0.0, 0.0, 0.0, 0.0, 0.0, 0.0, 0.0, -1.0, -0.4882893450635386, -0.4510542168674699, 0.0, 0.0, 0.0, 1.0, 0.23873574454219615, 0.22872740963855423, 0.0, 0.0, 0.0, 0.0, 0.0, 0.0, 0.0, 0.0, 0.0, 1.0, 0.2045487129358097, 0.19615963855421686, -1.0, -0.460058651026393, -0.42808734939759036, 1.0, 0.4887194525904203, 0.4971762048192771, -1.0, -0.19761485826001954, -0.18637048192771086, -1.0, -0.9714173998044966, -0.9045557228915663, 0.0, 0.0, 0.0, 1.0, 0.3321733463668948, 0.3358433734939759, 0.0, 0.0, 0.0, 1.0, 0.5685369827305311, 0.5632530120481928, -1.0, -0.9821049201694363, -0.916980421686747, 0.0, 0.0, 0.0, 1.0, 0.40272401433691757, 0.4002259036144578, 0.0, 0.0, 0.0, 0.0, 0.0, 0.0, -1.0, -0.32379276637341153, -0.30628765060240964, 1.0, 0.48173346366894754, 0.4711972891566265, 0.0, 0.0, 0.0, 0.0, 0.0, 0.0, -1.0, -0.5155034213098729, -0.4819277108433735, 0.0, 0.0, 0.0, 0.0, 0.0, 0.0]\n",
      "Gradient: 5.449361917770001, Likelihood: 0\n",
      "[0, 0, 0, 0.0, 0.0, 0.0, 0.0, 0.0, 0.0, 1.0, 0.4887194525904203, 0.4971762048192771, -1.0, -0.5246660149885957, -0.49058734939759036, 0.0, 0.0, 0.0, 1.0, 0.5685369827305311, 0.5632530120481928, -1.0, -0.5541088302378625, -0.5197665662650602, 1.0, 0.5290061909416748, 0.5280496987951807, 0.0, 0.0, 0.0, 0.0, 0.0, 0.0, -1.0, -0.460058651026393, -0.42808734939759036, 0.0, 0.0, 0.0, 1.0, 0.39028999674160963, 0.37914156626506024, -1.0, -0.9714173998044966, -0.9045557228915663, 1.0, 0.23873574454219615, 0.22872740963855423, 0.0, 0.0, 0.0, 1.0, 0.9658520690778756, 0.9501129518072289, 0.0, 0.0, 0.0, -1.0, -0.4044314108830238, -0.37518825301204817, -1.0, -0.3884001303356142, -0.3510918674698795, 1.0, 0.9808406647116324, 0.9529367469879518, 0.0, 0.0, 0.0, -1.0, -0.4650374714890844, -0.4173569277108434, 0.0, 0.0, 0.0, 0.0, 0.0, 0.0, 1.0, 0.49148256761159986, 0.4975527108433735, 0.0, 0.0, 0.0, 0.0, 0.0, 0.0, -1.0, -0.9455197132616487, -0.8653990963855421, 1.0, 0.5265298142717497, 0.5207078313253012]\n",
      "Gradient: 4.752042352518906, Likelihood: 0\n",
      "[0, 0, 0, 0.0, 0.0, 0.0, -1.0, -0.460058651026393, -0.42808734939759036, 1.0, 1.0, 1.0, 0.0, 0.0, 0.0, 0.0, 0.0, 0.0, -1.0, -0.4650374714890844, -0.4173569277108434, 0.0, 0.0, 0.0, 0.0, 0.0, 0.0, 1.0, 0.5685369827305311, 0.5632530120481928, 0.0, 0.0, 0.0, 0.0, 0.0, 0.0, 0.0, 0.0, 0.0, -1.0, -0.32379276637341153, -0.30628765060240964, 0.0, 0.0, 0.0, 0.0, 0.0, 0.0, 0.0, 0.0, 0.0, -1.0, -0.9821049201694363, -0.916980421686747, 1.0, 0.5290061909416748, 0.5280496987951807, 0.0, 0.0, 0.0, 1.0, 0.5265298142717497, 0.5207078313253012, 0.0, 0.0, 0.0, -1.0, -0.47144998370804825, -0.4471009036144578, -1.0, -0.9455197132616487, -0.8653990963855421, 0.0, 0.0, 0.0, 1.0, 0.2045487129358097, 0.19615963855421686, 1.0, 0.40272401433691757, 0.4002259036144578, -1.0, -0.5541088302378625, -0.5197665662650602, 0.0, 0.0, 0.0, 0.0, 0.0, 0.0, 0.0, 0.0, 0.0]\n",
      "Gradient: 5.385252305389669, Likelihood: 0\n",
      "[0, 0, 0, 0.0, 0.0, 0.0, 0.0, 0.0, 0.0, 1.0, 0.5290061909416748, 0.5280496987951807, 0.0, 0.0, 0.0, -1.0, -0.4044314108830238, -0.37518825301204817, 1.0, 0.2045487129358097, 0.19615963855421686, 0.0, 0.0, 0.0, -1.0, -0.19761485826001954, -0.18637048192771086, 1.0, 0.40272401433691757, 0.4002259036144578, 0.0, 0.0, 0.0, -1.0, -0.5246660149885957, -0.49058734939759036, 0.0, 0.0, 0.0, 0.0, 0.0, 0.0, 1.0, 0.47221896383186707, 0.46818524096385544, -1.0, -0.9455197132616487, -0.8653990963855421, 1.0, 1.0, 1.0, 0.0, 0.0, 0.0, -1.0, -0.5541088302378625, -0.5197665662650602, 1.0, 0.4887194525904203, 0.4971762048192771, 0.0, 0.0, 0.0, -1.0, -0.47144998370804825, -0.4471009036144578, 0.0, 0.0, 0.0, 1.0, 0.49148256761159986, 0.4975527108433735, -1.0, -0.3884001303356142, -0.3510918674698795, 1.0, 0.9808406647116324, 0.9529367469879518, -1.0, -0.4882893450635386, -0.4510542168674699, 1.0, 0.23873574454219615, 0.22872740963855423, 0.0, 0.0, 0.0, -1.0, -0.4650374714890844, -0.4173569277108434, 0.0, 0.0, 0.0]\n",
      "Gradient: 4.974632421287923, Likelihood: 0\n",
      "[0, 0, 0, 1.0, 0.5265298142717497, 0.5207078313253012, 0.0, 0.0, 0.0, 0.0, 0.0, 0.0, 0.0, 0.0, 0.0, 0.0, 0.0, 0.0, 0.0, 0.0, 0.0, 0.0, 0.0, 0.0, -1.0, -0.460058651026393, -0.42808734939759036, 1.0, 0.2045487129358097, 0.19615963855421686, -1.0, -0.2350081459758879, -0.21065512048192772, 0.0, 0.0, 0.0, 1.0, 0.39028999674160963, 0.37914156626506024, 0.0, 0.0, 0.0, -1.0, -0.5155034213098729, -0.4819277108433735, 0.0, 0.0, 0.0, 0.0, 0.0, 0.0, 1.0, 1.0, 1.0, -1.0, -0.9821049201694363, -0.916980421686747, 1.0, 0.3321733463668948, 0.3358433734939759, -1.0, -0.9714173998044966, -0.9045557228915663, 0.0, 0.0, 0.0, 0.0, 0.0, 0.0, 1.0, 0.49148256761159986, 0.4975527108433735, 0.0, 0.0, 0.0, -1.0, -0.5246660149885957, -0.49058734939759036, 0.0, 0.0, 0.0, 0.0, 0.0, 0.0, 0.0, 0.0, 0.0, 1.0, 0.9658520690778756, 0.9501129518072289, -1.0, -0.32379276637341153, -0.30628765060240964]\n",
      "Gradient: 5.397295597337509, Likelihood: 0\n",
      "[0, 0, 0, 0.0, 0.0, 0.0, 1.0, 0.47221896383186707, 0.46818524096385544, 0.0, 0.0, 0.0, -1.0, -0.4650374714890844, -0.4173569277108434, 0.0, 0.0, 0.0, 1.0, 0.4887194525904203, 0.4971762048192771, 0.0, 0.0, 0.0, -1.0, -0.5155034213098729, -0.4819277108433735, 1.0, 0.23873574454219615, 0.22872740963855423, -1.0, -0.460058651026393, -0.42808734939759036, 0.0, 0.0, 0.0, 1.0, 0.5265298142717497, 0.5207078313253012, -1.0, -0.4044314108830238, -0.37518825301204817, 0.0, 0.0, 0.0, 0.0, 0.0, 0.0, 1.0, 0.3321733463668948, 0.3358433734939759, -1.0, -0.9714173998044966, -0.9045557228915663, 1.0, 0.49148256761159986, 0.4975527108433735, 0.0, 0.0, 0.0, -1.0, -0.9455197132616487, -0.8653990963855421, 1.0, 0.48173346366894754, 0.4711972891566265, 1.0, 0.9808406647116324, 0.9529367469879518, 0.0, 0.0, 0.0, 0.0, 0.0, 0.0, 0.0, 0.0, 0.0, -1.0, -0.32379276637341153, -0.30628765060240964, -1.0, -0.5541088302378625, -0.5197665662650602, 1.0, 0.5685369827305311, 0.5632530120481928, -1.0, -0.2350081459758879, -0.21065512048192772, 0.0, 0.0, 0.0]\n",
      "Gradient: 3.700303243496158, Likelihood: 0\n",
      "[0, 0, 0, 1.0, 0.23873574454219615, 0.22872740963855423, -1.0, -0.3884001303356142, -0.3510918674698795, 0.0, 0.0, 0.0, 1.0, 0.39028999674160963, 0.37914156626506024, 0.0, 0.0, 0.0, -1.0, -0.9455197132616487, -0.8653990963855421, 1.0, 0.5685369827305311, 0.5632530120481928, -1.0, -0.5246660149885957, -0.49058734939759036, 1.0, 0.3321733463668948, 0.3358433734939759, 0.0, 0.0, 0.0, 1.0, 0.5265298142717497, 0.5207078313253012, 0.0, 0.0, 0.0, 0.0, 0.0, 0.0, 0.0, 0.0, 0.0, -1.0, -0.4882893450635386, -0.4510542168674699, 0.0, 0.0, 0.0, 0.0, 0.0, 0.0, 0.0, 0.0, 0.0, 0.0, 0.0, 0.0, 0.0, 0.0, 0.0, 0.0, 0.0, 0.0, 0.0, 0.0, 0.0, 0.0, 0.0, 0.0, 0.0, 0.0, 0.0, 0.0, 0.0, 0.0, 0.0, 0.0, 0.0, 0.0, 0.0, 0.0, 0.0, 0.0, 0.0, 0.0, 0.0, 0.0, 0.0, 0.0, 0.0]\n",
      "Gradient: 0.0, Likelihood: 0\n",
      "[0, 0, 0, 0.0, 0.0, 0.0, 0.0, 0.0, 0.0, 0.0, 0.0, 0.0, 0.0, 0.0, 0.0, 0.0, 0.0, 0.0, 0.0, 0.0, 0.0, 0.0, 0.0, 0.0, 0.0, 0.0, 0.0, 0.0, 0.0, 0.0, 0.0, 0.0, 0.0, 0.0, 0.0, 0.0, 0.0, 0.0, 0.0, 0.0, 0.0, 0.0, 0.0, 0.0, 0.0, 0.0, 0.0, 0.0, 0.0, 0.0, 0.0, 0.0, 0.0, 0.0, 0.0, 0.0, 0.0, 0.0, 0.0, 0.0, 0.0, 0.0, 0.0, 0.0, 0.0, 0.0, 0.0, 0.0, 0.0, 0.0, 0.0, 0.0, 0.0, 0.0, 0.0, 0.0, 0.0, 0.0, 0.0, 0.0, 0.0, 0.0, 0.0, 0.0, 0.0, 0.0, 0.0, 0.0, 0.0, 0.0, 0.0, 0.0, 0.0]\n",
      "epochs: 24, weights: [1.0, -302.4095796676446, 314.1212349397591]\n"
     ]
    },
    {
     "data": {
      "text/plain": [
       "[1.0, -302.4095796676446, 314.1212349397591]"
      ]
     },
     "execution_count": 318,
     "metadata": {},
     "output_type": "execute_result"
    }
   ],
   "source": [
    "w = fit_stoch(X_norm, y, verbose=True)\n",
    "w"
   ]
  },
  {
   "cell_type": "code",
   "execution_count": 312,
   "id": "experienced-manor",
   "metadata": {},
   "outputs": [
    {
     "name": "stdout",
     "output_type": "stream",
     "text": [
      "Restored weights [1.0, -0.0039414738307936735, 0.05913426862570766]\n",
      "Weights with y set to 1 [16.91066826799759, -0.06665295643954547, 1.0]\n"
     ]
    }
   ],
   "source": [
    "w = [w[i] / maxima[i] for i in range(len(w))]\n",
    "print(\"Restored weights\", w)\n",
    "w = [w[j] / w[-1] for j in range(len(w))]\n",
    "print(\"Weights with y set to 1\", w)"
   ]
  },
  {
   "cell_type": "markdown",
   "id": "coastal-motion",
   "metadata": {},
   "source": [
    "### Visualizing the results"
   ]
  },
  {
   "cell_type": "code",
   "execution_count": 313,
   "id": "illegal-evans",
   "metadata": {},
   "outputs": [
    {
     "data": {
      "image/png": "[encoded data removed]",
      "text/plain": [
       "<Figure size 432x288 with 1 Axes>"
      ]
     },
     "metadata": {
      "needs_background": "light"
     },
     "output_type": "display_data"
    }
   ],
   "source": [
    "plt.scatter(x_fr, y_fr, color='red')\n",
    "plt.scatter(x_en, y_en, color='blue')\n",
    "plt.plot([min(x_fr + x_en), max(x_fr + x_en)],\n",
    "         [-w[1] * min(x_fr + x_en) - w[0], -w[1] * max(x_fr + x_en) - w[0]])\n",
    "plt.show()"
   ]
  },
  {
   "cell_type": "code",
   "execution_count": null,
   "metadata": {},
   "outputs": [],
   "source": []
  },
  {
   "cell_type": "markdown",
   "id": "wireless-value",
   "metadata": {},
   "source": [
    "### Evaluation\n",
    "Evaluate your logistic regression using the leave-one-out cross validation method as with the perceptron"
   ]
  },
  {
   "cell_type": "code",
   "execution_count": 315,
   "id": "offensive-trinity",
   "metadata": {},
   "outputs": [],
   "source": [
    "def leave_one_out_cross_val(X, y, fitting_function):\n",
    "    size = len(X)\n",
    "    incorrects = 0\n",
    "    \n",
    "    for i in range(size):\n",
    "        print(f\"Fold {i+1} of {size}: \",end=\"\") \n",
    "        X_fold = X[:i]+X[i+1:]\n",
    "        y_fold = y[:i]+y[i+1:]\n",
    "        w = fitting_function(X_fold, y_fold, epochs=10000)\n",
    "\n",
    "        loss = y[i] - predict(X[i], w)\n",
    "        print(f\"{'Correct' if loss == 0 else 'Wrong'}\")\n",
    "        incorrects += abs(loss)\n",
    "\n",
    "    return (size-incorrects)/size"
   ]
  },
  {
   "cell_type": "code",
   "execution_count": 316,
   "id": "simple-chile",
   "metadata": {},
   "outputs": [
    {
     "name": "stdout",
     "output_type": "stream",
     "text": [
      "Fold 1 of 30: "
     ]
    },
    {
     "ename": "OverflowError",
     "evalue": "math range error",
     "output_type": "error",
     "traceback": [
      "\u001b[0;31m---------------------------------------------------------------------------\u001b[0m",
      "\u001b[0;31mOverflowError\u001b[0m                             Traceback (most recent call last)",
      "Input \u001b[0;32mIn [316]\u001b[0m, in \u001b[0;36m<module>\u001b[0;34m\u001b[0m\n\u001b[0;32m----> 1\u001b[0m stoch_accuracy \u001b[38;5;241m=\u001b[39m \u001b[43mleave_one_out_cross_val\u001b[49m\u001b[43m(\u001b[49m\u001b[43mX\u001b[49m\u001b[43m,\u001b[49m\u001b[43m \u001b[49m\u001b[43my\u001b[49m\u001b[43m,\u001b[49m\u001b[43m \u001b[49m\u001b[43mfit_stoch\u001b[49m\u001b[43m)\u001b[49m\n\u001b[1;32m      2\u001b[0m \u001b[38;5;28mprint\u001b[39m(\u001b[38;5;124m'\u001b[39m\u001b[38;5;124mCross-validation accuracy (batch):\u001b[39m\u001b[38;5;124m'\u001b[39m, stoch_accuracy)\n",
      "Input \u001b[0;32mIn [315]\u001b[0m, in \u001b[0;36mleave_one_out_cross_val\u001b[0;34m(X, y, fitting_function)\u001b[0m\n\u001b[1;32m      7\u001b[0m X_fold \u001b[38;5;241m=\u001b[39m X[:i]\u001b[38;5;241m+\u001b[39mX[i\u001b[38;5;241m+\u001b[39m\u001b[38;5;241m1\u001b[39m:]\n\u001b[1;32m      8\u001b[0m y_fold \u001b[38;5;241m=\u001b[39m y[:i]\u001b[38;5;241m+\u001b[39my[i\u001b[38;5;241m+\u001b[39m\u001b[38;5;241m1\u001b[39m:]\n\u001b[0;32m----> 9\u001b[0m w \u001b[38;5;241m=\u001b[39m \u001b[43mfitting_function\u001b[49m\u001b[43m(\u001b[49m\u001b[43mX_fold\u001b[49m\u001b[43m,\u001b[49m\u001b[43m \u001b[49m\u001b[43my_fold\u001b[49m\u001b[43m,\u001b[49m\u001b[43m \u001b[49m\u001b[43mepochs\u001b[49m\u001b[38;5;241;43m=\u001b[39;49m\u001b[38;5;241;43m10000\u001b[39;49m\u001b[43m)\u001b[49m\n\u001b[1;32m     11\u001b[0m loss \u001b[38;5;241m=\u001b[39m y[i] \u001b[38;5;241m-\u001b[39m predict(X[i], w)\n\u001b[1;32m     12\u001b[0m \u001b[38;5;28mprint\u001b[39m(\u001b[38;5;124mf\u001b[39m\u001b[38;5;124m\"\u001b[39m\u001b[38;5;132;01m{\u001b[39;00m\u001b[38;5;124m'\u001b[39m\u001b[38;5;124mCorrect\u001b[39m\u001b[38;5;124m'\u001b[39m \u001b[38;5;28;01mif\u001b[39;00m loss \u001b[38;5;241m==\u001b[39m \u001b[38;5;241m0\u001b[39m \u001b[38;5;28;01melse\u001b[39;00m \u001b[38;5;124m'\u001b[39m\u001b[38;5;124mWrong\u001b[39m\u001b[38;5;124m'\u001b[39m\u001b[38;5;132;01m}\u001b[39;00m\u001b[38;5;124m\"\u001b[39m)\n",
      "Input \u001b[0;32mIn [310]\u001b[0m, in \u001b[0;36mfit_stoch\u001b[0;34m(X, y, alpha, epochs, epsilon, verbose)\u001b[0m\n\u001b[1;32m     14\u001b[0m gradient_total \u001b[38;5;241m=\u001b[39m [\u001b[38;5;241m0\u001b[39m,\u001b[38;5;241m0\u001b[39m,\u001b[38;5;241m0\u001b[39m]\n\u001b[1;32m     15\u001b[0m \u001b[38;5;28;01mfor\u001b[39;00m i \u001b[38;5;129;01min\u001b[39;00m idx:\n\u001b[0;32m---> 16\u001b[0m     y_hat \u001b[38;5;241m=\u001b[39m \u001b[43mpredict\u001b[49m\u001b[43m(\u001b[49m\u001b[43m[\u001b[49m\u001b[43mX\u001b[49m\u001b[43m[\u001b[49m\u001b[43mi\u001b[49m\u001b[43m]\u001b[49m\u001b[43m]\u001b[49m\u001b[43m,\u001b[49m\u001b[43m \u001b[49m\u001b[43mw\u001b[49m\u001b[43m)\u001b[49m\n\u001b[1;32m     17\u001b[0m     loss \u001b[38;5;241m=\u001b[39m y[i] \u001b[38;5;241m-\u001b[39m y_hat[\u001b[38;5;241m0\u001b[39m]\n\u001b[1;32m     18\u001b[0m     loss_sum \u001b[38;5;241m+\u001b[39m\u001b[38;5;241m=\u001b[39m \u001b[38;5;28mabs\u001b[39m(loss)\n",
      "Input \u001b[0;32mIn [309]\u001b[0m, in \u001b[0;36mpredict\u001b[0;34m(X, w)\u001b[0m\n\u001b[1;32m      1\u001b[0m \u001b[38;5;28;01mdef\u001b[39;00m \u001b[38;5;21mpredict\u001b[39m(X, w):\n\u001b[0;32m----> 2\u001b[0m     \u001b[38;5;28;01mreturn\u001b[39;00m [\u001b[38;5;241m1\u001b[39m \u001b[38;5;28;01mif\u001b[39;00m p \u001b[38;5;241m>\u001b[39m \u001b[38;5;241m0.5\u001b[39m \u001b[38;5;28;01melse\u001b[39;00m \u001b[38;5;241m0\u001b[39m \u001b[38;5;28;01mfor\u001b[39;00m p \u001b[38;5;129;01min\u001b[39;00m \u001b[43mpredict_proba\u001b[49m\u001b[43m(\u001b[49m\u001b[43mX\u001b[49m\u001b[43m,\u001b[49m\u001b[43m \u001b[49m\u001b[43mw\u001b[49m\u001b[43m)\u001b[49m]\n",
      "Input \u001b[0;32mIn [308]\u001b[0m, in \u001b[0;36mpredict_proba\u001b[0;34m(X, w)\u001b[0m\n\u001b[1;32m      1\u001b[0m \u001b[38;5;28;01mdef\u001b[39;00m \u001b[38;5;21mpredict_proba\u001b[39m(X, w):\n\u001b[0;32m----> 2\u001b[0m     \u001b[38;5;28;01mreturn\u001b[39;00m [logistic(vector\u001b[38;5;241m.\u001b[39mdot(x, w)) \u001b[38;5;28;01mfor\u001b[39;00m x \u001b[38;5;129;01min\u001b[39;00m X]\n",
      "Input \u001b[0;32mIn [308]\u001b[0m, in \u001b[0;36m<listcomp>\u001b[0;34m(.0)\u001b[0m\n\u001b[1;32m      1\u001b[0m \u001b[38;5;28;01mdef\u001b[39;00m \u001b[38;5;21mpredict_proba\u001b[39m(X, w):\n\u001b[0;32m----> 2\u001b[0m     \u001b[38;5;28;01mreturn\u001b[39;00m [\u001b[43mlogistic\u001b[49m\u001b[43m(\u001b[49m\u001b[43mvector\u001b[49m\u001b[38;5;241;43m.\u001b[39;49m\u001b[43mdot\u001b[49m\u001b[43m(\u001b[49m\u001b[43mx\u001b[49m\u001b[43m,\u001b[49m\u001b[43m \u001b[49m\u001b[43mw\u001b[49m\u001b[43m)\u001b[49m\u001b[43m)\u001b[49m \u001b[38;5;28;01mfor\u001b[39;00m x \u001b[38;5;129;01min\u001b[39;00m X]\n",
      "Input \u001b[0;32mIn [307]\u001b[0m, in \u001b[0;36mlogistic\u001b[0;34m(x)\u001b[0m\n\u001b[1;32m      2\u001b[0m \u001b[38;5;28;01mdef\u001b[39;00m \u001b[38;5;21mlogistic\u001b[39m(x):\n\u001b[0;32m----> 3\u001b[0m     \u001b[38;5;28;01mreturn\u001b[39;00m \u001b[38;5;241m1\u001b[39m\u001b[38;5;241m/\u001b[39m(\u001b[38;5;241m1\u001b[39m\u001b[38;5;241m+\u001b[39m\u001b[43mexp\u001b[49m\u001b[43m(\u001b[49m\u001b[38;5;241;43m-\u001b[39;49m\u001b[43mx\u001b[49m\u001b[43m)\u001b[49m)\n",
      "\u001b[0;31mOverflowError\u001b[0m: math range error"
     ]
    }
   ],
   "source": [
    "stoch_accuracy = leave_one_out_cross_val(X, y, fit_stoch)\n",
    "print('Cross-validation accuracy (batch):', stoch_accuracy)"
   ]
  },
  {
   "cell_type": "markdown",
   "id": "global-difficulty",
   "metadata": {},
   "source": [
    "## Visualizing the logistic surface"
   ]
  },
  {
   "cell_type": "code",
   "execution_count": 24,
   "id": "sunrise-tractor",
   "metadata": {},
   "outputs": [],
   "source": [
    "def plot_logistic_surf(x_range, y_range, w_opt):\n",
    "    z_axis = np.array([[0.0] * len(y_range) for i in range(len(x_range))])\n",
    "    x_axis, y_axis = np.meshgrid(x_range, y_range)\n",
    "    z_axis = z_axis.reshape(x_axis.shape)\n",
    "\n",
    "    # We compute the probability surface as a function of x and y\n",
    "    for i in range(len(x_range)):\n",
    "        for j in range(len(y_range)):\n",
    "            z_axis[j, i] = logistic(np.dot([1, x_range[i], y_range[j]], w_opt))\n",
    "    return x_axis, y_axis, z_axis"
   ]
  },
  {
   "cell_type": "code",
   "execution_count": 25,
   "id": "confirmed-plastic",
   "metadata": {},
   "outputs": [
    {
     "data": {
      "image/png": "[encoded data removed]",
      "text/plain": [
       "<Figure size 432x288 with 2 Axes>"
      ]
     },
     "metadata": {
      "needs_background": "light"
     },
     "output_type": "display_data"
    }
   ],
   "source": [
    "x_range = np.linspace(0, 100000, 200)\n",
    "y_range = np.linspace(0, 10000, 200)\n",
    "#w = [2.073225839414742, -0.049125455233437906, 0.7440143556104162]\n",
    "\n",
    "x_axis, y_axis, z_axis = plot_logistic_surf(x_range, y_range, w)\n",
    "\n",
    "fig = plt.figure()\n",
    "ax = Axes3D(fig)\n",
    "# ax = fig.gca(projection='3d')\n",
    "\n",
    "surf = ax.plot_surface(y_axis, x_axis, z_axis, rstride=1, cstride=1, cmap=cm.coolwarm,\n",
    "                       linewidth=0, antialiased=False, alpha=0.2)\n",
    "fig.colorbar(surf, shrink=0.5, aspect=5)\n",
    "# We plot the observations\n",
    "for x, y_class in zip(X, y):\n",
    "    if y_class == 1:\n",
    "        ax.scatter(x[2], x[1], y_class, color='green', marker='x')\n",
    "    else:\n",
    "        ax.scatter(x[2], x[1], y_class, color='red', marker='x')\n",
    "\n",
    "ax.elev = 30 \n",
    "ax.azim = -150\n",
    "plt.show()"
   ]
  },
  {
   "cell_type": "markdown",
   "id": "acoustic-ideal",
   "metadata": {},
   "source": [
    "## Programming logistic regression with popular APIs\n",
    "Should you use logistic regression in a project, you will probably resort to existing libraries. In the next cells, you will apply the logistic regression classification with two popular APIs:\n",
    "1. sklearn\n",
    "2. Keras\n",
    "\n",
    "`sklearn` is included in anaconda.\n",
    "You will install the rest with:\n",
    "```\n",
    "pip install --upgrade keras tensorflow tensorflow-addons \n",
    "```\n",
    "You will read and run the code in the cells below."
   ]
  },
  {
   "cell_type": "markdown",
   "id": "synthetic-karma",
   "metadata": {},
   "source": [
    "All these APIs are built on numpy and we convert the dataset into numpy if you have not done it already"
   ]
  },
  {
   "cell_type": "code",
   "execution_count": 26,
   "id": "horizontal-celebrity",
   "metadata": {},
   "outputs": [],
   "source": [
    "X = np.array(X)\n",
    "X_norm = np.array(X_norm)\n",
    "y = np.array(y)"
   ]
  },
  {
   "cell_type": "markdown",
   "id": "linear-institution",
   "metadata": {},
   "source": [
    "They also handle the intercept so we do not need the first column of ones."
   ]
  },
  {
   "cell_type": "code",
   "execution_count": 27,
   "id": "thick-leadership",
   "metadata": {},
   "outputs": [],
   "source": [
    "X = X[:, 1:]\n",
    "X_norm = X_norm[:, 1:]"
   ]
  },
  {
   "cell_type": "markdown",
   "id": "phantom-peter",
   "metadata": {},
   "source": [
    "### sklearn\n",
    "Using the dataset of English and French datapoints, we apply logistic regression with the sklearn API. We need the `LogisticRegression` class, the fit() and predict() functions. The weights are in the `coef_` field."
   ]
  },
  {
   "cell_type": "code",
   "execution_count": 28,
   "id": "adult-young",
   "metadata": {},
   "outputs": [
    {
     "data": {
      "text/plain": [
       "array([[-0.03372363,  0.51169867]])"
      ]
     },
     "execution_count": 28,
     "metadata": {},
     "output_type": "execute_result"
    }
   ],
   "source": [
    "from sklearn.linear_model import LogisticRegression\n",
    "model = LogisticRegression()\n",
    "model = model.fit(X, y)\n",
    "model.coef_"
   ]
  },
  {
   "cell_type": "markdown",
   "id": "effective-adventure",
   "metadata": {},
   "source": [
    "We predict the classes of the $\\mathbf{X}$ with the `predict()` function"
   ]
  },
  {
   "cell_type": "code",
   "execution_count": 29,
   "id": "bizarre-african",
   "metadata": {},
   "outputs": [
    {
     "data": {
      "text/plain": [
       "array([0., 0., 0., 0., 0., 0., 0., 0., 0., 0., 0., 0., 0., 0., 0., 1., 1.,\n",
       "       1., 1., 1., 1., 1., 1., 1., 1., 1., 1., 1., 1., 1.])"
      ]
     },
     "execution_count": 29,
     "metadata": {},
     "output_type": "execute_result"
    }
   ],
   "source": [
    "model.predict(X)"
   ]
  },
  {
   "cell_type": "markdown",
   "id": "dental-watson",
   "metadata": {},
   "source": [
    "We predict the class probabilities of the $\\mathbf{X}$ with the `predict_proba()` function"
   ]
  },
  {
   "cell_type": "code",
   "execution_count": 30,
   "id": "composed-playlist",
   "metadata": {},
   "outputs": [
    {
     "data": {
      "text/plain": [
       "array([[1.00000000e+00, 1.28980319e-30],\n",
       "       [9.99999999e-01, 8.16295157e-10],\n",
       "       [9.91302434e-01, 8.69756611e-03],\n",
       "       [1.00000000e+00, 2.35657080e-12],\n",
       "       [1.00000000e+00, 1.01085544e-22],\n",
       "       [1.00000000e+00, 3.56287478e-11],\n",
       "       [1.00000000e+00, 1.62389438e-24],\n",
       "       [1.00000000e+00, 5.76610689e-17],\n",
       "       [1.00000000e+00, 2.72458519e-12],\n",
       "       [9.94843591e-01, 5.15640906e-03],\n",
       "       [9.89714656e-01, 1.02853437e-02],\n",
       "       [1.00000000e+00, 4.22127774e-11],\n",
       "       [1.00000000e+00, 1.22665951e-41],\n",
       "       [1.00000000e+00, 7.37721442e-22],\n",
       "       [1.00000000e+00, 3.90177203e-16],\n",
       "       [1.33226763e-15, 1.00000000e+00],\n",
       "       [0.00000000e+00, 1.00000000e+00],\n",
       "       [1.92390717e-02, 9.80760928e-01],\n",
       "       [0.00000000e+00, 1.00000000e+00],\n",
       "       [1.01629571e-09, 9.99999999e-01],\n",
       "       [0.00000000e+00, 1.00000000e+00],\n",
       "       [0.00000000e+00, 1.00000000e+00],\n",
       "       [0.00000000e+00, 1.00000000e+00],\n",
       "       [0.00000000e+00, 1.00000000e+00],\n",
       "       [0.00000000e+00, 1.00000000e+00],\n",
       "       [0.00000000e+00, 1.00000000e+00],\n",
       "       [0.00000000e+00, 1.00000000e+00],\n",
       "       [0.00000000e+00, 1.00000000e+00],\n",
       "       [0.00000000e+00, 1.00000000e+00],\n",
       "       [1.80182968e-02, 9.81981703e-01]])"
      ]
     },
     "execution_count": 30,
     "metadata": {},
     "output_type": "execute_result"
    }
   ],
   "source": [
    "model.predict_proba(X)"
   ]
  },
  {
   "cell_type": "markdown",
   "id": "developing-oxygen",
   "metadata": {},
   "source": [
    "### Keras\n",
    "Using the dataset of English and French datapoints, we apply logistic regression with Keras. We need the `Sequential` and `Dense` classes."
   ]
  },
  {
   "cell_type": "code",
   "execution_count": 31,
   "id": "urban-analysis",
   "metadata": {},
   "outputs": [],
   "source": [
    "from tensorflow.keras import Sequential \n",
    "from tensorflow.keras.layers import Dense"
   ]
  },
  {
   "cell_type": "code",
   "execution_count": 32,
   "id": "healthy-kingdom",
   "metadata": {},
   "outputs": [
    {
     "name": "stdout",
     "output_type": "stream",
     "text": [
      "Model: \"sequential\"\n",
      "_________________________________________________________________\n",
      "Layer (type)                 Output Shape              Param #   \n",
      "=================================================================\n",
      "dense (Dense)                (None, 1)                 3         \n",
      "=================================================================\n",
      "Total params: 3\n",
      "Trainable params: 3\n",
      "Non-trainable params: 0\n",
      "_________________________________________________________________\n"
     ]
    }
   ],
   "source": [
    "# Write your code here\n",
    "model = Sequential()\n",
    "model.add(Dense(1, input_dim=2, activation='sigmoid'))\n",
    "model.compile(loss='binary_crossentropy',\n",
    "              optimizer='nadam',\n",
    "              metrics=['accuracy'])\n",
    "model.summary()"
   ]
  },
  {
   "cell_type": "markdown",
   "id": "animated-baseball",
   "metadata": {},
   "source": [
    "We fit the model"
   ]
  },
  {
   "cell_type": "code",
   "execution_count": 33,
   "id": "critical-banner",
   "metadata": {},
   "outputs": [
    {
     "data": {
      "text/plain": [
       "<tensorflow.python.keras.callbacks.History at 0x7fe6893af610>"
      ]
     },
     "execution_count": 33,
     "metadata": {},
     "output_type": "execute_result"
    }
   ],
   "source": [
    "model.fit(X, y, epochs=1500, batch_size=4, verbose=0)"
   ]
  },
  {
   "cell_type": "code",
   "execution_count": 34,
   "id": "simple-aside",
   "metadata": {},
   "outputs": [
    {
     "data": {
      "text/plain": [
       "array([0., 0., 0., 0., 0., 0., 0., 0., 0., 0., 0., 0., 0., 0., 0., 1., 1.,\n",
       "       1., 1., 1., 1., 1., 1., 1., 1., 1., 1., 1., 1., 1.])"
      ]
     },
     "execution_count": 34,
     "metadata": {},
     "output_type": "execute_result"
    }
   ],
   "source": [
    "y"
   ]
  },
  {
   "cell_type": "code",
   "execution_count": 35,
   "id": "genuine-latino",
   "metadata": {},
   "outputs": [
    {
     "data": {
      "text/plain": [
       "array([[0.0000000e+00],\n",
       "       [4.0918851e-27],\n",
       "       [1.6323545e-06],\n",
       "       [1.2727966e-34],\n",
       "       [0.0000000e+00],\n",
       "       [3.9597693e-31],\n",
       "       [0.0000000e+00],\n",
       "       [0.0000000e+00],\n",
       "       [1.8783179e-34],\n",
       "       [3.7781317e-07],\n",
       "       [3.2431558e-06],\n",
       "       [6.4840800e-31],\n",
       "       [0.0000000e+00],\n",
       "       [0.0000000e+00],\n",
       "       [0.0000000e+00],\n",
       "       [1.0000000e+00],\n",
       "       [1.0000000e+00],\n",
       "       [9.9999499e-01],\n",
       "       [1.0000000e+00],\n",
       "       [1.0000000e+00],\n",
       "       [1.0000000e+00],\n",
       "       [1.0000000e+00],\n",
       "       [1.0000000e+00],\n",
       "       [1.0000000e+00],\n",
       "       [1.0000000e+00],\n",
       "       [1.0000000e+00],\n",
       "       [1.0000000e+00],\n",
       "       [1.0000000e+00],\n",
       "       [1.0000000e+00],\n",
       "       [9.9999601e-01]], dtype=float32)"
      ]
     },
     "execution_count": 35,
     "metadata": {},
     "output_type": "execute_result"
    }
   ],
   "source": [
    "model.predict(X)"
   ]
  },
  {
   "cell_type": "code",
   "execution_count": 36,
   "id": "contemporary-museum",
   "metadata": {},
   "outputs": [
    {
     "name": "stderr",
     "output_type": "stream",
     "text": [
      "/Users/pierre/opt/anaconda3/lib/python3.8/site-packages/tensorflow/python/keras/engine/sequential.py:459: UserWarning: `model.predict_classes()` is deprecated and will be removed after 2021-01-01. Please use instead:* `np.argmax(model.predict(x), axis=-1)`,   if your model does multi-class classification   (e.g. if it uses a `softmax` last-layer activation).* `(model.predict(x) > 0.5).astype(\"int32\")`,   if your model does binary classification   (e.g. if it uses a `sigmoid` last-layer activation).\n",
      "  warnings.warn('`model.predict_classes()` is deprecated and '\n"
     ]
    },
    {
     "data": {
      "text/plain": [
       "array([[0],\n",
       "       [0],\n",
       "       [0],\n",
       "       [0],\n",
       "       [0],\n",
       "       [0],\n",
       "       [0],\n",
       "       [0],\n",
       "       [0],\n",
       "       [0],\n",
       "       [0],\n",
       "       [0],\n",
       "       [0],\n",
       "       [0],\n",
       "       [0],\n",
       "       [1],\n",
       "       [1],\n",
       "       [1],\n",
       "       [1],\n",
       "       [1],\n",
       "       [1],\n",
       "       [1],\n",
       "       [1],\n",
       "       [1],\n",
       "       [1],\n",
       "       [1],\n",
       "       [1],\n",
       "       [1],\n",
       "       [1],\n",
       "       [1]], dtype=int32)"
      ]
     },
     "execution_count": 36,
     "metadata": {},
     "output_type": "execute_result"
    }
   ],
   "source": [
    "(model.predict(X) > 0.5).astype('int32')"
   ]
  },
  {
   "cell_type": "markdown",
   "id": "close-premium",
   "metadata": {},
   "source": [
    "If you do not obtain a correct classification, rerun the training with more epochs."
   ]
  },
  {
   "cell_type": "markdown",
   "id": "handmade-involvement",
   "metadata": {},
   "source": [
    "## Reading\n",
    "You will read the article *An overview of gradient descent optimization algorithms* by Ruder (2017) and you will outline the main characteristics of all the optimization algorithms the author describes. This part should be of about one to two pages. Link to the article: https://arxiv.org/abs/1609.04747\n",
    "\n",
    "If you understand French, or using Google translate, you may also want to read the original article on gradient descent by Cauchy here:  https://gallica.bnf.fr/ark:/12148/bpt6k2982c/f540.item.\n"
   ]
  },
  {
   "cell_type": "markdown",
   "id": "packed-student",
   "metadata": {},
   "source": [
    "### Report\n",
    "\n",
    "The assignment must be documented in the report, which should contain the following:\n",
    "\n",
    "*   The name of the author, the title of the assignment, and any relevant information on the front page;\n",
    "*   A presentation of the assignment and the possible improvements you would have brought;\n",
    "*   A presentation of your implementation;\n",
    "*   A print-out of the example set(s) and the resulting weight vectors;\n",
    "*   Comments on the results you have obtained, including your cross validation;\n",
    "*   A short dissertation on the optimization algorithms from Ruder's paper.\n",
    "\n",
    "Please, typeset and format your report consistently. You must use Latex. Documents written using MS Word or any similar format will not be considered.\n",
    "\n",
    "You may have a look at the code in the textbook code repository (or any other implementations), but the code you hand in must be your work."
   ]
  },
  {
   "cell_type": "markdown",
   "id": "apparent-cedar",
   "metadata": {},
   "source": [
    "## Submission\n",
    "Submit the notebook and the report to Canvas (two files). Do not include the code printout in the report, but only comments on its interesting parts. You will submit the notebook as a separate file."
   ]
  },
  {
   "cell_type": "code",
   "execution_count": null,
   "id": "endangered-occurrence",
   "metadata": {},
   "outputs": [],
   "source": []
  }
 ],
 "metadata": {
  "interpreter": {
   "hash": "155815c8bdaef462b0b1840019633c228289164bf116b537046a15f52da6b4c6"
  },
  "kernelspec": {
   "display_name": "Python 3.8.12 64-bit ('env': venv)",
   "name": "python3"
  },
  "language_info": {
   "codemirror_mode": {
    "name": "ipython",
    "version": 3
   },
   "file_extension": ".py",
   "mimetype": "text/x-python",
   "name": "python",
   "nbconvert_exporter": "python",
   "pygments_lexer": "ipython3",
   "version": "3.8.12"
  }
 },
 "nbformat": 4,
 "nbformat_minor": 5
}
