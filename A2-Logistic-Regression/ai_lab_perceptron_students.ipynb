{
 "cells": [
  {
   "cell_type": "markdown",
   "id": "sacred-connecticut",
   "metadata": {},
   "source": [
    "# Classification with the perceptron and logistic regression\n",
    "\n",
    "__Individual assignment__\n",
    "\n",
    "Author of the assignment: Pierre Nugues\n",
    "\n",
    "__Student name__:"
   ]
  },
  {
   "cell_type": "markdown",
   "id": "single-jackson",
   "metadata": {},
   "source": [
    "## Objectives\n",
    "\n",
    "The objectives of this second assignment are to:\n",
    "\n",
    "1.  Write a linear regression program using gradient descent;\n",
    "2.  Write linear classifiers using the perceptron algorithm and logistic regression;\n",
    "3.  Experiment variations of the algorithms;\n",
    "4.  Evaluate your classifiers;\n",
    "5.  Experiment with popular tools;\n",
    "6.  Read a scientific article on optimization techniques and comment it;\n",
    "7.  Present your code, results, and comments in a short dissertation."
   ]
  },
  {
   "cell_type": "markdown",
   "id": "photographic-coral",
   "metadata": {},
   "source": [
    "## Overview\n",
    "\n",
    "The gradient descent is a basic technique to estimate linear discriminant functions. You will first use the gradient descent method to implement linear regression. You will then program the perceptron algorithm. Finally, you will improve the threshold function with the logistic curve (logistic regression). You will try various configurations and study their influence on the learning speed and accuracy."
   ]
  },
  {
   "cell_type": "markdown",
   "id": "express-external",
   "metadata": {},
   "source": [
    "##  Programming language\n",
    "As programming language, you will use Python and write your code in this notebook.\n",
    "\n",
    "You need to have a comprehensive Python distribution such as Anaconda (https://www.anaconda.com/products/individual). This distribution is available on the student computers at the computer science department.\n",
    "Finally, you start a notebook by typing:\n",
    "\n",
    "`jupyter lab`\n",
    "\n",
    "in a terminal window and you select the notebook by clicking on it in the left pane.\n",
    "You run the pieces of code by typing shift+enter."
   ]
  },
  {
   "cell_type": "markdown",
   "id": "adjacent-crawford",
   "metadata": {},
   "source": [
    "## Imports\n",
    "Imports you may use"
   ]
  },
  {
   "cell_type": "code",
   "execution_count": 96,
   "id": "demanding-violence",
   "metadata": {},
   "outputs": [],
   "source": [
    "import numpy as np\n",
    "import math\n",
    "import vector\n",
    "import matplotlib.pyplot as plt\n",
    "from matplotlib import cm\n",
    "from mpl_toolkits.mplot3d import Axes3D"
   ]
  },
  {
   "cell_type": "markdown",
   "id": "interior-genealogy",
   "metadata": {},
   "source": [
    "## Linear Regression\n",
    "\n",
    "You will implement the gradient descent method as explained in pages 719--720 in Russell-Norvig and in the slides to compute regression lines. You will implement the stochastic and batch versions of the algorithm.\n",
    "\n",
    "You must try to do it yourself first. If you encounter difficulties, you also have the solution to this exercise in the section _Solution to linear regression_ below."
   ]
  },
  {
   "cell_type": "markdown",
   "id": "entire-basic",
   "metadata": {},
   "source": [
    "### Your implementation of linear regression\n",
    "You will implement a regression program to predict the counts of _A_'s in a text from the total count of letters. You will apply it on two data sets corresponding to letter counts in the 15 chapters of the French and English versions of _Salammbô_, where the first column is the total count of characters and the second one, the count of A's. \n",
    "\n",
    "Start with either French or English and when your program ready, test it on the other language."
   ]
  },
  {
   "cell_type": "code",
   "execution_count": 97,
   "id": "forbidden-front",
   "metadata": {},
   "outputs": [],
   "source": [
    "stat_fr = np.array([[36961, 2503],\n",
    "                      [43621, 2992],\n",
    "                      [15694, 1042],\n",
    "                      [36231, 2487],\n",
    "                      [29945, 2014],\n",
    "                      [40588, 2805],\n",
    "                      [75255, 5062],\n",
    "                      [37709, 2643],\n",
    "                      [30899, 2126],\n",
    "                      [25486, 1784],\n",
    "                      [37497, 2641],\n",
    "                      [40398, 2766],\n",
    "                      [74105, 5047],\n",
    "                      [76725, 5312],\n",
    "                      [18317, 1215]])\n",
    "\n",
    "stat_en = np.array([[35680, 2217],\n",
    "                      [42514, 2761],\n",
    "                      [15162, 990],\n",
    "                      [35298, 2274],\n",
    "                      [29800, 1865],\n",
    "                      [40255, 2606],\n",
    "                      [74532, 4805],\n",
    "                      [37464, 2396],\n",
    "                      [31030, 1993],\n",
    "                      [24843, 1627],\n",
    "                      [36172, 2375],\n",
    "                      [39552, 2560],\n",
    "                      [72545, 4597],\n",
    "                      [75352, 4871],\n",
    "                      [18031, 1119]])"
   ]
  },
  {
   "cell_type": "markdown",
   "id": "adaptive-backing",
   "metadata": {},
   "source": [
    "From the datasets above, tell what is $\\mathbf{X}$ and $\\mathbf{y}$. Extract:\n",
    "1. The $\\mathbf{X}$ matrix, where you will have a column to model the intercept;\n",
    "2. The $\\mathbf{y}$ vector\n",
    "\n",
    "from these arrays."
   ]
  },
  {
   "cell_type": "code",
   "execution_count": 98,
   "id": "attached-aluminum",
   "metadata": {},
   "outputs": [
    {
     "name": "stdout",
     "output_type": "stream",
     "text": [
      "[[    1 36961]\n",
      " [    1 43621]\n",
      " [    1 15694]\n",
      " [    1 36231]\n",
      " [    1 29945]\n",
      " [    1 40588]\n",
      " [    1 75255]\n",
      " [    1 37709]\n",
      " [    1 30899]\n",
      " [    1 25486]\n",
      " [    1 37497]\n",
      " [    1 40398]\n",
      " [    1 74105]\n",
      " [    1 76725]\n",
      " [    1 18317]]\n",
      "[[2503]\n",
      " [2992]\n",
      " [1042]\n",
      " [2487]\n",
      " [2014]\n",
      " [2805]\n",
      " [5062]\n",
      " [2643]\n",
      " [2126]\n",
      " [1784]\n",
      " [2641]\n",
      " [2766]\n",
      " [5047]\n",
      " [5312]\n",
      " [1215]]\n"
     ]
    }
   ],
   "source": [
    "X = np.array([[1, x] for x in stat_fr[:,0]])\n",
    "y = np.array([stat_fr[:,1]]).T\n",
    "\n",
    "maxima_X = [1, X.max()]\n",
    "maxima_Y = y.max()\n",
    "\n",
    "print(X)\n",
    "print(y)"
   ]
  },
  {
   "cell_type": "markdown",
   "id": "cross-neighborhood",
   "metadata": {},
   "source": [
    "Scale the arrays so that they fit in the range [0, 1] on the $x$ and $y$ axes. "
   ]
  },
  {
   "cell_type": "code",
   "execution_count": 99,
   "id": "sudden-decision",
   "metadata": {},
   "outputs": [
    {
     "name": "stdout",
     "output_type": "stream",
     "text": [
      "[[1.         0.48173346]\n",
      " [1.         0.56853698]\n",
      " [1.         0.20454871]\n",
      " [1.         0.47221896]\n",
      " [1.         0.39029   ]\n",
      " [1.         0.52900619]\n",
      " [1.         0.98084066]\n",
      " [1.         0.49148257]\n",
      " [1.         0.40272401]\n",
      " [1.         0.33217335]\n",
      " [1.         0.48871945]\n",
      " [1.         0.52652981]\n",
      " [1.         0.96585207]\n",
      " [1.         1.        ]\n",
      " [1.         0.23873574]]\n",
      "[[0.47119729]\n",
      " [0.56325301]\n",
      " [0.19615964]\n",
      " [0.46818524]\n",
      " [0.37914157]\n",
      " [0.5280497 ]\n",
      " [0.95293675]\n",
      " [0.49755271]\n",
      " [0.4002259 ]\n",
      " [0.33584337]\n",
      " [0.4971762 ]\n",
      " [0.52070783]\n",
      " [0.95011295]\n",
      " [1.        ]\n",
      " [0.22872741]]\n"
     ]
    }
   ],
   "source": [
    "x = X[:,1]\n",
    "X = np.matrix([[1, x] for x in x/x.max()])\n",
    "y = y/y.max()\n",
    "\n",
    "print(X)\n",
    "print(y)"
   ]
  },
  {
   "cell_type": "markdown",
   "metadata": {},
   "source": []
  },
  {
   "cell_type": "markdown",
   "id": "motivated-upset",
   "metadata": {},
   "source": [
    "#### Gradient descent"
   ]
  },
  {
   "cell_type": "markdown",
   "id": "careful-supplier",
   "metadata": {},
   "source": [
    "Implement the descent functions. You will pass `X`, `y`, the learning rate in the $\\alpha$ variable, the initial weight vector in `w`, the tolerance in the $\\epsilon$ variable, the maximal number of epochs in `epochs`. You will return `w`."
   ]
  },
  {
   "cell_type": "markdown",
   "id": "internal-luther",
   "metadata": {},
   "source": [
    "Batch descent"
   ]
  },
  {
   "cell_type": "code",
   "execution_count": 100,
   "id": "planned-italy",
   "metadata": {},
   "outputs": [],
   "source": [
    "# Write your code here\n",
    "def fit_batch(X, y, alpha, w,\n",
    "                  epochs=500,\n",
    "                  epsilon=1.0e-5):\n",
    "                    alpha /= len(X)\n",
    "                    gradient = X.T * (y - (X * w))\n",
    "\n",
    "                    while np.linalg.norm(gradient) > epsilon and epochs > 0:\n",
    "                      gradient = X.T * (y - (X * w))\n",
    "                      w = w + alpha * gradient\n",
    "                      epochs -= 1\n",
    "\n",
    "                    return w"
   ]
  },
  {
   "cell_type": "markdown",
   "id": "french-sight",
   "metadata": {},
   "source": [
    "Stochastic descent"
   ]
  },
  {
   "cell_type": "code",
   "execution_count": 101,
   "id": "emerging-vegetation",
   "metadata": {},
   "outputs": [],
   "source": [
    "# Write your code here\n",
    "def fit_stoch(X, y, alpha, w,\n",
    "                  epochs=500,\n",
    "                  epsilon=1.0e-5):\n",
    "                    gradient = (y[0, 0] - ((X[0]) * w)[0,0]) * X[0,:].T\n",
    "\n",
    "                    while np.linalg.norm(gradient) > epsilon and epochs > 0:\n",
    "                      for i in range(len(X)):\n",
    "                        gradient = (y[i, 0] - ((X[i]) * w)[0,0]) * X[i,:].T\n",
    "                        w = w + alpha * gradient\n",
    "                      epochs -= 1\n",
    "\n",
    "                    return w"
   ]
  },
  {
   "cell_type": "markdown",
   "id": "junior-kazakhstan",
   "metadata": {},
   "source": [
    "#### Applying batch descent"
   ]
  },
  {
   "cell_type": "markdown",
   "id": "treated-assets",
   "metadata": {},
   "source": [
    "Apply the batch descent and print the final weight values "
   ]
  },
  {
   "cell_type": "code",
   "execution_count": 102,
   "id": "maritime-andorra",
   "metadata": {},
   "outputs": [
    {
     "name": "stdout",
     "output_type": "stream",
     "text": [
      "[[0.00164923]\n",
      " [0.98651665]]\n",
      "[8.760722557199653, 0.06830076845766861]\n"
     ]
    }
   ],
   "source": [
    "w_batch = fit_batch(X, y, 1, np.array([[1.0, 1.0]]).T)\n",
    "print(w_batch)\n",
    "w_batch_norm = [0,0]\n",
    "for i in range(len(w_batch)):\n",
    "    w_batch_norm[i] = np.squeeze(np.asarray(w_batch[i])) * maxima_Y / maxima_X[i]\n",
    "\n",
    "print(w_batch_norm)"
   ]
  },
  {
   "cell_type": "markdown",
   "id": "virgin-blast",
   "metadata": {},
   "source": [
    "Visualize the points of your dataset as well as the regression lines you obtain using matplotlib or another similar program."
   ]
  },
  {
   "cell_type": "code",
   "execution_count": 103,
   "id": "durable-stationery",
   "metadata": {},
   "outputs": [
    {
     "data": {
      "text/plain": [
       "[<matplotlib.lines.Line2D at 0x7f208fe1a910>]"
      ]
     },
     "execution_count": 103,
     "metadata": {},
     "output_type": "execute_result"
    },
    {
     "data": {
      "image/png": "[encoded data removed]",
      "text/plain": [
       "<Figure size 432x288 with 1 Axes>"
      ]
     },
     "metadata": {
      "needs_background": "light"
     },
     "output_type": "display_data"
    }
   ],
   "source": [
    "def f(x, w):\n",
    "    return w[1]*x + w[0]\n",
    "\n",
    "chars = stat_fr[:,0]\n",
    "x = np.linspace(0, chars.max(), 10)\n",
    "\n",
    "plt.plot(chars, stat_fr[:,1], 'r^')\n",
    "plt.plot(x, f(x, w_batch_norm))"
   ]
  },
  {
   "cell_type": "markdown",
   "id": "consistent-tampa",
   "metadata": {},
   "source": [
    "#### Stochastic descent"
   ]
  },
  {
   "cell_type": "code",
   "execution_count": 104,
   "id": "distinct-cruise",
   "metadata": {},
   "outputs": [
    {
     "name": "stdout",
     "output_type": "stream",
     "text": [
      "[[0.00270032]\n",
      " [0.98666217]]\n",
      "[14.344100924740781, 0.06831084296813131]\n"
     ]
    }
   ],
   "source": [
    "w_stoch = fit_stoch(X, y, 0.1, np.array([[1.0, 1.0]]).T)\n",
    "print(w_stoch)\n",
    "w_stoch_norm = [0,0]\n",
    "for i in range(len(w_stoch)):\n",
    "    w_stoch_norm[i] = np.squeeze(np.asarray(w_stoch[i])) * maxima_Y / maxima_X[i]\n",
    "\n",
    "print(w_stoch_norm)"
   ]
  },
  {
   "cell_type": "markdown",
   "id": "fuzzy-circular",
   "metadata": {},
   "source": [
    "Visualize the points of your dataset as well as the regression lines you obtain using matplotlib or another similar program."
   ]
  },
  {
   "cell_type": "code",
   "execution_count": 105,
   "id": "illegal-steps",
   "metadata": {},
   "outputs": [
    {
     "data": {
      "text/plain": [
       "[<matplotlib.lines.Line2D at 0x7f2092934e80>]"
      ]
     },
     "execution_count": 105,
     "metadata": {},
     "output_type": "execute_result"
    },
    {
     "data": {
      "image/png": "[encoded data removed]",
      "text/plain": [
       "<Figure size 432x288 with 1 Axes>"
      ]
     },
     "metadata": {
      "needs_background": "light"
     },
     "output_type": "display_data"
    }
   ],
   "source": [
    "def f(x, w):\n",
    "    return w[1]*x + w[0]\n",
    "\n",
    "chars = stat_fr[:,0]\n",
    "x = np.linspace(0, chars.max(), 10)\n",
    "\n",
    "plt.plot(chars, stat_fr[:,1], 'r^')\n",
    "plt.plot(x, f(x, w_stoch_norm))"
   ]
  },
  {
   "cell_type": "markdown",
   "id": "biological-assignment",
   "metadata": {},
   "source": [
    "### A solution to linear regression\n",
    "\n",
    "To help you start this assignment, your instructor wrote two Python notebooks that solve this exercise on linear regression. You can find them here: https://github.com/pnugues/ilppp/tree/master/programs/ch04/python\n",
    "The first notebook, `gradient_descent.ipynb`, only uses Python and vector operations such as the dot product that are in the `vector.py` file.\n",
    "The second notebook, `gradient_descent_numpy.ipynb`, uses Numpy. It is more compact, but you need to know a bit of numpy.\n",
    "\n",
    "To run these programs, download them on your computer as well as the other program in the import list: vector.py\n",
    "\n",
    "The programs are also available as Python programs from\n",
    "https://github.com/pnugues/ilppp/tree/master/programs/ch04/python"
   ]
  },
  {
   "cell_type": "markdown",
   "id": "suspended-province",
   "metadata": {},
   "source": [
    "## Classification\n",
    "You will use the same data set as for linear regression, but this time to classify a chapter as French or English. Given a pair of numbers corresponding the letter count and count of _A_, you will predict the language:\n",
    "1. $\\mathbf{x} = (35680, 2217)$ $\\to$ $y$ = English\n",
    "2. $\\mathbf{x} = (37497, 2641)$ $\\to$ $y$ = French"
   ]
  },
  {
   "cell_type": "markdown",
   "id": "joint-psychology",
   "metadata": {},
   "source": [
    "### The dataset\n",
    "You will use the arrays below:\n",
    "1. `X` contains the counts of letters and of _A_ s as well as a column of ones for the intercept;\n",
    "2. `y` contains the classes, where 0 is for English and 1 for French."
   ]
  },
  {
   "cell_type": "code",
   "execution_count": 106,
   "id": "sustainable-payment",
   "metadata": {},
   "outputs": [],
   "source": [
    "X = [[1.0, 35680.0, 2217.0],\n",
    "     [1.0, 42514.0, 2761.0],\n",
    "     [1.0, 15162.0, 990.0],\n",
    "     [1.0, 35298.0, 2274.0],\n",
    "     [1.0, 29800.0, 1865.0],\n",
    "     [1.0, 40255.0, 2606.0],\n",
    "     [1.0, 74532.0, 4805.0],\n",
    "     [1.0, 37464.0, 2396.0],\n",
    "     [1.0, 31030.0, 1993.0],\n",
    "     [1.0, 24843.0, 1627.0],\n",
    "     [1.0, 36172.0, 2375.0],\n",
    "     [1.0, 39552.0, 2560.0],\n",
    "     [1.0, 72545.0, 4597.0],\n",
    "     [1.0, 75352.0, 4871.0],\n",
    "     [1.0, 18031.0, 1119.0],\n",
    "     [1.0, 36961.0, 2503.0],\n",
    "     [1.0, 43621.0, 2992.0],\n",
    "     [1.0, 15694.0, 1042.0],\n",
    "     [1.0, 36231.0, 2487.0],\n",
    "     [1.0, 29945.0, 2014.0],\n",
    "     [1.0, 40588.0, 2805.0],\n",
    "     [1.0, 75255.0, 5062.0],\n",
    "     [1.0, 37709.0, 2643.0],\n",
    "     [1.0, 30899.0, 2126.0],\n",
    "     [1.0, 25486.0, 1784.0],\n",
    "     [1.0, 37497.0, 2641.0],\n",
    "     [1.0, 40398.0, 2766.0],\n",
    "     [1.0, 74105.0, 5047.0],\n",
    "     [1.0, 76725.0, 5312.0],\n",
    "     [1.0, 18317.0, 1215.0]]\n",
    "y = [0.0, 0.0, 0.0, 0.0, 0.0, 0.0, 0.0, 0.0, 0.0, 0.0, 0.0, 0.0, 0.0, 0.0, 0.0,\n",
    "     1.0, 1.0, 1.0, 1.0, 1.0, 1.0, 1.0, 1.0, 1.0, 1.0, 1.0, 1.0, 1.0, 1.0, 1.0]"
   ]
  },
  {
   "cell_type": "markdown",
   "id": "emerging-looking",
   "metadata": {},
   "source": [
    "We visualize it"
   ]
  },
  {
   "cell_type": "code",
   "execution_count": 107,
   "id": "verified-bridal",
   "metadata": {},
   "outputs": [],
   "source": [
    "x_fr = [x[1] for i, x in enumerate(X) if y[i] == 1]\n",
    "y_fr = [x[2] for i, x in enumerate(X) if y[i] == 1]\n",
    "x_en = [x[1] for i, x in enumerate(X) if y[i] == 0]\n",
    "y_en = [x[2] for i, x in enumerate(X) if y[i] == 0]"
   ]
  },
  {
   "cell_type": "code",
   "execution_count": 108,
   "id": "constitutional-carry",
   "metadata": {},
   "outputs": [
    {
     "data": {
      "text/plain": [
       "<matplotlib.collections.PathCollection at 0x7f2091df2b50>"
      ]
     },
     "execution_count": 108,
     "metadata": {},
     "output_type": "execute_result"
    },
    {
     "data": {
      "image/png": "[encoded data removed]",
      "text/plain": [
       "<Figure size 432x288 with 1 Axes>"
      ]
     },
     "metadata": {
      "needs_background": "light"
     },
     "output_type": "display_data"
    }
   ],
   "source": [
    "plt.scatter(x_fr, y_fr, color='red')\n",
    "plt.scatter(x_en, y_en, color='blue')"
   ]
  },
  {
   "cell_type": "markdown",
   "id": "mineral-pointer",
   "metadata": {},
   "source": [
    "### Normalize the dataset"
   ]
  },
  {
   "cell_type": "markdown",
   "id": "imported-reporter",
   "metadata": {},
   "source": [
    "Gradient descent algorithms can be very sensitive to the range. Therefore, we normalize the dataset."
   ]
  },
  {
   "cell_type": "code",
   "execution_count": 109,
   "id": "adequate-words",
   "metadata": {},
   "outputs": [],
   "source": [
    "def normalize(observations):\n",
    "    maxima = [max([obs[i] for obs in observations]) for i in range(len(observations[0]))]\n",
    "    return ([[obs[i] / maxima[i]\n",
    "              for i in range(len(observations[0]))] for obs in observations],\n",
    "            maxima)"
   ]
  },
  {
   "cell_type": "code",
   "execution_count": 110,
   "id": "conservative-effectiveness",
   "metadata": {},
   "outputs": [
    {
     "data": {
      "text/plain": [
       "[[1.0, 0.4650374714890844, 0.4173569277108434],\n",
       " [1.0, 0.5541088302378625, 0.5197665662650602],\n",
       " [1.0, 0.19761485826001954, 0.18637048192771086],\n",
       " [1.0, 0.460058651026393, 0.42808734939759036],\n",
       " [1.0, 0.3884001303356142, 0.3510918674698795],\n",
       " [1.0, 0.5246660149885957, 0.49058734939759036],\n",
       " [1.0, 0.9714173998044966, 0.9045557228915663],\n",
       " [1.0, 0.4882893450635386, 0.4510542168674699],\n",
       " [1.0, 0.4044314108830238, 0.37518825301204817],\n",
       " [1.0, 0.32379276637341153, 0.30628765060240964],\n",
       " [1.0, 0.47144998370804825, 0.4471009036144578],\n",
       " [1.0, 0.5155034213098729, 0.4819277108433735],\n",
       " [1.0, 0.9455197132616487, 0.8653990963855421],\n",
       " [1.0, 0.9821049201694363, 0.916980421686747],\n",
       " [1.0, 0.2350081459758879, 0.21065512048192772],\n",
       " [1.0, 0.48173346366894754, 0.4711972891566265],\n",
       " [1.0, 0.5685369827305311, 0.5632530120481928],\n",
       " [1.0, 0.2045487129358097, 0.19615963855421686],\n",
       " [1.0, 0.47221896383186707, 0.46818524096385544],\n",
       " [1.0, 0.39028999674160963, 0.37914156626506024],\n",
       " [1.0, 0.5290061909416748, 0.5280496987951807],\n",
       " [1.0, 0.9808406647116324, 0.9529367469879518],\n",
       " [1.0, 0.49148256761159986, 0.4975527108433735],\n",
       " [1.0, 0.40272401433691757, 0.4002259036144578],\n",
       " [1.0, 0.3321733463668948, 0.3358433734939759],\n",
       " [1.0, 0.4887194525904203, 0.4971762048192771],\n",
       " [1.0, 0.5265298142717497, 0.5207078313253012],\n",
       " [1.0, 0.9658520690778756, 0.9501129518072289],\n",
       " [1.0, 1.0, 1.0],\n",
       " [1.0, 0.23873574454219615, 0.22872740963855423]]"
      ]
     },
     "execution_count": 110,
     "metadata": {},
     "output_type": "execute_result"
    }
   ],
   "source": [
    "X_norm, maxima = normalize(X)\n",
    "X_norm"
   ]
  },
  {
   "cell_type": "markdown",
   "id": "attached-reverse",
   "metadata": {},
   "source": [
    "## The Perceptron\n",
    "\n",
    "1. Write the perceptron program as explained in pages 723--725 in Russell-Norvig and in the slides and run it on your data set. As suggested program structure, use two functions: \n",
    " * `fit(X, y)` that will return `w` (the model). You can choose a stochastic or batch variant;\n",
    " * `predict(X, w)` that will return `y_hat`. You can encapsulate these functions in a class and, of course, add more parameters.\n",
    "2. As a stop criterion, you will use the number of misclassified examples.\n",
    "3. You will report the parameters you have used and the weight vector\n",
    "\n",
    "You can use numpy or not. The next cells are just suggested steps. You can implement it your way."
   ]
  },
  {
   "cell_type": "markdown",
   "id": "applicable-missouri",
   "metadata": {},
   "source": [
    "### The `predict(X, w)` function\n",
    "Write a `predict(X, w)` function that given a matrix of observations $\\mathbf{X}$ and a weight vector $\\mathbf{w}$ will return a $\\mathbf{\\hat{y}}$ vector classes (0 or 1)"
   ]
  },
  {
   "cell_type": "code",
   "execution_count": 111,
   "id": "demanding-stage",
   "metadata": {},
   "outputs": [],
   "source": [
    "def predict(X, w):\n",
    "    if len(X) > 3:\n",
    "        return [ 1 if x > 0.5 else 0 for x in vector.mul_mat_vec(X, w)]\n",
    "    else:\n",
    "        return 1 if vector.dot(X, w) > 0.5 else 0"
   ]
  },
  {
   "cell_type": "markdown",
   "id": "choice-morgan",
   "metadata": {},
   "source": [
    "### The `fit(X, y)` function"
   ]
  },
  {
   "cell_type": "markdown",
   "id": "documented-cartridge",
   "metadata": {},
   "source": [
    "Write a `fit(X, y)` function that given a matrix of observations $\\mathbf{X}$ and a vector of responses $\\mathbf{y}$ will return a weight $\\mathbf{w}$ vector. You may use the other arguments of the function, notably the number of misclassified examples to define the stop condition."
   ]
  },
  {
   "cell_type": "code",
   "execution_count": 112,
   "id": "therapeutic-balloon",
   "metadata": {},
   "outputs": [],
   "source": [
    "import random\n",
    "import vector\n",
    "def fit_stoch(X, y,\n",
    "              epochs=1000,\n",
    "              max_misclassified=0,\n",
    "              verbose=True):\n",
    "                w = [1, 1, 1]\n",
    "                idx = list(range(len(X)))\n",
    "                random.seed(0)\n",
    "\n",
    "                for epoch in range(epochs):\n",
    "                  loss_sum = 0\n",
    "                  random.shuffle(idx)\n",
    "                  alpha = 1000/(1000+epoch)\n",
    "\n",
    "                  for i in idx:\n",
    "                      y_hat = predict(X[i], w)\n",
    "                      loss = y[i] - y_hat\n",
    "                      loss_sum += abs(loss)\n",
    "                      gradient = vector.mul(loss, X[i])\n",
    "                      w = vector.add(w, vector.mul(alpha, gradient))\n",
    "\n",
    "                  if loss_sum <= max_misclassified:\n",
    "                    break\n",
    "                if verbose:\n",
    "                  print(f\"epochs: {epoch+1}, weights: {w}\")\n",
    "                return w"
   ]
  },
  {
   "cell_type": "markdown",
   "id": "accessory-graduate",
   "metadata": {},
   "source": [
    "### Fitting the dataset"
   ]
  },
  {
   "cell_type": "code",
   "execution_count": 113,
   "id": "reported-uniform",
   "metadata": {},
   "outputs": [
    {
     "name": "stdout",
     "output_type": "stream",
     "text": [
      "epochs: 2947, weights: [0.6070055769342773, -36.61293124103709, 38.2423791717434]\n",
      "[0.6070055769342773, -36.61293124103709, 38.2423791717434]\n"
     ]
    }
   ],
   "source": [
    "w = fit_stoch(X_norm, y, epochs=10000)\n",
    "print(w)"
   ]
  },
  {
   "cell_type": "code",
   "execution_count": 114,
   "id": "formal-bahamas",
   "metadata": {},
   "outputs": [
    {
     "name": "stdout",
     "output_type": "stream",
     "text": [
      "Restored weights [3224.413624674881, -2.534869869695523, 38.2423791717434]\n",
      "Weights with y set to 1 [84.31519415134457, -0.06628431401486894, 1.0]\n"
     ]
    }
   ],
   "source": [
    "w = [w[i] * maxima[-1] / maxima[i] for i in range(len(w))]\n",
    "print(\"Restored weights\", w)\n",
    "w = [w[j] / w[-1] for j in range(len(w))]\n",
    "print(\"Weights with y set to 1\", w)"
   ]
  },
  {
   "cell_type": "markdown",
   "id": "demographic-control",
   "metadata": {},
   "source": [
    "### Visualizing the results"
   ]
  },
  {
   "cell_type": "code",
   "execution_count": 115,
   "id": "forward-enclosure",
   "metadata": {},
   "outputs": [
    {
     "data": {
      "text/plain": [
       "[<matplotlib.lines.Line2D at 0x7f2091f5fb20>]"
      ]
     },
     "execution_count": 115,
     "metadata": {},
     "output_type": "execute_result"
    },
    {
     "data": {
      "image/png": "[encoded data removed]",
      "text/plain": [
       "<Figure size 432x288 with 1 Axes>"
      ]
     },
     "metadata": {
      "needs_background": "light"
     },
     "output_type": "display_data"
    }
   ],
   "source": [
    "plt.scatter(x_fr, y_fr, color='red')\n",
    "plt.scatter(x_en, y_en, color='blue')\n",
    "plt.plot([min(x_fr + x_en), max(x_fr + x_en)],\n",
    "             [-w[1] * min(x_fr + x_en) - w[0], -w[1] * max(x_fr + x_en) - w[0]])"
   ]
  },
  {
   "cell_type": "code",
   "execution_count": null,
   "metadata": {},
   "outputs": [],
   "source": []
  },
  {
   "cell_type": "markdown",
   "id": "eleven-honolulu",
   "metadata": {},
   "source": [
    "### Evaluation\n",
    "Evaluate your perceptron using the leave-one-out cross validation method. You will have to train and run 30 models. In each train/run session, you will train on 29 samples and evaluate on the remaining sample. You have then either a correct or a wrong classification. You will sum these classifications, i.e. the number of correct classifications, to get your final evaluation, for instance 29/30."
   ]
  },
  {
   "cell_type": "code",
   "execution_count": 116,
   "id": "patent-leeds",
   "metadata": {},
   "outputs": [],
   "source": [
    "# Write your code here\n",
    "def leave_one_out_cross_val(X, y, fitting_function):\n",
    "    size = len(X)\n",
    "    incorrects = 0\n",
    "    \n",
    "    for i in range(size):\n",
    "        print(f\"Fold {i+1} of {size}: \",end=\"\") \n",
    "        X_fold = X[:i]+X[i+1:]\n",
    "        y_fold = y[:i]+y[i+1:]\n",
    "        w = fitting_function(X_fold, y_fold, epochs=10000)\n",
    "\n",
    "        loss = y[i] - predict(X[i], w)\n",
    "        print(f\"{'Correct' if loss == 0 else 'Wrong'}\")\n",
    "        incorrects += abs(loss)\n",
    "\n",
    "    return (size-incorrects)/size"
   ]
  },
  {
   "cell_type": "code",
   "execution_count": 117,
   "id": "continuing-archive",
   "metadata": {},
   "outputs": [
    {
     "name": "stdout",
     "output_type": "stream",
     "text": [
      "Fold 1 of 30: epochs: 3267, weights: [0.6060664813158964, -36.59720768499, 38.22930263255961]\n",
      "Correct\n",
      "Fold 2 of 30: epochs: 3657, weights: [0.6043655779366343, -36.337283251549415, 37.969459329701664]\n",
      "Correct\n",
      "Fold 3 of 30: epochs: 839, weights: [0.7932831309957908, -32.79582779263898, 33.6958913384624]\n",
      "Wrong\n",
      "Fold 4 of 30: epochs: 3728, weights: [0.6045517941664909, -36.921991587092585, 38.586912242976794]\n",
      "Correct\n",
      "Fold 5 of 30: epochs: 5020, weights: [0.5968954821208052, -37.28248042706193, 39.00821519761007]\n",
      "Correct\n",
      "Fold 6 of 30: epochs: 4415, weights: [0.5978610560261672, -36.83172604285493, 38.52874682698481]\n",
      "Correct\n",
      "Fold 7 of 30: epochs: 2591, weights: [0.6120957132256144, -35.773975902934275, 37.32815635728922]\n",
      "Correct\n",
      "Fold 8 of 30: epochs: 5020, weights: [0.5956686236788833, -37.35275940961017, 39.08578592183691]\n",
      "Correct\n",
      "Fold 9 of 30: epochs: 5696, weights: [0.5948680646265002, -37.501971584697245, 39.25291733600989]\n",
      "Correct\n",
      "Fold 10 of 30: epochs: 5553, weights: [0.4870857798802778, -36.895482789810394, 38.57221353884668]\n",
      "Correct\n",
      "Fold 11 of 30: epochs: 6923, weights: [0.4578409825056937, -36.58216095430996, 38.37011483565914]\n",
      "Correct\n",
      "Fold 12 of 30: epochs: 4490, weights: [0.5988633528177179, -36.86342314901609, 38.55512558635006]\n",
      "Correct\n",
      "Fold 13 of 30: epochs: 2588, weights: [0.6139142888279612, -35.63018978982174, 37.16861658548763]\n",
      "Correct\n",
      "Fold 14 of 30: epochs: 2588, weights: [0.6103333650939711, -35.203223647354065, 36.732261167978294]\n",
      "Correct\n",
      "Fold 15 of 30: epochs: 5610, weights: [0.5950150411453501, -37.316362976055906, 39.05592256774705]\n",
      "Correct\n",
      "Fold 16 of 30: epochs: 2919, weights: [0.6089089722432695, -35.82547075300835, 37.4009802681909]\n",
      "Correct\n",
      "Fold 17 of 30: epochs: 3802, weights: [0.6012857229732791, -36.31388769980211, 37.95517587821134]\n",
      "Correct\n",
      "Fold 18 of 30: epochs: 1461, weights: [0.6186785553599154, -34.142416568374514, 35.55180064877117]\n",
      "Correct\n",
      "Fold 19 of 30: epochs: 3555, weights: [0.6060569534307589, -36.7178373620121, 38.363396166116054]\n",
      "Correct\n",
      "Fold 20 of 30: epochs: 2309, weights: [0.6124115908304573, -34.83240338432456, 36.328005450640134]\n",
      "Correct\n",
      "Fold 21 of 30: epochs: 4326, weights: [0.6002554274758647, -37.04812254385265, 38.74503039181094]\n",
      "Correct\n",
      "Fold 22 of 30: epochs: 6254, weights: [0.4757478723866343, -36.84728927575769, 38.57437940912905]\n",
      "Correct\n",
      "Fold 23 of 30: epochs: 5030, weights: [0.5967449254547872, -37.07825751694374, 38.7929750984721]\n",
      "Correct\n",
      "Fold 24 of 30: epochs: 3818, weights: [0.6025981884330205, -36.38446073975896, 38.026248077340625]\n",
      "Correct\n",
      "Fold 25 of 30: epochs: 3653, weights: [0.6046778214005858, -36.413998710470885, 38.04893326565717]\n",
      "Correct\n",
      "Fold 26 of 30: epochs: 5124, weights: [0.5971884284610416, -37.187011822974405, 38.90827523277869]\n",
      "Correct\n",
      "Fold 27 of 30: epochs: 4692, weights: [0.5981285492742072, -36.819009891076504, 38.51263937434959]\n",
      "Correct\n",
      "Fold 28 of 30: epochs: 6090, weights: [0.592414399959123, -36.99204576326909, 38.72615950868503]\n",
      "Correct\n",
      "Fold 29 of 30: epochs: 5713, weights: [0.5942777793991464, -36.834310911381934, 38.550500298992006]\n",
      "Correct\n",
      "Fold 30 of 30: epochs: 1742, weights: [0.6121172082080617, -34.481088704297235, 35.95467478004557]\n",
      "Correct\n",
      "Cross-validation accuracy (stochastic): 0.9666666666666667\n"
     ]
    }
   ],
   "source": [
    "stoch_accuracy = leave_one_out_cross_val(X_norm, y, fit_stoch)\n",
    "print('Cross-validation accuracy (stochastic):', stoch_accuracy)"
   ]
  },
  {
   "cell_type": "markdown",
   "id": "toxic-score",
   "metadata": {},
   "source": [
    "## Logistic Regression\n",
    "From your perceptron program, implement logistic regression. You can either follow the description from the textbook, S. Russell and R. Norvig, _Artificial Intelligence_, 2010, pages 725--727, or the slides. You can either implement the stochastic or the batch version of the algorithm, or both versions. As stop criterion, you will use either the norm of the gradient or the norm of the difference between two consecutive weight vectors. You will also set a maximal number of epochs. Run the resulting program on your data set."
   ]
  },
  {
   "cell_type": "markdown",
   "id": "variable-albania",
   "metadata": {},
   "source": [
    "Write the logistic function, where the $x$ input is a real number."
   ]
  },
  {
   "cell_type": "code",
   "execution_count": 118,
   "id": "secret-orbit",
   "metadata": {},
   "outputs": [],
   "source": [
    "from math import exp\n",
    "def logistic(x):\n",
    "    try:\n",
    "        res = 1/(1+np.exp(-x))    \n",
    "    except OverflowError:\n",
    "        res = 1/(1+exp(-float('inf')))\n",
    "\n",
    "    return res"
   ]
  },
  {
   "cell_type": "markdown",
   "id": "atmospheric-payroll",
   "metadata": {},
   "source": [
    "### The `predict(X, w)` function"
   ]
  },
  {
   "cell_type": "markdown",
   "id": "motivated-mustang",
   "metadata": {},
   "source": [
    "Write a `predict_proba()` function that given a matrix of observations $\\mathbf{X}$ and a weight vector $\\mathbf{w}$ will return a vector of probabilities to belong to class 1: The vector will consist of $P(1|\\mathbf{x}_i)$ for all the $i$ rows of $\\mathbf{X}$."
   ]
  },
  {
   "cell_type": "code",
   "execution_count": 119,
   "id": "genuine-sharing",
   "metadata": {},
   "outputs": [],
   "source": [
    "def predict_proba(X, w):\n",
    "    return [logistic(vector.dot(x, w)) for x in X]"
   ]
  },
  {
   "cell_type": "markdown",
   "id": "front-salad",
   "metadata": {},
   "source": [
    "Write a `predict(X, w)` function that given a matrix of observations $\\mathbf{X}$ and a weight vector $\\mathbf{w}$ will return the class. You will use `predict_proba()` and set the threshold to belong to class 1 to 0.5."
   ]
  },
  {
   "cell_type": "code",
   "execution_count": 120,
   "id": "historic-intention",
   "metadata": {},
   "outputs": [],
   "source": [
    "def predict(X, w):\n",
    "    return [1 if p > 0.5 else 0 for p in predict_proba(X, w)]"
   ]
  },
  {
   "cell_type": "markdown",
   "id": "assisted-variation",
   "metadata": {},
   "source": [
    "### The `fit(X, y)` function"
   ]
  },
  {
   "cell_type": "markdown",
   "id": "blind-relation",
   "metadata": {},
   "source": [
    "You will now write the `fit(X, y)` function as with the perceptron. You may call it `fit_stoch(X, y)` or `fit_batch(X, y)`. Use the parameters given in the cell below."
   ]
  },
  {
   "cell_type": "code",
   "execution_count": 121,
   "id": "parallel-reynolds",
   "metadata": {},
   "outputs": [],
   "source": [
    "import random\n",
    "def fit_stoch(X, y, alpha=100,\n",
    "                epochs=1000,\n",
    "                epsilon=1.0e-4,\n",
    "                verbose=False):\n",
    "\n",
    "                w = [1, 1, 1]\n",
    "                idx = list(range(len(X)))\n",
    "                random.seed(0)\n",
    "\n",
    "                for epoch in range(epochs):\n",
    "                  loss_sum = 0\n",
    "                  random.shuffle(idx)\n",
    "                  gradient_total = [0,0,0]\n",
    "                  for i in idx:\n",
    "                      y_hat = predict([X[i]], w)\n",
    "                      loss = y[i] - y_hat[0]\n",
    "                      loss_sum += abs(loss)\n",
    "                      gradient = vector.mul(loss, X[i])\n",
    "                      w = vector.add(w, vector.mul(alpha, gradient))\n",
    "                      gradient_total += gradient\n",
    "                  \n",
    "                  print(f\"Gradient: {vector.norm(gradient_total)}\")\n",
    "\n",
    "                  if vector.norm(gradient_total) < epsilon:\n",
    "                    break\n",
    "                if verbose:\n",
    "                  print(f\"epochs: {epoch+1}, weights: {w}\")\n",
    "                return w"
   ]
  },
  {
   "cell_type": "code",
   "execution_count": 122,
   "id": "naughty-sphere",
   "metadata": {},
   "outputs": [
    {
     "name": "stdout",
     "output_type": "stream",
     "text": [
      "Gradient: 5.475551767445291\n",
      "Gradient: 5.228182034280857\n",
      "Gradient: 4.954432153147117\n",
      "Gradient: 4.890564812899064\n",
      "Gradient: 5.603166472634043\n",
      "Gradient: 5.19202259003509\n",
      "Gradient: 4.950522975544112\n",
      "Gradient: 5.022180268610538\n",
      "Gradient: 6.201870768362436\n",
      "Gradient: 5.468702149462521\n",
      "Gradient: 4.470418142427149\n",
      "Gradient: 5.234790949973799\n",
      "Gradient: 4.952226162941151\n",
      "Gradient: 4.878083933118953\n",
      "Gradient: 5.1766835707528145\n",
      "Gradient: 4.726034547347701\n",
      "Gradient: 4.6357548373362\n",
      "Gradient: 5.449361917770001\n",
      "Gradient: 4.752042352518906\n",
      "Gradient: 5.385252305389669\n",
      "Gradient: 4.974632421287923\n",
      "Gradient: 5.397295597337509\n",
      "Gradient: 3.700303243496158\n",
      "Gradient: 0.0\n",
      "epochs: 24, weights: [1.0, -302.4095796676446, 314.1212349397591]\n"
     ]
    },
    {
     "data": {
      "text/plain": [
       "[1.0, -302.4095796676446, 314.1212349397591]"
      ]
     },
     "execution_count": 122,
     "metadata": {},
     "output_type": "execute_result"
    }
   ],
   "source": [
    "w = fit_stoch(X_norm, y, verbose=True)\n",
    "w"
   ]
  },
  {
   "cell_type": "code",
   "execution_count": 123,
   "id": "experienced-manor",
   "metadata": {},
   "outputs": [
    {
     "name": "stdout",
     "output_type": "stream",
     "text": [
      "Restored weights [1.0, -0.0039414738307936735, 0.05913426862570766]\n",
      "Weights with y set to 1 [16.91066826799759, -0.06665295643954547, 1.0]\n"
     ]
    }
   ],
   "source": [
    "w = [w[i] / maxima[i] for i in range(len(w))]\n",
    "print(\"Restored weights\", w)\n",
    "w = [w[j] / w[-1] for j in range(len(w))]\n",
    "print(\"Weights with y set to 1\", w)"
   ]
  },
  {
   "cell_type": "markdown",
   "id": "coastal-motion",
   "metadata": {},
   "source": [
    "### Visualizing the results"
   ]
  },
  {
   "cell_type": "code",
   "execution_count": 124,
   "id": "illegal-evans",
   "metadata": {},
   "outputs": [
    {
     "data": {
      "image/png": "[encoded data removed]",
      "text/plain": [
       "<Figure size 432x288 with 1 Axes>"
      ]
     },
     "metadata": {
      "needs_background": "light"
     },
     "output_type": "display_data"
    }
   ],
   "source": [
    "plt.scatter(x_fr, y_fr, color='red')\n",
    "plt.scatter(x_en, y_en, color='blue')\n",
    "plt.plot([min(x_fr + x_en), max(x_fr + x_en)],\n",
    "         [-w[1] * min(x_fr + x_en) - w[0], -w[1] * max(x_fr + x_en) - w[0]])\n",
    "plt.show()"
   ]
  },
  {
   "cell_type": "code",
   "execution_count": null,
   "metadata": {},
   "outputs": [],
   "source": []
  },
  {
   "cell_type": "markdown",
   "id": "wireless-value",
   "metadata": {},
   "source": [
    "### Evaluation\n",
    "Evaluate your logistic regression using the leave-one-out cross validation method as with the perceptron"
   ]
  },
  {
   "cell_type": "code",
   "execution_count": 125,
   "id": "offensive-trinity",
   "metadata": {},
   "outputs": [],
   "source": [
    "def leave_one_out_cross_val(X, y, fitting_function):\n",
    "    size = len(X)\n",
    "    incorrects = 0\n",
    "    \n",
    "    for i in range(size):\n",
    "        print(f\"Fold {i+1} of {size}: \",end=\"\") \n",
    "        X_fold = X[:i]+X[i+1:]\n",
    "        y_fold = y[:i]+y[i+1:]\n",
    "        w = fitting_function(X_fold, y_fold, epochs=10000)\n",
    "\n",
    "        loss = y[i] - predict([X[i]], w)[0]\n",
    "        print(f\"{'Correct' if loss == 0 else 'Wrong'}\")\n",
    "        incorrects += abs(loss)\n",
    "\n",
    "    return (size-incorrects)/size"
   ]
  },
  {
   "cell_type": "code",
   "execution_count": 126,
   "id": "simple-chile",
   "metadata": {},
   "outputs": [
    {
     "name": "stdout",
     "output_type": "stream",
     "text": [
      "Fold 1 of 30: Gradient: 4.996726538784322\n",
      "Gradient: 5.384900679102873\n",
      "Gradient: 5.27558628717403\n",
      "Gradient: 4.370965047544069\n",
      "Gradient: 3.542256652513299\n",
      "Gradient: 4.38450694552858\n",
      "Gradient: 4.946820993505518\n",
      "Gradient: 4.571978167653393\n",
      "Gradient: 5.148757724706601\n",
      "Gradient: 4.9124171213667625\n",
      "Gradient: 4.928878842771045\n",
      "Gradient: 4.521213447194951\n",
      "Gradient: 6.219881362656788\n",
      "Gradient: 5.138801716984052\n",
      "Gradient: 5.531612976977553\n",
      "Gradient: 3.8967224400203304\n",
      "Gradient: 4.8924767750696425\n",
      "Gradient: 5.074074203533086\n",
      "Gradient: 4.549692455578743\n",
      "Gradient: 4.423096006633278\n",
      "Gradient: 4.833562386460073\n",
      "Gradient: 5.239146346954542\n",
      "Gradient: 4.978478308647515\n",
      "Gradient: 5.460010181625212\n",
      "Gradient: 4.916372554257829\n",
      "Gradient: 4.863433360710877\n",
      "Gradient: 4.376455555098812\n",
      "Gradient: 4.590695426124027\n",
      "Gradient: 5.383380331567638\n",
      "Gradient: 5.110346745421552\n",
      "Gradient: 5.3287287176130524\n",
      "Gradient: 4.557124501163602\n",
      "Gradient: 5.605042845965021\n",
      "Gradient: 5.413407489591959\n",
      "Gradient: 4.443618926868404\n",
      "Gradient: 4.185665345492266\n",
      "Gradient: 0.0\n",
      "Correct\n",
      "Fold 2 of 30: Gradient: 4.996726538784322\n",
      "Gradient: 5.36062814565875\n",
      "Gradient: 4.851042679236994\n",
      "Gradient: 5.111908925170847\n",
      "Gradient: 3.6907137224409343\n",
      "Gradient: 4.38450694552858\n",
      "Gradient: 4.946820993505518\n",
      "Gradient: 4.551509325634951\n",
      "Gradient: 5.148757724706601\n",
      "Gradient: 4.9124171213667625\n",
      "Gradient: 4.28640953686\n",
      "Gradient: 4.82773830654429\n",
      "Gradient: 6.305609388018287\n",
      "Gradient: 5.137769729186965\n",
      "Gradient: 5.514707145706753\n",
      "Gradient: 4.381494486401781\n",
      "Gradient: 5.018261200235506\n",
      "Gradient: 5.039545788562304\n",
      "Gradient: 4.5291228970069675\n",
      "Gradient: 4.423096006633278\n",
      "Gradient: 4.814205865939289\n",
      "Gradient: 4.7819446336769005\n",
      "Gradient: 4.959687393930839\n",
      "Gradient: 5.442881953459365\n",
      "Gradient: 4.897343347990041\n",
      "Gradient: 4.665007506716101\n",
      "Gradient: 4.377551838559071\n",
      "Gradient: 4.570310413011212\n",
      "Gradient: 5.496926493532829\n",
      "Gradient: 4.984127175122284\n",
      "Gradient: 5.389613722959603\n",
      "Gradient: 0.0\n",
      "Correct\n",
      "Fold 3 of 30: Gradient: 4.996726538784322\n",
      "Gradient: 5.409038240321126\n",
      "Gradient: 5.018068219535425\n",
      "Gradient: 4.823015240068129\n",
      "Gradient: 3.3684618832844055\n",
      "Gradient: 4.580302087871584\n",
      "Gradient: 5.473413474872345\n",
      "Gradient: 4.290410289035062\n",
      "Gradient: 5.282482262045408\n",
      "Gradient: 5.035372069455613\n",
      "Gradient: 4.8416085987701285\n",
      "Gradient: 4.851934345372757\n",
      "Gradient: 6.345401330466009\n",
      "Gradient: 5.310005714628924\n",
      "Gradient: 5.560162155308474\n",
      "Gradient: 4.541618660240204\n",
      "Gradient: 4.488303680970761\n",
      "Gradient: 4.3196438690358026\n",
      "Gradient: 4.036952734477694\n",
      "Gradient: 4.423096006633278\n",
      "Gradient: 4.18755419202338\n",
      "Gradient: 3.1326613583840937\n",
      "Gradient: 0.0\n",
      "Wrong\n",
      "Fold 4 of 30: Gradient: 4.964488790503224\n",
      "Gradient: 5.384485977110655\n",
      "Gradient: 5.110809112316674\n",
      "Gradient: 4.929225930305465\n",
      "Gradient: 3.9302854192891536\n",
      "Gradient: 4.3477320528097145\n",
      "Gradient: 4.655548244836038\n",
      "Gradient: 4.516063279473135\n",
      "Gradient: 5.148757724706601\n",
      "Gradient: 5.011379992658868\n",
      "Gradient: 4.663351998446155\n",
      "Gradient: 4.879596852906045\n",
      "Gradient: 6.320046747637269\n",
      "Gradient: 5.310005714628924\n",
      "Gradient: 5.275417731730922\n",
      "Gradient: 4.856292944454042\n",
      "Gradient: 4.616217269976875\n",
      "Gradient: 3.9529908496607318\n",
      "Gradient: 4.493531691646716\n",
      "Gradient: 4.809194639362718\n",
      "Gradient: 4.780737491986447\n",
      "Gradient: 5.0640601753399315\n",
      "Gradient: 2.956533991175968\n",
      "Gradient: 0.0\n",
      "Correct\n",
      "Fold 5 of 30: Gradient: 4.976639582236435\n",
      "Gradient: 5.390487929060518\n",
      "Gradient: 4.863476910218563\n",
      "Gradient: 5.058110598000908\n",
      "Gradient: 3.7582943034612475\n",
      "Gradient: 4.3477320528097145\n",
      "Gradient: 5.0095148280699435\n",
      "Gradient: 4.2036983067688976\n",
      "Gradient: 5.16047465725549\n",
      "Gradient: 5.008753899725908\n",
      "Gradient: 4.33972403046332\n",
      "Gradient: 4.400861898123749\n",
      "Gradient: 5.364851385586775\n",
      "Gradient: 5.19355666050111\n",
      "Gradient: 5.286853962869723\n",
      "Gradient: 4.554897653679201\n",
      "Gradient: 4.629282283905684\n",
      "Gradient: 4.629242379654664\n",
      "Gradient: 3.9969813895047785\n",
      "Gradient: 4.809194639362718\n",
      "Gradient: 4.793354102059969\n",
      "Gradient: 4.414485343936292\n",
      "Gradient: 4.696199030210906\n",
      "Gradient: 5.424447380829177\n",
      "Gradient: 5.347258686746249\n",
      "Gradient: 4.424838806706568\n",
      "Gradient: 5.0111799374212485\n",
      "Gradient: 4.740407613428995\n",
      "Gradient: 5.337817106889849\n",
      "Gradient: 3.37278228928068\n",
      "Gradient: 5.383965060980391\n",
      "Gradient: 4.568631996792959\n",
      "Gradient: 5.643931161151067\n",
      "Gradient: 1.2239273245830076\n",
      "Gradient: 0.0\n",
      "Correct\n",
      "Fold 6 of 30: Gradient: 4.9522834447815764\n",
      "Gradient: 5.102554925093207\n",
      "Gradient: 5.107378475908921\n",
      "Gradient: 4.929225930305465\n",
      "Gradient: 3.9302854192891536\n",
      "Gradient: 4.3477320528097145\n",
      "Gradient: 5.356827437844914\n",
      "Gradient: 2.641840918651842\n",
      "Gradient: 5.136990215500844\n",
      "Gradient: 4.85477956326682\n",
      "Gradient: 4.311771613450328\n",
      "Gradient: 4.576546659383241\n",
      "Gradient: 5.838807828017435\n",
      "Gradient: 5.2871854965914595\n",
      "Gradient: 5.264457065634276\n",
      "Gradient: 4.843814976728531\n",
      "Gradient: 4.603088555530761\n",
      "Gradient: 4.424432150975824\n",
      "Gradient: 3.9969813895047785\n",
      "Gradient: 4.783986085394725\n",
      "Gradient: 4.793354102059969\n",
      "Gradient: 4.763255336467525\n",
      "Gradient: 4.9718499198956865\n",
      "Gradient: 5.653732913600201\n",
      "Gradient: 5.324598130277859\n",
      "Gradient: 4.8902517451012875\n",
      "Gradient: 4.835224371348894\n",
      "Gradient: 4.59883847810177\n",
      "Gradient: 5.459695328763533\n",
      "Gradient: 5.010299569305524\n",
      "Gradient: 5.280859340050377\n",
      "Gradient: 4.86481973220055\n",
      "Gradient: 5.751062316724811\n",
      "Gradient: 5.544265010229864\n",
      "Gradient: 4.8837906372069515\n",
      "Gradient: 5.519763711599584\n",
      "Gradient: 4.743406179936899\n",
      "Gradient: 5.041544879841632\n",
      "Gradient: 4.440126336889951\n",
      "Gradient: 4.737286159857444\n",
      "Gradient: 4.260461742625943\n",
      "Gradient: 4.720266416266336\n",
      "Gradient: 5.723109877796596\n",
      "Gradient: 5.301448209527796\n",
      "Gradient: 5.003674125607493\n",
      "Gradient: 4.9976634614460576\n",
      "Gradient: 4.460727235421202\n",
      "Gradient: 4.877080765336969\n",
      "Gradient: 5.103508002007987\n",
      "Gradient: 0.0\n",
      "Correct\n",
      "Fold 7 of 30: Gradient: 4.69638786389236\n",
      "Gradient: 4.973331138482806\n",
      "Gradient: 4.877087623091888\n",
      "Gradient: 4.492350050129441\n",
      "Gradient: 3.7242381231498043\n",
      "Gradient: 3.4852453575003586\n",
      "Gradient: 5.277808443565559\n",
      "Gradient: 4.2264491276793565\n",
      "Gradient: 5.014254284374254\n",
      "Gradient: 5.3827090756979565\n",
      "Gradient: 4.750868435604563\n",
      "Gradient: 4.75021504787991\n",
      "Gradient: 6.230398143536642\n",
      "Gradient: 5.048294575995426\n",
      "Gradient: 5.308665710516748\n",
      "Gradient: 4.543408284372903\n",
      "Gradient: 4.322810425830175\n",
      "Gradient: 4.424432150975824\n",
      "Gradient: 4.170227420780331\n",
      "Gradient: 4.648180355844409\n",
      "Gradient: 4.79695690625976\n",
      "Gradient: 4.125592642209035\n",
      "Gradient: 4.844932319463389\n",
      "Gradient: 5.402110622095752\n",
      "Gradient: 5.206286853715671\n",
      "Gradient: 4.558283741532818\n",
      "Gradient: 2.5757562041927775\n",
      "Gradient: 4.59883847810177\n",
      "Gradient: 5.30383262260132\n",
      "Gradient: 4.884381161252394\n",
      "Gradient: 4.955643964729546\n",
      "Gradient: 4.86481973220055\n",
      "Gradient: 5.749144244456092\n",
      "Gradient: 4.989236589347878\n",
      "Gradient: 4.99555714564043\n",
      "Gradient: 4.514898760231491\n",
      "Gradient: 4.725226484605454\n",
      "Gradient: 5.19715253446082\n",
      "Gradient: 4.100180331213571\n",
      "Gradient: 4.599420138535245\n",
      "Gradient: 4.593546010418181\n",
      "Gradient: 4.191319176831404\n",
      "Gradient: 5.260401664241131\n",
      "Gradient: 4.602458146720799\n",
      "Gradient: 4.980674468481522\n",
      "Gradient: 4.729820914622545\n",
      "Gradient: 4.857035026889627\n",
      "Gradient: 1.9895521456015155\n",
      "Gradient: 0.0\n",
      "Correct\n",
      "Fold 8 of 30: Gradient: 4.69638786389236\n",
      "Gradient: 5.374905011527074\n",
      "Gradient: 5.409636294066536\n",
      "Gradient: 4.801181711434168\n",
      "Gradient: 3.9302854192891536\n",
      "Gradient: 4.336304475119075\n",
      "Gradient: 5.259794062710757\n",
      "Gradient: 4.101606990560608\n",
      "Gradient: 5.014254284374254\n",
      "Gradient: 5.258386663113711\n",
      "Gradient: 4.320352813159188\n",
      "Gradient: 4.75021504787991\n",
      "Gradient: 6.2160967946554875\n",
      "Gradient: 5.02778823579839\n",
      "Gradient: 5.548796500596496\n",
      "Gradient: 4.388546453631508\n",
      "Gradient: 4.70443416163133\n",
      "Gradient: 4.260684869060064\n",
      "Gradient: 4.497083936339763\n",
      "Gradient: 4.6472669464907534\n",
      "Gradient: 5.235757503674681\n",
      "Gradient: 4.9075902382324275\n",
      "Gradient: 4.9792936858136025\n",
      "Gradient: 5.6408963450714324\n",
      "Gradient: 5.206286853715671\n",
      "Gradient: 4.605925061195992\n",
      "Gradient: 4.551205125167453\n",
      "Gradient: 4.852796158590749\n",
      "Gradient: 5.437872532708308\n",
      "Gradient: 3.336739449951204\n",
      "Gradient: 5.390839801132477\n",
      "Gradient: 3.9017317169840666\n",
      "Gradient: 5.53942723680712\n",
      "Gradient: 5.54248702459048\n",
      "Gradient: 4.104022237771044\n",
      "Gradient: 0.0\n",
      "Correct\n",
      "Fold 9 of 30: Gradient: 4.69638786389236\n",
      "Gradient: 5.374905011527074\n",
      "Gradient: 5.409636294066536\n",
      "Gradient: 4.801181711434168\n",
      "Gradient: 3.947744783648806\n",
      "Gradient: 4.3635214452066595\n",
      "Gradient: 5.2523540582115835\n",
      "Gradient: 4.2264491276793565\n",
      "Gradient: 5.027951016877054\n",
      "Gradient: 5.271449108031073\n",
      "Gradient: 4.879033025502939\n",
      "Gradient: 4.608923474680077\n",
      "Gradient: 5.5219163020876625\n",
      "Gradient: 5.190647354153101\n",
      "Gradient: 5.167678625739555\n",
      "Gradient: 4.543408284372903\n",
      "Gradient: 4.318312474344835\n",
      "Gradient: 4.083405623222272\n",
      "Gradient: 4.651741656999641\n",
      "Gradient: 4.394838811222305\n",
      "Gradient: 5.120010034835716\n",
      "Gradient: 4.762381504794428\n",
      "Gradient: 4.993086321037585\n",
      "Gradient: 4.3786511374984745\n",
      "Gradient: 5.2194796869919955\n",
      "Gradient: 4.76115948952357\n",
      "Gradient: 4.384910171186146\n",
      "Gradient: 4.866947293384485\n",
      "Gradient: 4.915964151258086\n",
      "Gradient: 4.841051723230715\n",
      "Gradient: 5.273353061025432\n",
      "Gradient: 3.902022588872093\n",
      "Gradient: 4.7506514350255005\n",
      "Gradient: 5.41311152006311\n",
      "Gradient: 3.90283831828708\n",
      "Gradient: 4.978174415054244\n",
      "Gradient: 0.0\n",
      "Correct\n",
      "Fold 10 of 30: Gradient: 4.7076253120820075\n",
      "Gradient: 5.374905011527074\n",
      "Gradient: 5.0165507029037455\n",
      "Gradient: 4.5040965890772995\n",
      "Gradient: 3.7426588139545682\n",
      "Gradient: 4.375613844207255\n",
      "Gradient: 5.00965379135296\n",
      "Gradient: 4.2264491276793565\n",
      "Gradient: 5.038449021172565\n",
      "Gradient: 5.2814631315007174\n",
      "Gradient: 4.889850751790706\n",
      "Gradient: 4.761325457469224\n",
      "Gradient: 6.267493562702405\n",
      "Gradient: 5.200816961402926\n",
      "Gradient: 5.548796500596496\n",
      "Gradient: 4.388546453631508\n",
      "Gradient: 4.758777792586034\n",
      "Gradient: 4.603048424203902\n",
      "Gradient: 4.497083936339763\n",
      "Gradient: 4.03056285420773\n",
      "Gradient: 4.804364750783907\n",
      "Gradient: 4.771024563340962\n",
      "Gradient: 4.730467050199899\n",
      "Gradient: 5.765576803841176\n",
      "Gradient: 5.2194796869919955\n",
      "Gradient: 4.6173826763863834\n",
      "Gradient: 2.8521699756362042\n",
      "Gradient: 4.473295162464164\n",
      "Gradient: 2.274508737551776\n",
      "Gradient: 5.338688917340987\n",
      "Gradient: 4.985176219339726\n",
      "Gradient: 4.876688250063983\n",
      "Gradient: 5.803435668280471\n",
      "Gradient: 5.564385404367949\n",
      "Gradient: 4.3847952828392724\n",
      "Gradient: 4.988777166554991\n",
      "Gradient: 4.711391790738743\n",
      "Gradient: 5.207309437443898\n",
      "Gradient: 4.1269186999795195\n",
      "Gradient: 5.143015590509835\n",
      "Gradient: 4.529993907057833\n",
      "Gradient: 4.723733827127692\n",
      "Gradient: 3.2810857799123117\n",
      "Gradient: 4.273458679344787\n",
      "Gradient: 2.5775148340454535\n",
      "Gradient: 0.0\n",
      "Correct\n",
      "Fold 11 of 30: Gradient: 4.683825963277385\n",
      "Gradient: 5.354072604873318\n",
      "Gradient: 5.398734251677685\n",
      "Gradient: 4.5040965890772995\n",
      "Gradient: 3.7426588139545682\n",
      "Gradient: 4.375613844207255\n",
      "Gradient: 4.987295929111606\n",
      "Gradient: 4.2264491276793565\n",
      "Gradient: 5.038449021172565\n",
      "Gradient: 5.260260676498596\n",
      "Gradient: 4.866942566961751\n",
      "Gradient: 4.849793323019004\n",
      "Gradient: 5.865654935172962\n",
      "Gradient: 5.278810037009554\n",
      "Gradient: 4.104059834543527\n",
      "Gradient: 0.0\n",
      "Correct\n",
      "Fold 12 of 30: Gradient: 4.683825963277385\n",
      "Gradient: 5.354072604873318\n",
      "Gradient: 5.391706383838801\n",
      "Gradient: 4.5040965890772995\n",
      "Gradient: 3.732514059847877\n",
      "Gradient: 4.366939743448317\n",
      "Gradient: 4.987295929111606\n",
      "Gradient: 4.266999633975706\n",
      "Gradient: 5.173748793418249\n",
      "Gradient: 4.674672454930905\n",
      "Gradient: 4.472327037645551\n",
      "Gradient: 4.596122526827692\n",
      "Gradient: 6.205202806712138\n",
      "Gradient: 5.179284375406748\n",
      "Gradient: 5.5286193737992155\n",
      "Gradient: 4.354307724574374\n",
      "Gradient: 5.010080256205524\n",
      "Gradient: 4.399100980189551\n",
      "Gradient: 4.627654915697785\n",
      "Gradient: 3.9044166237856692\n",
      "Gradient: 4.641548180450369\n",
      "Gradient: 4.424635983013815\n",
      "Gradient: 4.069384862056896\n",
      "Gradient: 4.3786511374984745\n",
      "Gradient: 5.212210127403953\n",
      "Gradient: 4.772244419088373\n",
      "Gradient: 4.362770920506583\n",
      "Gradient: 4.8591503543184205\n",
      "Gradient: 4.6610680935105195\n",
      "Gradient: 5.180279438542434\n",
      "Gradient: 3.5118904412087844\n",
      "Gradient: 0.0\n",
      "Correct\n",
      "Fold 13 of 30: Gradient: 4.683825963277385\n",
      "Gradient: 5.354072604873318\n",
      "Gradient: 5.2844652237665155\n",
      "Gradient: 4.035995512036625\n",
      "Gradient: 3.385907378087009\n",
      "Gradient: 4.366939743448317\n",
      "Gradient: 4.826799810240479\n",
      "Gradient: 3.524301026003909\n",
      "Gradient: 4.463532907050743\n",
      "Gradient: 4.674672454930905\n",
      "Gradient: 4.472327037645551\n",
      "Gradient: 4.733010571231646\n",
      "Gradient: 5.6423959486483355\n",
      "Gradient: 4.607334259671181\n",
      "Gradient: 5.285183304026137\n",
      "Gradient: 4.40701713401119\n",
      "Gradient: 4.742140923899593\n",
      "Gradient: 4.242378430380516\n",
      "Gradient: 4.176664409928702\n",
      "Gradient: 4.398770106056854\n",
      "Gradient: 4.791079203929054\n",
      "Gradient: 4.739549679938928\n",
      "Gradient: 4.39113587386511\n",
      "Gradient: 5.29386901671223\n",
      "Gradient: 5.212210127403953\n",
      "Gradient: 3.7080826923946035\n",
      "Gradient: 4.389745791667864\n",
      "Gradient: 4.8591503543184205\n",
      "Gradient: 4.5868058035129184\n",
      "Gradient: 4.864515620680381\n",
      "Gradient: 4.997274644109726\n",
      "Gradient: 4.993029716655581\n",
      "Gradient: 5.6348308993884535\n",
      "Gradient: 5.295358124072044\n",
      "Gradient: 4.578956367659885\n",
      "Gradient: 4.657361724642047\n",
      "Gradient: 4.674754474943824\n",
      "Gradient: 4.651619461280892\n",
      "Gradient: 4.450654496560985\n",
      "Gradient: 4.715793740654936\n",
      "Gradient: 4.756800906267971\n",
      "Gradient: 4.838164591418584\n",
      "Gradient: 5.462306285662441\n",
      "Gradient: 5.443858144461782\n",
      "Gradient: 5.652668974095088\n",
      "Gradient: 3.5495417978330077\n",
      "Gradient: 3.686360980193079\n",
      "Gradient: 0.0\n",
      "Correct\n",
      "Fold 14 of 30: Gradient: 4.66645107233375\n",
      "Gradient: 5.354072604873318\n",
      "Gradient: 5.26907132779688\n",
      "Gradient: 3.6296980064745474\n",
      "Gradient: 3.361831157151937\n",
      "Gradient: 4.807469570287426\n",
      "Gradient: 5.154375712029569\n",
      "Gradient: 4.116081826359038\n",
      "Gradient: 4.604621847621675\n",
      "Gradient: 4.674672454930905\n",
      "Gradient: 4.472327037645551\n",
      "Gradient: 4.7158168988632285\n",
      "Gradient: 5.627981165350204\n",
      "Gradient: 4.602609980524179\n",
      "Gradient: 5.094687566877387\n",
      "Gradient: 4.388546453631508\n",
      "Gradient: 3.9651062409053592\n",
      "Gradient: 3.8936866872917273\n",
      "Gradient: 4.157170377718306\n",
      "Gradient: 4.398770106056854\n",
      "Gradient: 4.77409466752964\n",
      "Gradient: 4.72237981581561\n",
      "Gradient: 4.987396923885837\n",
      "Gradient: 2.3403943968517216\n",
      "Gradient: 1.6941478251061615\n",
      "Gradient: 4.461865942512271\n",
      "Gradient: 4.229520667461914\n",
      "Gradient: 4.8591503543184205\n",
      "Gradient: 5.336019172521908\n",
      "Gradient: 4.847788380288161\n",
      "Gradient: 5.270016854942015\n",
      "Gradient: 4.976734442143683\n",
      "Gradient: 5.993673758516919\n",
      "Gradient: 5.157929570839551\n",
      "Gradient: 4.217776266900011\n",
      "Gradient: 4.808099539083699\n",
      "Gradient: 4.628829529489679\n",
      "Gradient: 4.750212947033112\n",
      "Gradient: 3.5445536865747016\n",
      "Gradient: 4.876492176943102\n",
      "Gradient: 4.379804441138787\n",
      "Gradient: 4.200942621469302\n",
      "Gradient: 5.576501270856415\n",
      "Gradient: 5.552714939281744\n",
      "Gradient: 5.245507998298337\n",
      "Gradient: 4.550214647271429\n",
      "Gradient: 4.811087967827696\n",
      "Gradient: 4.4883733136445425\n",
      "Gradient: 4.253561542408282\n",
      "Gradient: 5.000833446096723\n",
      "Gradient: 4.234560236209401\n",
      "Gradient: 4.82579019965306\n",
      "Gradient: 4.921264182458142\n",
      "Gradient: 5.151423365485815\n",
      "Gradient: 4.661039093514612\n",
      "Gradient: 4.663124091675853\n",
      "Gradient: 4.424943789354934\n",
      "Gradient: 4.536872306987468\n",
      "Gradient: 4.471000331864996\n",
      "Gradient: 4.694752937254305\n",
      "Gradient: 4.968232482705846\n",
      "Gradient: 3.719471762515834\n",
      "Gradient: 4.752371806160247\n",
      "Gradient: 4.622415672246674\n",
      "Gradient: 0.0\n",
      "Correct\n",
      "Fold 15 of 30: Gradient: 4.66645107233375\n",
      "Gradient: 5.124662644173803\n",
      "Gradient: 4.407608731360868\n",
      "Gradient: 4.853392280091353\n",
      "Gradient: 3.7684837818411427\n",
      "Gradient: 4.1553837876673\n",
      "Gradient: 5.154375712029569\n",
      "Gradient: 3.555679102404081\n",
      "Gradient: 4.604621847621675\n",
      "Gradient: 4.674672454930905\n",
      "Gradient: 4.493499473294728\n",
      "Gradient: 4.2459068304317755\n",
      "Gradient: 5.771161357132432\n",
      "Gradient: 4.999836115954406\n",
      "Gradient: 5.513907157049483\n",
      "Gradient: 4.418240542509565\n",
      "Gradient: 4.463263534918582\n",
      "Gradient: 4.560895090583042\n",
      "Gradient: 4.534435713182888\n",
      "Gradient: 4.7218099498902\n",
      "Gradient: 4.756061017206862\n",
      "Gradient: 5.021984339518784\n",
      "Gradient: 4.892543685212441\n",
      "Gradient: 5.278502545449722\n",
      "Gradient: 5.196602194552303\n",
      "Gradient: 4.08802910970758\n",
      "Gradient: 1.9238339235443094\n",
      "Gradient: 5.158499064830967\n",
      "Gradient: 5.502664634905233\n",
      "Gradient: 4.989585646239115\n",
      "Gradient: 5.287641865741879\n",
      "Gradient: 5.317425183927786\n",
      "Gradient: 5.590302820606256\n",
      "Gradient: 5.418085975769721\n",
      "Gradient: 5.146728686890827\n",
      "Gradient: 4.855470065211152\n",
      "Gradient: 4.69660047096345\n",
      "Gradient: 4.755667940917864\n",
      "Gradient: 4.450654496560985\n",
      "Gradient: 4.876492176943102\n",
      "Gradient: 4.916347585108565\n",
      "Gradient: 4.7532205146283255\n",
      "Gradient: 4.017387184521107\n",
      "Gradient: 3.4980865587082626\n",
      "Gradient: 5.308406609410839\n",
      "Gradient: 4.8772897920171765\n",
      "Gradient: 4.367239613925177\n",
      "Gradient: 5.253269637515122\n",
      "Gradient: 4.403098343636202\n",
      "Gradient: 4.324991692817088\n",
      "Gradient: 4.612783043881108\n",
      "Gradient: 4.401677147707316\n",
      "Gradient: 5.4212918700472095\n",
      "Gradient: 4.21129227807271\n",
      "Gradient: 4.353017815188559\n",
      "Gradient: 4.847978923002375\n",
      "Gradient: 2.2701239069280423\n",
      "Gradient: 3.0505832003643034\n",
      "Gradient: 1.639441275191329\n",
      "Gradient: 0.0\n",
      "Correct\n",
      "Fold 16 of 30: Gradient: 4.943081433012953\n",
      "Gradient: 5.754299686542793\n",
      "Gradient: 4.991403199600855\n",
      "Gradient: 4.6975281368337996\n",
      "Gradient: 3.727013140839657\n",
      "Gradient: 5.079689824796334\n",
      "Gradient: 4.963525817503296\n",
      "Gradient: 4.414059603064085\n",
      "Gradient: 4.883699116343642\n",
      "Gradient: 4.977881141050568\n",
      "Gradient: 4.304964218007645\n",
      "Gradient: 4.573462760092876\n",
      "Gradient: 6.128947945669526\n",
      "Gradient: 5.299941151116319\n",
      "Gradient: 4.707594067219892\n",
      "Gradient: 4.661519589530604\n",
      "Gradient: 4.704214788276177\n",
      "Gradient: 5.215551057608265\n",
      "Gradient: 4.490291031724755\n",
      "Gradient: 4.9837016143626816\n",
      "Gradient: 5.190417343665868\n",
      "Gradient: 5.125486551206128\n",
      "Gradient: 4.6937337826626555\n",
      "Gradient: 5.383564451942169\n",
      "Gradient: 5.301346883282219\n",
      "Gradient: 4.47357102414572\n",
      "Gradient: 3.835202125084068\n",
      "Gradient: 4.604178547191446\n",
      "Gradient: 5.627986391715532\n",
      "Gradient: 3.2184958469969405\n",
      "Gradient: 5.430667136150839\n",
      "Gradient: 4.106619371465376\n",
      "Gradient: 4.709853351075746\n",
      "Gradient: 5.231010233807154\n",
      "Gradient: 4.078461913231833\n",
      "Gradient: 4.085987529669268\n",
      "Gradient: 4.505669970765928\n",
      "Gradient: 5.035520849827547\n",
      "Gradient: 4.844548677912054\n",
      "Gradient: 5.004336623331527\n",
      "Gradient: 4.470714553805237\n",
      "Gradient: 5.228095043352755\n",
      "Gradient: 5.639052850015411\n",
      "Gradient: 5.674165134523666\n",
      "Gradient: 4.098871668349198\n",
      "Gradient: 0.0\n",
      "Correct\n",
      "Fold 17 of 30: Gradient: 4.943081433012953\n",
      "Gradient: 5.738080745472288\n",
      "Gradient: 4.972696618535962\n",
      "Gradient: 4.6975281368337996\n",
      "Gradient: 3.727013140839657\n",
      "Gradient: 4.6226921958439\n",
      "Gradient: 5.075192545327911\n",
      "Gradient: 4.067876882581248\n",
      "Gradient: 4.5568305430178935\n",
      "Gradient: 4.661533158487759\n",
      "Gradient: 4.304964218007645\n",
      "Gradient: 4.808983299134696\n",
      "Gradient: 5.746377963296966\n",
      "Gradient: 5.166668507287621\n",
      "Gradient: 5.289050279764062\n",
      "Gradient: 4.813941641451586\n",
      "Gradient: 4.850955229454112\n",
      "Gradient: 5.197651257398098\n",
      "Gradient: 4.627654915697785\n",
      "Gradient: 4.561654956240586\n",
      "Gradient: 5.193744719776428\n",
      "Gradient: 4.703866002835832\n",
      "Gradient: 4.9686752596038355\n",
      "Gradient: 3.2745390032227735\n",
      "Gradient: 5.2837377429145205\n",
      "Gradient: 4.40959364311111\n",
      "Gradient: 4.352533216922517\n",
      "Gradient: 4.4373075674088245\n",
      "Gradient: 4.367754948553872\n",
      "Gradient: 4.849370720682461\n",
      "Gradient: 5.529237227993584\n",
      "Gradient: 4.146428946756243\n",
      "Gradient: 5.640555546652512\n",
      "Gradient: 5.508907477131901\n",
      "Gradient: 5.273135953188031\n",
      "Gradient: 4.532489180804682\n",
      "Gradient: 4.504372099104379\n",
      "Gradient: 5.016978770939865\n",
      "Gradient: 4.844548677912054\n",
      "Gradient: 5.004336623331527\n",
      "Gradient: 4.449819589670945\n",
      "Gradient: 5.210238338247396\n",
      "Gradient: 5.850307629760496\n",
      "Gradient: 5.674165134523666\n",
      "Gradient: 4.723290896955781\n",
      "Gradient: 4.8632730316272825\n",
      "Gradient: 4.3446568285947915\n",
      "Gradient: 4.974719602953793\n",
      "Gradient: 4.693509563106837\n",
      "Gradient: 4.505084522951768\n",
      "Gradient: 4.250761383504048\n",
      "Gradient: 4.967485174604854\n",
      "Gradient: 2.905772691789042\n",
      "Gradient: 0.0\n",
      "Correct\n",
      "Fold 18 of 30: Gradient: 4.943081433012953\n",
      "Gradient: 5.738080745472288\n",
      "Gradient: 4.257781031785081\n",
      "Gradient: 4.271826517548917\n",
      "Gradient: 3.727013140839657\n",
      "Gradient: 4.6828893446320485\n",
      "Gradient: 4.798150228617481\n",
      "Gradient: 4.392895165880424\n",
      "Gradient: 5.284115059655122\n",
      "Gradient: 4.959123552951694\n",
      "Gradient: 4.5396956692658845\n",
      "Gradient: 4.910575978013207\n",
      "Gradient: 6.015597612989951\n",
      "Gradient: 5.166668507287621\n",
      "Gradient: 5.504918043400329\n",
      "Gradient: 4.871776226783601\n",
      "Gradient: 4.704214788276177\n",
      "Gradient: 5.197651257398098\n",
      "Gradient: 4.490291031724755\n",
      "Gradient: 5.0210613436371005\n",
      "Gradient: 5.627777877628409\n",
      "Gradient: 5.125486551206128\n",
      "Gradient: 5.17193923868236\n",
      "Gradient: 4.840075381423999\n",
      "Gradient: 5.2837377429145205\n",
      "Gradient: 3.944164855754879\n",
      "Gradient: 4.416414256041449\n",
      "Gradient: 4.782945360475135\n",
      "Gradient: 5.1380745674054396\n",
      "Gradient: 4.433328496515167\n",
      "Gradient: 5.579662516674503\n",
      "Gradient: 3.529192411080703\n",
      "Gradient: 0.0\n",
      "Correct\n",
      "Fold 19 of 30: Gradient: 4.9090200101773\n",
      "Gradient: 5.375065759649706\n",
      "Gradient: 4.252122258657243\n",
      "Gradient: 4.957321661921865\n",
      "Gradient: 3.6554084796925297\n",
      "Gradient: 4.5249705633010855\n",
      "Gradient: 4.944713773317431\n",
      "Gradient: 4.0231521151879805\n",
      "Gradient: 5.110589612042835\n",
      "Gradient: 4.9225031258032566\n",
      "Gradient: 4.96018412712642\n",
      "Gradient: 4.910575978013207\n",
      "Gradient: 5.763606491054005\n",
      "Gradient: 2.274203322926202\n",
      "Gradient: 5.117618505401093\n",
      "Gradient: 4.834494204563334\n",
      "Gradient: 4.6655940012327335\n",
      "Gradient: 4.293472105067013\n",
      "Gradient: 4.449813946637584\n",
      "Gradient: 4.984895949432586\n",
      "Gradient: 5.209484839029894\n",
      "Gradient: 5.090063162348526\n",
      "Gradient: 5.17193923868236\n",
      "Gradient: 5.29292702004465\n",
      "Gradient: 5.249382358525812\n",
      "Gradient: 3.92882219359971\n",
      "Gradient: 3.7071339415385762\n",
      "Gradient: 4.779786134403062\n",
      "Gradient: 2.076112499692479\n",
      "Gradient: 0.0\n",
      "Correct\n",
      "Fold 20 of 30: Gradient: 4.9090200101773\n",
      "Gradient: 5.750798570841458\n",
      "Gradient: 4.992595692288117\n",
      "Gradient: 4.674506900976846\n",
      "Gradient: 3.8726268253698377\n",
      "Gradient: 4.5249705633010855\n",
      "Gradient: 4.959466489539721\n",
      "Gradient: 3.651951010831882\n",
      "Gradient: 5.110589612042835\n",
      "Gradient: 4.937322207874949\n",
      "Gradient: 4.386228443174249\n",
      "Gradient: 4.308603300533734\n",
      "Gradient: 6.254353289375787\n",
      "Gradient: 5.123426670930472\n",
      "Gradient: 5.254729628817728\n",
      "Gradient: 4.849582226830348\n",
      "Gradient: 4.681226436007043\n",
      "Gradient: 4.7719293470181166\n",
      "Gradient: 4.449813946637584\n",
      "Gradient: 4.352692633413676\n",
      "Gradient: 5.456117218816122\n",
      "Gradient: 5.090063162348526\n",
      "Gradient: 5.03924764947942\n",
      "Gradient: 5.118926181322768\n",
      "Gradient: 5.263281173073918\n",
      "Gradient: 5.077506921513288\n",
      "Gradient: 3.798881803004458\n",
      "Gradient: 4.779786134403062\n",
      "Gradient: 4.583317241718853\n",
      "Gradient: 4.699355268295422\n",
      "Gradient: 4.565914692936213\n",
      "Gradient: 4.728474551696023\n",
      "Gradient: 5.321976215060578\n",
      "Gradient: 5.363848218624873\n",
      "Gradient: 4.096335574451269\n",
      "Gradient: 4.420388530767063\n",
      "Gradient: 4.73186683938518\n",
      "Gradient: 5.170622414572203\n",
      "Gradient: 4.386539578644461\n",
      "Gradient: 4.515198629895289\n",
      "Gradient: 2.9271143668897506\n",
      "Gradient: 0.0\n",
      "Correct\n",
      "Fold 21 of 30: Gradient: 4.882199098223599\n",
      "Gradient: 5.364218121568622\n",
      "Gradient: 4.252122258657243\n",
      "Gradient: 5.124468898573746\n",
      "Gradient: 3.6622754808043325\n",
      "Gradient: 4.6828893446320485\n",
      "Gradient: 5.135312813894968\n",
      "Gradient: 4.33512172489166\n",
      "Gradient: 5.224690722727119\n",
      "Gradient: 4.641700145374774\n",
      "Gradient: 4.833474708537316\n",
      "Gradient: 4.910575978013207\n",
      "Gradient: 5.847486555097545\n",
      "Gradient: 5.0350236554256975\n",
      "Gradient: 5.462060162920782\n",
      "Gradient: 4.677302369966944\n",
      "Gradient: 4.914570763753188\n",
      "Gradient: 4.744333490313148\n",
      "Gradient: 4.449813946637584\n",
      "Gradient: 4.352692633413676\n",
      "Gradient: 5.028979900939167\n",
      "Gradient: 4.6370115976899955\n",
      "Gradient: 5.56208509599915\n",
      "Gradient: 3.2745390032227735\n",
      "Gradient: 1.5819238555988089\n",
      "Gradient: 3.4897889802535773\n",
      "Gradient: 4.432925494726759\n",
      "Gradient: 4.779786134403062\n",
      "Gradient: 4.552667002606558\n",
      "Gradient: 3.859974905153361\n",
      "Gradient: 5.273269556251773\n",
      "Gradient: 5.28639528877811\n",
      "Gradient: 5.538168650571351\n",
      "Gradient: 1.1925453052824382\n",
      "Gradient: 0.0\n",
      "Correct\n",
      "Fold 22 of 30: Gradient: 4.882199098223599\n",
      "Gradient: 5.364218121568622\n",
      "Gradient: 4.252122258657243\n",
      "Gradient: 5.124468898573746\n",
      "Gradient: 3.6622754808043325\n",
      "Gradient: 4.540704768558372\n",
      "Gradient: 5.120088916060672\n",
      "Gradient: 2.7679233312789946\n",
      "Gradient: 4.814025864532322\n",
      "Gradient: 4.475425104378267\n",
      "Gradient: 4.956422751692701\n",
      "Gradient: 4.910575978013207\n",
      "Gradient: 5.9971392300567565\n",
      "Gradient: 5.313707723061978\n",
      "Gradient: 4.852027548726323\n",
      "Gradient: 4.549973419900043\n",
      "Gradient: 4.927853604028511\n",
      "Gradient: 4.744333490313148\n",
      "Gradient: 3.413615299883565\n",
      "Gradient: 4.391069037474769\n",
      "Gradient: 5.028979900939167\n",
      "Gradient: 1.996247160051883\n",
      "Gradient: 4.4795972887244835\n",
      "Gradient: 4.962795885924209\n",
      "Gradient: 5.421316803874748\n",
      "Gradient: 4.294039527483502\n",
      "Gradient: 4.598785332852513\n",
      "Gradient: 3.038418791738702\n",
      "Gradient: 5.419175151318132\n",
      "Gradient: 4.671330700349754\n",
      "Gradient: 5.019158299401697\n",
      "Gradient: 4.5962517445844115\n",
      "Gradient: 5.4184738795450205\n",
      "Gradient: 4.973629602176808\n",
      "Gradient: 5.476492213441073\n",
      "Gradient: 5.0317941273387685\n",
      "Gradient: 4.423026180358928\n",
      "Gradient: 5.134027962359033\n",
      "Gradient: 4.234415739645163\n",
      "Gradient: 4.655559388196182\n",
      "Gradient: 4.379088439971963\n",
      "Gradient: 0.0\n",
      "Correct\n",
      "Fold 23 of 30: Gradient: 5.021642268588393\n",
      "Gradient: 5.727920632896928\n",
      "Gradient: 4.546979779134868\n",
      "Gradient: 4.646332461377935\n",
      "Gradient: 4.1944735687556545\n",
      "Gradient: 4.540704768558372\n",
      "Gradient: 5.070567396995838\n",
      "Gradient: 4.181127545383901\n",
      "Gradient: 5.083291386395146\n",
      "Gradient: 4.5905772940422676\n",
      "Gradient: 4.956422751692701\n",
      "Gradient: 4.883418119008763\n",
      "Gradient: 6.226464991374736\n",
      "Gradient: 5.312400593329563\n",
      "Gradient: 5.326179778243656\n",
      "Gradient: 4.677302369966944\n",
      "Gradient: 5.324502473065599\n",
      "Gradient: 4.001180074438756\n",
      "Gradient: 4.107917616818221\n",
      "Gradient: 4.5456034066829725\n",
      "Gradient: 5.034892690457617\n",
      "Gradient: 4.933019435620747\n",
      "Gradient: 5.684875869719067\n",
      "Gradient: 4.583409404202743\n",
      "Gradient: 1.5819238555988089\n",
      "Gradient: 0.0\n",
      "Correct\n",
      "Fold 24 of 30: Gradient: 5.052697402694124\n",
      "Gradient: 5.490012417555949\n",
      "Gradient: 4.289450606610758\n",
      "Gradient: 4.664241819453658\n",
      "Gradient: 3.8462039384669735\n",
      "Gradient: 4.5590290856601\n",
      "Gradient: 5.25391986930282\n",
      "Gradient: 4.329630731986955\n",
      "Gradient: 5.240623966364774\n",
      "Gradient: 4.6087033210288615\n",
      "Gradient: 4.956422751692701\n",
      "Gradient: 5.0657206677337285\n",
      "Gradient: 5.995445439291744\n",
      "Gradient: 5.056590562336903\n",
      "Gradient: 5.192084702670319\n",
      "Gradient: 4.669188759237374\n",
      "Gradient: 5.3401379190398925\n",
      "Gradient: 4.744333490313148\n",
      "Gradient: 3.4379522719614934\n",
      "Gradient: 4.5456034066829725\n",
      "Gradient: 4.930458636135588\n",
      "Gradient: 3.8269526950487402\n",
      "Gradient: 5.513450138876341\n",
      "Gradient: 4.5669565008892405\n",
      "Gradient: 5.269886044968427\n",
      "Gradient: 3.6942371031142915\n",
      "Gradient: 4.764094455961562\n",
      "Gradient: 4.939040892551513\n",
      "Gradient: 5.2596134771949155\n",
      "Gradient: 4.689144583046694\n",
      "Gradient: 5.298623037341909\n",
      "Gradient: 4.8417283263945405\n",
      "Gradient: 6.043549703521523\n",
      "Gradient: 4.96673515276032\n",
      "Gradient: 5.010718221806755\n",
      "Gradient: 1.0532383318328666\n",
      "Gradient: 0.0\n",
      "Correct\n",
      "Fold 25 of 30: Gradient: 5.052697402694124\n",
      "Gradient: 5.499042993740798\n",
      "Gradient: 4.886501250514375\n",
      "Gradient: 4.674867832616408\n",
      "Gradient: 4.517759303486409\n",
      "Gradient: 4.396663756596327\n",
      "Gradient: 5.263355535696426\n",
      "Gradient: 4.184305426278744\n",
      "Gradient: 5.250083528757244\n",
      "Gradient: 4.6087033210288615\n",
      "Gradient: 4.966423662514939\n",
      "Gradient: 4.910575978013207\n",
      "Gradient: 5.995445439291744\n",
      "Gradient: 5.071017814595703\n",
      "Gradient: 5.201632538135925\n",
      "Gradient: 4.677302369966944\n",
      "Gradient: 5.3401379190398925\n",
      "Gradient: 4.001180074438756\n",
      "Gradient: 4.140165583324268\n",
      "Gradient: 5.006482937913637\n",
      "Gradient: 5.051424632032984\n",
      "Gradient: 2.894225524137603\n",
      "Gradient: 5.555959041001368\n",
      "Gradient: 4.402747239455611\n",
      "Gradient: 0.0\n",
      "Correct\n",
      "Fold 26 of 30: Gradient: 5.026614175045621\n",
      "Gradient: 5.728189741019516\n",
      "Gradient: 4.859239945446491\n",
      "Gradient: 4.8350856753399185\n",
      "Gradient: 3.6622754808043325\n",
      "Gradient: 4.506083537515415\n",
      "Gradient: 5.278476812312705\n",
      "Gradient: 4.19297806491511\n",
      "Gradient: 5.224985749311258\n",
      "Gradient: 4.6087033210288615\n",
      "Gradient: 4.966423662514939\n",
      "Gradient: 4.88373376193031\n",
      "Gradient: 6.118237372968109\n",
      "Gradient: 5.435771315960884\n",
      "Gradient: 4.961757738412182\n",
      "Gradient: 4.636263503607154\n",
      "Gradient: 5.315465362124499\n",
      "Gradient: 3.968191150847366\n",
      "Gradient: 4.140165583324268\n",
      "Gradient: 4.5456034066829725\n",
      "Gradient: 4.799220932251655\n",
      "Gradient: 4.959905711098681\n",
      "Gradient: 5.670462959739972\n",
      "Gradient: 5.115941001952938\n",
      "Gradient: 4.958724125680421\n",
      "Gradient: 1.6715479965251991\n",
      "Gradient: 0.0\n",
      "Correct\n",
      "Fold 27 of 30: Gradient: 5.020409411176324\n",
      "Gradient: 5.722745695920751\n",
      "Gradient: 4.536394002081942\n",
      "Gradient: 4.66819556611437\n",
      "Gradient: 4.206286488231758\n",
      "Gradient: 4.960656079864058\n",
      "Gradient: 5.263355535696426\n",
      "Gradient: 4.152771474806116\n",
      "Gradient: 5.21901682997516\n",
      "Gradient: 4.141863711834604\n",
      "Gradient: 4.831060945801517\n",
      "Gradient: 4.455707216535\n",
      "Gradient: 6.113140693869392\n",
      "Gradient: 5.4300341058304005\n",
      "Gradient: 4.961757738412182\n",
      "Gradient: 4.637718583166475\n",
      "Gradient: 5.315465362124499\n",
      "Gradient: 2.4118693529977753\n",
      "Gradient: 4.005167493237018\n",
      "Gradient: 4.8910339621512735\n",
      "Gradient: 5.567049103300464\n",
      "Gradient: 2.894225524137603\n",
      "Gradient: 5.532249080334548\n",
      "Gradient: 4.843490770804752\n",
      "Gradient: 5.1348231566864735\n",
      "Gradient: 4.616411853081796\n",
      "Gradient: 3.88965636458493\n",
      "Gradient: 4.932725973470884\n",
      "Gradient: 5.263119989382712\n",
      "Gradient: 4.693077350083382\n",
      "Gradient: 5.267842604376696\n",
      "Gradient: 4.845537253985441\n",
      "Gradient: 6.043549703521523\n",
      "Gradient: 4.9767153404385445\n",
      "Gradient: 3.563506864276887\n",
      "Gradient: 0.0\n",
      "Correct\n",
      "Fold 28 of 30: Gradient: 5.020409411176324\n",
      "Gradient: 5.609153568103316\n",
      "Gradient: 4.398666420614031\n",
      "Gradient: 4.686035564227355\n",
      "Gradient: 4.206286488231758\n",
      "Gradient: 4.547368918686172\n",
      "Gradient: 5.155104548746763\n",
      "Gradient: 4.036564195357971\n",
      "Gradient: 4.643864018224868\n",
      "Gradient: 4.645126404368724\n",
      "Gradient: 4.960143605445969\n",
      "Gradient: 4.903985210675822\n",
      "Gradient: 5.954320589215062\n",
      "Gradient: 5.174542640245305\n",
      "Gradient: 4.830302817120253\n",
      "Gradient: 4.479304009879621\n",
      "Gradient: 5.315465362124499\n",
      "Gradient: 2.4118693529977753\n",
      "Gradient: 4.005167493237018\n",
      "Gradient: 4.8910339621512735\n",
      "Gradient: 4.212426255907256\n",
      "Gradient: 4.921533787077456\n",
      "Gradient: 5.280782445692941\n",
      "Gradient: 5.115941001952938\n",
      "Gradient: 4.735437184777221\n",
      "Gradient: 4.474823331446815\n",
      "Gradient: 4.10835751366169\n",
      "Gradient: 4.932725973470884\n",
      "Gradient: 5.139379094115024\n",
      "Gradient: 4.0561351296444315\n",
      "Gradient: 5.267842604376696\n",
      "Gradient: 3.870797145254425\n",
      "Gradient: 5.9360996006908255\n",
      "Gradient: 4.864986245745825\n",
      "Gradient: 3.5343281463025633\n",
      "Gradient: 2.19830682289684\n",
      "Gradient: 0.0\n",
      "Correct\n",
      "Fold 29 of 30: Gradient: 5.004007943275237\n",
      "Gradient: 5.594478402058589\n",
      "Gradient: 4.421277339170926\n",
      "Gradient: 4.5282265064676865\n",
      "Gradient: 3.8462039384669735\n",
      "Gradient: 4.534092151190452\n",
      "Gradient: 5.139620311417264\n",
      "Gradient: 4.036564195357971\n",
      "Gradient: 4.949078731723602\n",
      "Gradient: 4.141863711834604\n",
      "Gradient: 4.9435421943360005\n",
      "Gradient: 4.903985210675822\n",
      "Gradient: 6.09967818688624\n",
      "Gradient: 5.17548358110709\n",
      "Gradient: 4.813253592489565\n",
      "Gradient: 4.470831088535319\n",
      "Gradient: 3.9068587280449765\n",
      "Gradient: 3.945711272215962\n",
      "Gradient: 4.140165583324268\n",
      "Gradient: 3.1457934170337656\n",
      "Gradient: 0.0\n",
      "Correct\n",
      "Fold 30 of 30: Gradient: 5.054437512902216\n",
      "Gradient: 5.624989539238042\n",
      "Gradient: 4.07314205662604\n",
      "Gradient: 4.851404249117788\n",
      "Gradient: 4.517759303486409\n",
      "Gradient: 4.547138197355751\n",
      "Gradient: 5.139620311417264\n",
      "Gradient: 4.190193936781904\n",
      "Gradient: 3.4750630125773943\n",
      "Gradient: 4.1900608837386315\n",
      "Gradient: 4.932587702211296\n",
      "Gradient: 4.903985210675822\n",
      "Gradient: 5.762768122756601\n",
      "Gradient: 5.1586312502688845\n",
      "Gradient: 5.36752580522954\n",
      "Gradient: 4.480847634169923\n",
      "Gradient: 4.912040010034979\n",
      "Gradient: 5.058277166502199\n",
      "Gradient: 4.140165583324268\n",
      "Gradient: 4.538741116422712\n",
      "Gradient: 4.985033341959395\n",
      "Gradient: 4.955853907077394\n",
      "Gradient: 5.650433223158654\n",
      "Gradient: 4.869967829597138\n",
      "Gradient: 5.149891500846319\n",
      "Gradient: 3.8071002103882297\n",
      "Gradient: 3.7134509717038706\n",
      "Gradient: 4.927594675884214\n",
      "Gradient: 4.879129880780339\n",
      "Gradient: 4.693077350083382\n",
      "Gradient: 5.154140223344061\n",
      "Gradient: 4.602576831499573\n",
      "Gradient: 5.931481049933476\n",
      "Gradient: 5.360034289706836\n",
      "Gradient: 5.102213055576628\n",
      "Gradient: 2.5929214997667636\n",
      "Gradient: 4.619166306603607\n",
      "Gradient: 5.064722143741348\n",
      "Gradient: 4.092367176376729\n",
      "Gradient: 4.864580650407521\n",
      "Gradient: 4.655857246549\n",
      "Gradient: 5.400214685420015\n",
      "Gradient: 0.0\n",
      "Correct\n",
      "Cross-validation accuracy (batch): 0.9666666666666667\n"
     ]
    }
   ],
   "source": [
    "stoch_accuracy = leave_one_out_cross_val(X_norm, y, fit_stoch)\n",
    "print('Cross-validation accuracy (batch):', stoch_accuracy)"
   ]
  },
  {
   "cell_type": "markdown",
   "id": "global-difficulty",
   "metadata": {},
   "source": [
    "## Visualizing the logistic surface"
   ]
  },
  {
   "cell_type": "code",
   "execution_count": 127,
   "id": "sunrise-tractor",
   "metadata": {},
   "outputs": [],
   "source": [
    "def plot_logistic_surf(x_range, y_range, w_opt):\n",
    "    z_axis = np.array([[0.0] * len(y_range) for i in range(len(x_range))])\n",
    "    x_axis, y_axis = np.meshgrid(x_range, y_range)\n",
    "    z_axis = z_axis.reshape(x_axis.shape)\n",
    "\n",
    "    # We compute the probability surface as a function of x and y\n",
    "    for i in range(len(x_range)):\n",
    "        for j in range(len(y_range)):\n",
    "            z_axis[j, i] = logistic(np.dot([1, x_range[i], y_range[j]], w_opt))\n",
    "    return x_axis, y_axis, z_axis"
   ]
  },
  {
   "cell_type": "code",
   "execution_count": 128,
   "id": "confirmed-plastic",
   "metadata": {},
   "outputs": [
    {
     "name": "stderr",
     "output_type": "stream",
     "text": [
      "/tmp/ipykernel_18311/1728859832.py:4: RuntimeWarning: overflow encountered in exp\n",
      "  res = 1/(1+np.exp(-x))\n",
      "/tmp/ipykernel_18311/3513707031.py:8: MatplotlibDeprecationWarning: Axes3D(fig) adding itself to the figure is deprecated since 3.4. Pass the keyword argument auto_add_to_figure=False and use fig.add_axes(ax) to suppress this warning. The default value of auto_add_to_figure will change to False in mpl3.5 and True values will no longer work in 3.6.  This is consistent with other Axes classes.\n",
      "  ax = Axes3D(fig)\n"
     ]
    },
    {
     "data": {
      "image/png": "[encoded data removed]",
      "text/plain": [
       "<Figure size 432x288 with 2 Axes>"
      ]
     },
     "metadata": {
      "needs_background": "light"
     },
     "output_type": "display_data"
    }
   ],
   "source": [
    "x_range = np.linspace(0, 100000, 200)\n",
    "y_range = np.linspace(0, 10000, 200)\n",
    "#w = [2.073225839414742, -0.049125455233437906, 0.7440143556104162]\n",
    "\n",
    "x_axis, y_axis, z_axis = plot_logistic_surf(x_range, y_range, w)\n",
    "\n",
    "fig = plt.figure()\n",
    "ax = Axes3D(fig)\n",
    "# ax = fig.gca(projection='3d')\n",
    "\n",
    "surf = ax.plot_surface(y_axis, x_axis, z_axis, rstride=1, cstride=1, cmap=cm.coolwarm,\n",
    "                       linewidth=0, antialiased=False, alpha=0.2)\n",
    "fig.colorbar(surf, shrink=0.5, aspect=5)\n",
    "# We plot the observations\n",
    "for x, y_class in zip(X, y):\n",
    "    if y_class == 1:\n",
    "        ax.scatter(x[2], x[1], y_class, color='green', marker='x')\n",
    "    else:\n",
    "        ax.scatter(x[2], x[1], y_class, color='red', marker='x')\n",
    "\n",
    "ax.elev = 30 \n",
    "ax.azim = -150\n",
    "plt.show()"
   ]
  },
  {
   "cell_type": "markdown",
   "id": "acoustic-ideal",
   "metadata": {},
   "source": [
    "## Programming logistic regression with popular APIs\n",
    "Should you use logistic regression in a project, you will probably resort to existing libraries. In the next cells, you will apply the logistic regression classification with two popular APIs:\n",
    "1. sklearn\n",
    "2. Keras\n",
    "\n",
    "`sklearn` is included in anaconda.\n",
    "You will install the rest with:\n",
    "```\n",
    "pip install --upgrade keras tensorflow tensorflow-addons \n",
    "```\n",
    "You will read and run the code in the cells below."
   ]
  },
  {
   "cell_type": "markdown",
   "id": "synthetic-karma",
   "metadata": {},
   "source": [
    "All these APIs are built on numpy and we convert the dataset into numpy if you have not done it already"
   ]
  },
  {
   "cell_type": "code",
   "execution_count": 129,
   "id": "horizontal-celebrity",
   "metadata": {},
   "outputs": [],
   "source": [
    "X = np.array(X)\n",
    "X_norm = np.array(X_norm)\n",
    "y = np.array(y)"
   ]
  },
  {
   "cell_type": "markdown",
   "id": "linear-institution",
   "metadata": {},
   "source": [
    "They also handle the intercept so we do not need the first column of ones."
   ]
  },
  {
   "cell_type": "code",
   "execution_count": 130,
   "id": "thick-leadership",
   "metadata": {},
   "outputs": [],
   "source": [
    "X = X[:, 1:]\n",
    "X_norm = X_norm[:, 1:]"
   ]
  },
  {
   "cell_type": "markdown",
   "id": "phantom-peter",
   "metadata": {},
   "source": [
    "### sklearn\n",
    "Using the dataset of English and French datapoints, we apply logistic regression with the sklearn API. We need the `LogisticRegression` class, the fit() and predict() functions. The weights are in the `coef_` field."
   ]
  },
  {
   "cell_type": "code",
   "execution_count": 131,
   "id": "adult-young",
   "metadata": {},
   "outputs": [
    {
     "data": {
      "text/plain": [
       "array([[-0.03372363,  0.51169867]])"
      ]
     },
     "execution_count": 131,
     "metadata": {},
     "output_type": "execute_result"
    }
   ],
   "source": [
    "from sklearn.linear_model import LogisticRegression\n",
    "model = LogisticRegression()\n",
    "model = model.fit(X, y)\n",
    "model.coef_"
   ]
  },
  {
   "cell_type": "markdown",
   "id": "effective-adventure",
   "metadata": {},
   "source": [
    "We predict the classes of the $\\mathbf{X}$ with the `predict()` function"
   ]
  },
  {
   "cell_type": "code",
   "execution_count": 132,
   "id": "bizarre-african",
   "metadata": {},
   "outputs": [
    {
     "data": {
      "text/plain": [
       "array([0., 0., 0., 0., 0., 0., 0., 0., 0., 0., 0., 0., 0., 0., 0., 1., 1.,\n",
       "       1., 1., 1., 1., 1., 1., 1., 1., 1., 1., 1., 1., 1.])"
      ]
     },
     "execution_count": 132,
     "metadata": {},
     "output_type": "execute_result"
    }
   ],
   "source": [
    "model.predict(X)"
   ]
  },
  {
   "cell_type": "markdown",
   "id": "dental-watson",
   "metadata": {},
   "source": [
    "We predict the class probabilities of the $\\mathbf{X}$ with the `predict_proba()` function"
   ]
  },
  {
   "cell_type": "code",
   "execution_count": 133,
   "id": "composed-playlist",
   "metadata": {},
   "outputs": [
    {
     "data": {
      "text/plain": [
       "array([[1.00000000e+00, 1.28980319e-30],\n",
       "       [9.99999999e-01, 8.16295157e-10],\n",
       "       [9.91302434e-01, 8.69756611e-03],\n",
       "       [1.00000000e+00, 2.35657080e-12],\n",
       "       [1.00000000e+00, 1.01085544e-22],\n",
       "       [1.00000000e+00, 3.56287478e-11],\n",
       "       [1.00000000e+00, 1.62389438e-24],\n",
       "       [1.00000000e+00, 5.76610689e-17],\n",
       "       [1.00000000e+00, 2.72458519e-12],\n",
       "       [9.94843591e-01, 5.15640906e-03],\n",
       "       [9.89714656e-01, 1.02853437e-02],\n",
       "       [1.00000000e+00, 4.22127774e-11],\n",
       "       [1.00000000e+00, 1.22665951e-41],\n",
       "       [1.00000000e+00, 7.37721442e-22],\n",
       "       [1.00000000e+00, 3.90177203e-16],\n",
       "       [1.33226763e-15, 1.00000000e+00],\n",
       "       [0.00000000e+00, 1.00000000e+00],\n",
       "       [1.92390717e-02, 9.80760928e-01],\n",
       "       [0.00000000e+00, 1.00000000e+00],\n",
       "       [1.01629571e-09, 9.99999999e-01],\n",
       "       [0.00000000e+00, 1.00000000e+00],\n",
       "       [0.00000000e+00, 1.00000000e+00],\n",
       "       [0.00000000e+00, 1.00000000e+00],\n",
       "       [0.00000000e+00, 1.00000000e+00],\n",
       "       [0.00000000e+00, 1.00000000e+00],\n",
       "       [0.00000000e+00, 1.00000000e+00],\n",
       "       [0.00000000e+00, 1.00000000e+00],\n",
       "       [0.00000000e+00, 1.00000000e+00],\n",
       "       [0.00000000e+00, 1.00000000e+00],\n",
       "       [1.80182968e-02, 9.81981703e-01]])"
      ]
     },
     "execution_count": 133,
     "metadata": {},
     "output_type": "execute_result"
    }
   ],
   "source": [
    "model.predict_proba(X)"
   ]
  },
  {
   "cell_type": "markdown",
   "id": "developing-oxygen",
   "metadata": {},
   "source": [
    "### Keras\n",
    "Using the dataset of English and French datapoints, we apply logistic regression with Keras. We need the `Sequential` and `Dense` classes."
   ]
  },
  {
   "cell_type": "code",
   "execution_count": 134,
   "id": "urban-analysis",
   "metadata": {},
   "outputs": [
    {
     "name": "stderr",
     "output_type": "stream",
     "text": [
      "2022-02-23 20:43:55.777892: W tensorflow/stream_executor/platform/default/dso_loader.cc:64] Could not load dynamic library 'libcudart.so.11.0'; dlerror: libcudart.so.11.0: cannot open shared object file: No such file or directory\n",
      "2022-02-23 20:43:55.777909: I tensorflow/stream_executor/cuda/cudart_stub.cc:29] Ignore above cudart dlerror if you do not have a GPU set up on your machine.\n"
     ]
    }
   ],
   "source": [
    "from tensorflow.keras import Sequential \n",
    "from tensorflow.keras.layers import Dense"
   ]
  },
  {
   "cell_type": "code",
   "execution_count": 135,
   "id": "healthy-kingdom",
   "metadata": {},
   "outputs": [
    {
     "name": "stdout",
     "output_type": "stream",
     "text": [
      "Model: \"sequential\"\n",
      "_________________________________________________________________\n",
      " Layer (type)                Output Shape              Param #   \n",
      "=================================================================\n",
      " dense (Dense)               (None, 1)                 3         \n",
      "                                                                 \n",
      "=================================================================\n",
      "Total params: 3\n",
      "Trainable params: 3\n",
      "Non-trainable params: 0\n",
      "_________________________________________________________________\n"
     ]
    },
    {
     "name": "stderr",
     "output_type": "stream",
     "text": [
      "2022-02-23 20:43:57.200770: W tensorflow/stream_executor/platform/default/dso_loader.cc:64] Could not load dynamic library 'libcuda.so.1'; dlerror: libcuda.so.1: cannot open shared object file: No such file or directory\n",
      "2022-02-23 20:43:57.200793: W tensorflow/stream_executor/cuda/cuda_driver.cc:269] failed call to cuInit: UNKNOWN ERROR (303)\n",
      "2022-02-23 20:43:57.200808: I tensorflow/stream_executor/cuda/cuda_diagnostics.cc:156] kernel driver does not appear to be running on this host (x1): /proc/driver/nvidia/version does not exist\n",
      "2022-02-23 20:43:57.201265: I tensorflow/core/platform/cpu_feature_guard.cc:151] This TensorFlow binary is optimized with oneAPI Deep Neural Network Library (oneDNN) to use the following CPU instructions in performance-critical operations:  AVX2 AVX512F FMA\n",
      "To enable them in other operations, rebuild TensorFlow with the appropriate compiler flags.\n"
     ]
    }
   ],
   "source": [
    "model = Sequential()\n",
    "model.add(Dense(1, input_dim=2, activation='sigmoid'))\n",
    "model.compile(loss='binary_crossentropy',\n",
    "              optimizer='nadam',\n",
    "              metrics=['accuracy'])\n",
    "model.summary()"
   ]
  },
  {
   "cell_type": "markdown",
   "id": "animated-baseball",
   "metadata": {},
   "source": [
    "We fit the model"
   ]
  },
  {
   "cell_type": "code",
   "execution_count": 136,
   "id": "critical-banner",
   "metadata": {},
   "outputs": [
    {
     "data": {
      "text/plain": [
       "<keras.callbacks.History at 0x7f202c5fbe20>"
      ]
     },
     "execution_count": 136,
     "metadata": {},
     "output_type": "execute_result"
    }
   ],
   "source": [
    "model.fit(X, y, epochs=1500, batch_size=4, verbose=0)"
   ]
  },
  {
   "cell_type": "code",
   "execution_count": 137,
   "id": "simple-aside",
   "metadata": {},
   "outputs": [
    {
     "data": {
      "text/plain": [
       "array([0., 0., 0., 0., 0., 0., 0., 0., 0., 0., 0., 0., 0., 0., 0., 1., 1.,\n",
       "       1., 1., 1., 1., 1., 1., 1., 1., 1., 1., 1., 1., 1.])"
      ]
     },
     "execution_count": 137,
     "metadata": {},
     "output_type": "execute_result"
    }
   ],
   "source": [
    "y"
   ]
  },
  {
   "cell_type": "code",
   "execution_count": 138,
   "id": "genuine-latino",
   "metadata": {},
   "outputs": [
    {
     "data": {
      "text/plain": [
       "array([[0.0000000e+00],\n",
       "       [5.0084039e-17],\n",
       "       [4.3976307e-04],\n",
       "       [1.9030906e-21],\n",
       "       [0.0000000e+00],\n",
       "       [2.0348622e-19],\n",
       "       [0.0000000e+00],\n",
       "       [1.0608102e-29],\n",
       "       [2.8540888e-21],\n",
       "       [1.2347102e-04],\n",
       "       [2.8914213e-04],\n",
       "       [2.8203023e-19],\n",
       "       [0.0000000e+00],\n",
       "       [0.0000000e+00],\n",
       "       [6.2490947e-28],\n",
       "       [1.0000000e+00],\n",
       "       [1.0000000e+00],\n",
       "       [9.9954998e-01],\n",
       "       [1.0000000e+00],\n",
       "       [1.0000000e+00],\n",
       "       [1.0000000e+00],\n",
       "       [1.0000000e+00],\n",
       "       [1.0000000e+00],\n",
       "       [1.0000000e+00],\n",
       "       [1.0000000e+00],\n",
       "       [1.0000000e+00],\n",
       "       [1.0000000e+00],\n",
       "       [1.0000000e+00],\n",
       "       [1.0000000e+00],\n",
       "       [9.9956280e-01]], dtype=float32)"
      ]
     },
     "execution_count": 138,
     "metadata": {},
     "output_type": "execute_result"
    }
   ],
   "source": [
    "model.predict(X)"
   ]
  },
  {
   "cell_type": "code",
   "execution_count": 139,
   "id": "contemporary-museum",
   "metadata": {},
   "outputs": [
    {
     "data": {
      "text/plain": [
       "array([[0],\n",
       "       [0],\n",
       "       [0],\n",
       "       [0],\n",
       "       [0],\n",
       "       [0],\n",
       "       [0],\n",
       "       [0],\n",
       "       [0],\n",
       "       [0],\n",
       "       [0],\n",
       "       [0],\n",
       "       [0],\n",
       "       [0],\n",
       "       [0],\n",
       "       [1],\n",
       "       [1],\n",
       "       [1],\n",
       "       [1],\n",
       "       [1],\n",
       "       [1],\n",
       "       [1],\n",
       "       [1],\n",
       "       [1],\n",
       "       [1],\n",
       "       [1],\n",
       "       [1],\n",
       "       [1],\n",
       "       [1],\n",
       "       [1]], dtype=int32)"
      ]
     },
     "execution_count": 139,
     "metadata": {},
     "output_type": "execute_result"
    }
   ],
   "source": [
    "(model.predict(X) > 0.5).astype('int32')"
   ]
  },
  {
   "cell_type": "markdown",
   "id": "close-premium",
   "metadata": {},
   "source": [
    "If you do not obtain a correct classification, rerun the training with more epochs."
   ]
  },
  {
   "cell_type": "markdown",
   "id": "handmade-involvement",
   "metadata": {},
   "source": [
    "## Reading\n",
    "You will read the article *An overview of gradient descent optimization algorithms* by Ruder (2017) and you will outline the main characteristics of all the optimization algorithms the author describes. This part should be of about one to two pages. Link to the article: https://arxiv.org/abs/1609.04747\n",
    "\n",
    "If you understand French, or using Google translate, you may also want to read the original article on gradient descent by Cauchy here:  https://gallica.bnf.fr/ark:/12148/bpt6k2982c/f540.item.\n"
   ]
  },
  {
   "cell_type": "markdown",
   "id": "packed-student",
   "metadata": {},
   "source": [
    "### Report\n",
    "\n",
    "The assignment must be documented in the report, which should contain the following:\n",
    "\n",
    "*   The name of the author, the title of the assignment, and any relevant information on the front page;\n",
    "*   A presentation of the assignment and the possible improvements you would have brought;\n",
    "*   A presentation of your implementation;\n",
    "*   A print-out of the example set(s) and the resulting weight vectors;\n",
    "*   Comments on the results you have obtained, including your cross validation;\n",
    "*   A short dissertation on the optimization algorithms from Ruder's paper.\n",
    "\n",
    "Please, typeset and format your report consistently. You must use Latex. Documents written using MS Word or any similar format will not be considered.\n",
    "\n",
    "You may have a look at the code in the textbook code repository (or any other implementations), but the code you hand in must be your work."
   ]
  },
  {
   "cell_type": "markdown",
   "id": "apparent-cedar",
   "metadata": {},
   "source": [
    "## Submission\n",
    "Submit the notebook and the report to Canvas (two files). Do not include the code printout in the report, but only comments on its interesting parts. You will submit the notebook as a separate file."
   ]
  },
  {
   "cell_type": "code",
   "execution_count": null,
   "id": "endangered-occurrence",
   "metadata": {},
   "outputs": [],
   "source": []
  }
 ],
 "metadata": {
  "interpreter": {
   "hash": "155815c8bdaef462b0b1840019633c228289164bf116b537046a15f52da6b4c6"
  },
  "kernelspec": {
   "display_name": "Python 3.8.12 64-bit ('env': venv)",
   "name": "python3"
  },
  "language_info": {
   "codemirror_mode": {
    "name": "ipython",
    "version": 3
   },
   "file_extension": ".py",
   "mimetype": "text/x-python",
   "name": "python",
   "nbconvert_exporter": "python",
   "pygments_lexer": "ipython3",
   "version": "3.8.12"
  }
 },
 "nbformat": 4,
 "nbformat_minor": 5
}
